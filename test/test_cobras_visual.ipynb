{
 "cells": [
  {
   "cell_type": "code",
   "execution_count": null,
   "metadata": {},
   "outputs": [],
   "source": [
    "import sys\n",
    "import copy\n",
    "import torch\n",
    "import numpy as np\n",
    "import scipy as sp\n",
    "import pandas as pd\n",
    "import dill as pickle\n",
    "import tensorflow as tf\n",
    "import matplotlib.pyplot as plt\n",
    "# mpl_style = \"/home/zanardi/Workspace/Research/styles/matplotlib/paper_1column.mplstyle\",\n",
    "# plt.style.use(mpl_style)"
   ]
  },
  {
   "cell_type": "code",
   "execution_count": null,
   "metadata": {},
   "outputs": [],
   "source": [
    "sys.path.append(\"/home/zanardi/Codes/ML/ROMAr/romar/\")\n",
    "from romar import env\n",
    "from romar import const\n",
    "from romar import utils\n",
    "from romar import backend as bkd\n",
    "from romar.systems import BoxAd\n",
    "from romar.roms import PCA\n",
    "from romar import backend as bkd\n",
    "\n",
    "import romar.postproc.plotting as pltt"
   ]
  },
  {
   "cell_type": "code",
   "execution_count": null,
   "metadata": {},
   "outputs": [],
   "source": [
    "env_opts = {\n",
    "  \"backend\": \"numpy\",\n",
    "  \"device\": \"cpu\",\n",
    "  \"device_idx\": 0,\n",
    "  \"nb_threads\": 2,\n",
    "  \"epsilon\": None,\n",
    "  \"floatx\": \"float64\"\n",
    "}\n",
    "env.set(**env_opts)"
   ]
  },
  {
   "cell_type": "code",
   "execution_count": null,
   "metadata": {},
   "outputs": [],
   "source": [
    "path_to_dtb = \"/home/zanardi/Codes/ML/ROMAr/romar/examples/database\"\n",
    "path_to_basis1 = \"/home/zanardi/Codes/ML/ROMAr/run/test1/max_mom_2_Tfull/cobras_basis.p\"\n",
    "path_to_basis2 = \"/home/zanardi/Codes/ML/ROMAr/run_old2/rad_on_test10/max_mom_2a/cobras_basis.p\"\n",
    "# path_to_basis = \"/home/zanardi/Codes/ML/ROMAr/run/test1/max_mom_2_Tfull/cobras_basis.p\"\n",
    "path_to_mask = \"/home/zanardi/Codes/ML/ROMAr/run/rad_on_test1/max_mom_2/rom_mask.txt\"\n",
    "path_to_data = \"/home/zanardi/Codes/ML/ROMAr/runs/run01/data/test/\"\n",
    "# cases = [\"lrho_lT\", \"lrho_hT\", \"hrho_lT\", \"hrho_hT\", \"mrho_mT\"]\n",
    "cases = [\"mrho_mT\"]"
   ]
  },
  {
   "cell_type": "code",
   "execution_count": null,
   "metadata": {},
   "outputs": [],
   "source": [
    "system = BoxAd(\n",
    "  species={k: path_to_dtb + \"/species/\" + k + \".json\" for k in (\"Ar\", \"Arp\", \"em\")},\n",
    "  kin_dtb=path_to_dtb + \"/rates/kin_fit.p\",\n",
    "  rad_dtb=path_to_dtb + \"/rates/rad_fit.p\",\n",
    "  use_rad=True,\n",
    "  use_proj=False,\n",
    "  use_tables=False\n",
    ")"
   ]
  },
  {
   "cell_type": "code",
   "execution_count": null,
   "metadata": {},
   "outputs": [],
   "source": [
    "# basis1 = pickle.load(open(path_to_basis1, \"rb\"))\n",
    "# basis1[\"xref\"], basis1[\"xscale\"]"
   ]
  },
  {
   "cell_type": "code",
   "execution_count": null,
   "metadata": {},
   "outputs": [],
   "source": [
    "basis1 = pickle.load(open(path_to_basis1, \"rb\"))\n",
    "basis2 = pickle.load(open(path_to_basis2, \"rb\"))"
   ]
  },
  {
   "cell_type": "code",
   "execution_count": null,
   "metadata": {},
   "outputs": [],
   "source": [
    "# for k in (\"xref\", \"xscale\"):\n",
    "#   err = np.abs((basis1[k] - basis[k]) / basis1[k])\n",
    "#   print(err.max())\n",
    "# for k in (\"phi\", \"psi\"):\n",
    "#   err = np.abs((basis1[k][34] - basis[k][34]) / basis1[k][34])\n",
    "#   print(err.max())"
   ]
  },
  {
   "cell_type": "code",
   "execution_count": null,
   "metadata": {},
   "outputs": [],
   "source": [
    "ph2 = basis2[\"phi\"][34][:,:10]\n",
    "ps2 = basis2[\"psi\"][34][:,:10]\n",
    "P2 = ph2 @ np.linalg.inv(ps2.T @ ph2) @ ps2.T"
   ]
  },
  {
   "cell_type": "code",
   "execution_count": null,
   "metadata": {},
   "outputs": [],
   "source": [
    "ph1 = basis1[\"phi\"][34][:,:10]\n",
    "ps1 = basis1[\"psi\"][34][:,:10]\n",
    "P1 = ph1 @ np.linalg.inv(ps1.T @ ph1) @ ps1.T"
   ]
  },
  {
   "cell_type": "code",
   "execution_count": null,
   "metadata": {},
   "outputs": [],
   "source": [
    "np.linalg.norm(P1 - P2)/np.linalg.norm(P1)"
   ]
  },
  {
   "cell_type": "code",
   "execution_count": null,
   "metadata": {},
   "outputs": [],
   "source": [
    "cov_mats_path = \"/home/zanardi/Codes/ML/ROMAr/runs/run01/max_mom_2/cobras_cov_mats.p\"\n",
    "X, Y = pickle.load(open(cov_mats_path, \"rb\"))"
   ]
  },
  {
   "cell_type": "code",
   "execution_count": null,
   "metadata": {},
   "outputs": [],
   "source": [
    "Y.shape"
   ]
  },
  {
   "cell_type": "code",
   "execution_count": null,
   "metadata": {},
   "outputs": [],
   "source": [
    "np.linalg.norm(X[1:-2], axis=0).max()"
   ]
  },
  {
   "cell_type": "code",
   "execution_count": null,
   "metadata": {},
   "outputs": [],
   "source": [
    "norm = np.linalg.norm(Y[:-2], axis=0)\n",
    "i = np.where(norm > 1e3)[0]\n",
    "i"
   ]
  },
  {
   "cell_type": "code",
   "execution_count": null,
   "metadata": {},
   "outputs": [],
   "source": [
    "!pip install seaborn"
   ]
  },
  {
   "cell_type": "code",
   "execution_count": null,
   "metadata": {},
   "outputs": [],
   "source": [
    "import numpy as np; np.random.seed(1)\n",
    "import matplotlib.pyplot as plt\n",
    "import seaborn as sns\n",
    "\n",
    "n = norm[i]\n",
    "sns.distplot(n, bins=np.arange(0,16), hist_kws=dict(ec=\"k\"))\n",
    "\n",
    "plt.show()"
   ]
  },
  {
   "cell_type": "code",
   "execution_count": null,
   "metadata": {},
   "outputs": [],
   "source": [
    "for i in range(10):\n",
    "  nb = str(i+1)\n",
    "  b = basis[\"phi\"][30][:,i]\n",
    "  pltt.plot_dist_2d(\n",
    "    x=np.arange(len(b)),\n",
    "    y=b,\n",
    "    labels=[r\"$\\epsilon_i$ [eV]\", r\"$\\%s_{%s}$\" % (\"phi\", nb)],\n",
    "    scales=[\"linear\", \"linear\"],\n",
    "    markersize=1,\n",
    "    # figname=path + f\"/{name}_{nb.zfill(2)}\",\n",
    "    save=False,\n",
    "    show=True\n",
    "  )"
   ]
  },
  {
   "cell_type": "code",
   "execution_count": null,
   "metadata": {},
   "outputs": [],
   "source": [
    "for i in range(10):\n",
    "  nb = str(i+1)\n",
    "  b = basis[\"psi\"][30][:,i]\n",
    "  pltt.plot_dist_2d(\n",
    "    x=np.arange(len(b)),\n",
    "    y=b,\n",
    "    labels=[r\"$\\epsilon_i$ [eV]\", r\"$\\%s_{%s}$\" % (\"psi\", nb)],\n",
    "    scales=[\"linear\", \"linear\"],\n",
    "    markersize=1,\n",
    "    # figname=path + f\"/{name}_{nb.zfill(2)}\",\n",
    "    save=False,\n",
    "    show=True\n",
    "  )"
   ]
  },
  {
   "cell_type": "markdown",
   "metadata": {},
   "source": [
    "Load test cases"
   ]
  },
  {
   "cell_type": "code",
   "execution_count": null,
   "metadata": {},
   "outputs": [],
   "source": [
    "testcases = {k: utils.load_case(filename=path_to_data + \"case_\" + k + \".p\") for k in cases}"
   ]
  },
  {
   "cell_type": "code",
   "execution_count": null,
   "metadata": {},
   "outputs": [],
   "source": [
    "for k, testcase in testcases.items():\n",
    "  # Testcase\n",
    "  print(k)\n",
    "  print(\"=\"*20)\n",
    "  t, y, rho = [testcase[k] for k in (\"t\", \"y\", \"rho\")]\n",
    "  system.mix.set_rho(rho)\n",
    "  n, Th, Te = system.get_prim(y)\n",
    "  # Species\n",
    "  for s in system.mix.species.values():\n",
    "    print(s.name)\n",
    "    for i in s.indices:\n",
    "      plt.loglog(t, n[i])\n",
    "    plt.show()\n",
    "    plt.close()\n",
    "  # Temperatures\n",
    "  print(\"Th-Te\")\n",
    "  plt.semilogx(t, Th)\n",
    "  plt.semilogx(t, Te)\n",
    "  plt.show()\n",
    "  plt.close()"
   ]
  },
  {
   "cell_type": "markdown",
   "metadata": {},
   "source": [
    "Test ROM"
   ]
  },
  {
   "cell_type": "code",
   "execution_count": null,
   "metadata": {},
   "outputs": [],
   "source": [
    "rdim = 4\n",
    "\n",
    "system.rom.build(\n",
    "  phi=basis[\"phi\"][rdim],\n",
    "  psi=basis[\"psi\"][rdim],\n",
    "  **{k: basis[k] for k in (\"mask\", \"xref\", \"xscale\")}\n",
    ")"
   ]
  },
  {
   "cell_type": "code",
   "execution_count": null,
   "metadata": {},
   "outputs": [],
   "source": [
    "labels = {\n",
    "  \"Th\": \"$T_h$\",\n",
    "  \"Te\": \"$T_e$\",\n",
    "  \"Ar\": \"\\\\text{Ar}\",\n",
    "  \"Arp\": \"\\\\text{Ar$^+$}\",\n",
    "  \"em\": \"\\\\text{e$^-$}\"\n",
    "}"
   ]
  },
  {
   "cell_type": "code",
   "execution_count": null,
   "metadata": {},
   "outputs": [],
   "source": [
    "isol, _ = system.compute_sol_rom(\n",
    "  filename=path_to_data + \"case_\" + cases[-1] + \".p\"\n",
    ")"
   ]
  },
  {
   "cell_type": "code",
   "execution_count": null,
   "metadata": {},
   "outputs": [],
   "source": [
    "tf.nest.map_structure(np.shape, isol)"
   ]
  },
  {
   "cell_type": "code",
   "execution_count": null,
   "metadata": {},
   "outputs": [],
   "source": [
    "t = isol.pop(\"t\")\n",
    "err = {\"CoBRAS\": isol.pop(\"err\")}\n",
    "err[\"POD\"] = err[\"CoBRAS\"]\n",
    "sol = isol\n",
    "sol[\"CoBRAS\"] = sol.pop(\"ROM\")\n",
    "sol[\"POD\"] = sol[\"CoBRAS\"]"
   ]
  },
  {
   "cell_type": "code",
   "execution_count": null,
   "metadata": {},
   "outputs": [],
   "source": [
    "tf.nest.map_structure(np.shape, sol)"
   ]
  },
  {
   "cell_type": "code",
   "execution_count": null,
   "metadata": {},
   "outputs": [],
   "source": [
    "tf.nest.map_structure(np.shape, err)"
   ]
  },
  {
   "cell_type": "code",
   "execution_count": null,
   "metadata": {},
   "outputs": [],
   "source": [
    "for k, testcase in testcases.items():\n",
    "  # Testcase\n",
    "  print(k)\n",
    "  print(\"=\"*20)\n",
    "  # FOM solution\n",
    "  t, y0, y, rho = [testcase[k] for k in (\"t\", \"y0\", \"y\", \"rho\")]\n",
    "  system.mix.set_rho(rho)\n",
    "  prim_fom = system.get_prim(y)\n",
    "  mom_fom = system.compute_mom(prim_fom[0])\n",
    "  # ROM solution\n",
    "  yrom, _ = system.solve_rom(t, y0, rho)\n",
    "  prim_rom = system.get_prim(yrom)\n",
    "  mom_rom = system.compute_mom(prim_rom[0])\n",
    "  nt = len(yrom.T)\n",
    "  nt\n",
    "  # Temperatures\n",
    "  print(\"Th-Te\")\n",
    "  for i in range(2):\n",
    "    plt.semilogx(t[:nt], prim_fom[1+i][:nt])\n",
    "    plt.semilogx(t[:nt], prim_rom[1+i][:nt], ls=\"--\", color=plt.gca().lines[-1].get_color(), lw=2.0)\n",
    "  plt.show()\n",
    "  plt.close()\n",
    "  # Species\n",
    "  for s in system.mix.species.values():\n",
    "    print(s.name)\n",
    "    for i in s.indices:\n",
    "      plt.loglog(t[:nt], prim_fom[0][i,:nt])\n",
    "      plt.loglog(t[:nt], prim_rom[0][i,:nt], ls=\"--\", color=plt.gca().lines[-1].get_color(), lw=2.0)\n",
    "    plt.show()\n",
    "    plt.close()\n",
    "  # Moments\n",
    "  for s in system.mix.species.values():\n",
    "    if s.name != \"em\":\n",
    "      for m in range(2):\n",
    "        print(s.name+f\" - Moment: {m}\")\n",
    "        plt.semilogx(t[:nt], mom_fom[s.name][f\"m{m}\"][:nt])\n",
    "        plt.semilogx(t[:nt], mom_rom[s.name][f\"m{m}\"][:nt], ls=\"--\", color=plt.gca().lines[-1].get_color(), lw=2.0)\n",
    "        plt.yscale(\"log\" if m == 0 else \"linear\")\n",
    "        plt.show()\n",
    "        plt.close()"
   ]
  }
 ],
 "metadata": {
  "kernelspec": {
   "display_name": "Python 3",
   "language": "python",
   "name": "python3"
  },
  "language_info": {
   "codemirror_mode": {
    "name": "ipython",
    "version": 3
   },
   "file_extension": ".py",
   "mimetype": "text/x-python",
   "name": "python",
   "nbconvert_exporter": "python",
   "pygments_lexer": "ipython3",
   "version": "3.8.15"
  }
 },
 "nbformat": 4,
 "nbformat_minor": 2
}
