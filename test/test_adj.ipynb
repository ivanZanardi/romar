{
 "cells": [
  {
   "cell_type": "code",
   "execution_count": null,
   "metadata": {},
   "outputs": [],
   "source": [
    "import os\n",
    "import sys\n",
    "import copy\n",
    "import torch\n",
    "import numpy as np\n",
    "import scipy as sp\n",
    "import pandas as pd\n",
    "import dill as pickle\n",
    "import matplotlib.pyplot as plt\n",
    "from tqdm import tqdm"
   ]
  },
  {
   "cell_type": "code",
   "execution_count": null,
   "metadata": {},
   "outputs": [],
   "source": [
    "x = np.random.rand(5,5)\n",
    "ls = [x, None, x, x, None]\n",
    "np.where([i is None for i in ls])[0]"
   ]
  },
  {
   "cell_type": "code",
   "execution_count": null,
   "metadata": {},
   "outputs": [],
   "source": [
    "list(map(np.shape, x))"
   ]
  },
  {
   "cell_type": "code",
   "execution_count": null,
   "metadata": {},
   "outputs": [],
   "source": [
    "sys.path.append(\"/home/zanardi/Codes/ML/ROMAr/romar/\")\n",
    "from romar import env\n",
    "from romar import const\n",
    "from romar import utils\n",
    "from romar import backend as bkd\n",
    "from romar.systems import BoxAd\n",
    "# from romar.roms import CoBRAS\n",
    "\n",
    "import romar.postproc.plotting as pltt"
   ]
  },
  {
   "cell_type": "code",
   "execution_count": null,
   "metadata": {},
   "outputs": [],
   "source": [
    "env_opts = {\n",
    "  \"backend\": \"numpy\",\n",
    "  \"device\": \"cpu\",\n",
    "  \"device_idx\": 0,\n",
    "  \"nb_threads\": 2,\n",
    "  \"epsilon\": 1e-16,\n",
    "  \"floatx\": \"float64\"\n",
    "}\n",
    "env.set(**env_opts)"
   ]
  },
  {
   "cell_type": "code",
   "execution_count": null,
   "metadata": {},
   "outputs": [],
   "source": [
    "path_to_dtb = \"/home/zanardi/Codes/ML/ROMAr/romar/examples/database\""
   ]
  },
  {
   "cell_type": "code",
   "execution_count": null,
   "metadata": {},
   "outputs": [],
   "source": [
    "system = BoxAd(\n",
    "  species={k: path_to_dtb + \"/species/\" + k + \".json\" for k in (\"Ar\", \"Arp\", \"em\")},\n",
    "  kin_dtb=path_to_dtb + \"/rates/kin_fit.p\",\n",
    "  rad_dtb=path_to_dtb + \"/rates/rad_fit.p\",\n",
    "  use_rad=True,\n",
    "  use_proj=False,\n",
    "  use_tables=False\n",
    ")\n",
    "system.compute_c_mat(\n",
    "  max_mom=2,\n",
    "  state_specs=False,\n",
    "  include_em=False,\n",
    "  include_temp=False\n",
    ")"
   ]
  },
  {
   "cell_type": "code",
   "execution_count": null,
   "metadata": {},
   "outputs": [],
   "source": [
    "rho = 1e-2\n",
    "T = 3.5e4\n",
    "Te = 3e2\n",
    "quad_mu = {\n",
    "  \"x\": np.array([rho, T, Te]).reshape(1,-1),\n",
    "  \"w\": np.ones((1,1))\n",
    "}\n",
    "tlim = [1e-14, 1e-5]"
   ]
  },
  {
   "cell_type": "code",
   "execution_count": null,
   "metadata": {},
   "outputs": [],
   "source": [
    "tfull = np.geomspace(*tlim, 100)\n",
    "tfull = np.insert(tfull, 0, 0.0)\n",
    "t = tfull"
   ]
  },
  {
   "cell_type": "code",
   "execution_count": null,
   "metadata": {},
   "outputs": [],
   "source": [
    "np.geomspace(1e-5, 2e-5, 5), np.geomspace(1e-14, 1e-5, 5)"
   ]
  },
  {
   "cell_type": "code",
   "execution_count": null,
   "metadata": {},
   "outputs": [],
   "source": [
    "i = 50\n",
    "t0 = float(t[i])\n",
    "tf = 2e-6\n",
    "j = np.abs(t-tf).argmin()\n",
    "tf = float(t[j])\n",
    "tij = t[i:j+1]\n",
    "t0-tij[0], tf-tij[-1]"
   ]
  },
  {
   "cell_type": "code",
   "execution_count": null,
   "metadata": {},
   "outputs": [],
   "source": [
    "y0, rho = system.equil.get_init_sol(quad_mu[\"x\"].squeeze())\n",
    "y = system.solve_fom(tfull, y0, rho)[0]"
   ]
  },
  {
   "cell_type": "code",
   "execution_count": null,
   "metadata": {},
   "outputs": [],
   "source": [
    "eps_vec = 1e-3*np.mean(y, axis=-1)"
   ]
  },
  {
   "cell_type": "code",
   "execution_count": null,
   "metadata": {},
   "outputs": [],
   "source": [
    "t = np.asarray([0.0, tlim[-1]])"
   ]
  },
  {
   "cell_type": "code",
   "execution_count": null,
   "metadata": {},
   "outputs": [],
   "source": [
    "x = np.random.rand(2,5)\n",
    "x, np.flip(x, axis=-1)"
   ]
  },
  {
   "cell_type": "code",
   "execution_count": null,
   "metadata": {},
   "outputs": [],
   "source": [
    "x[::] = 1.0\n",
    "x"
   ]
  },
  {
   "cell_type": "code",
   "execution_count": null,
   "metadata": {},
   "outputs": [],
   "source": [
    "def build_sol_interp(\n",
    "  t: np.ndarray,\n",
    "  x: np.ndarray\n",
    ") -> sp.interpolate.interp1d:\n",
    "  axis = 0 if (x.shape[0] == len(t)) else 1\n",
    "  return sp.interpolate.interp1d(t, x, kind=\"cubic\", axis=axis)\n",
    "\n",
    "def solve_adjoint(\n",
    "  t: np.ndarray,\n",
    "  g0: np.ndarray,\n",
    "  interp: sp.interpolate.interp1d\n",
    ") -> np.ndarray:\n",
    "  t = np.flip(np.sort(t))\n",
    "  tf = t[0]\n",
    "  tau = tf-t\n",
    "  y = sp.integrate.solve_ivp(\n",
    "    fun=adjoint_fun,\n",
    "    t_span=[tau[0],tau[-1]],\n",
    "    y0=g0,\n",
    "    method=\"BDF\",\n",
    "    t_eval=tau,\n",
    "    args=(tf, interp),\n",
    "    first_step=1e-10,\n",
    "    rtol=1e-2,\n",
    "    atol=0.0,\n",
    "    jac=adjoint_jac\n",
    "  ).y\n",
    "  return y[:,-1]\n",
    "\n",
    "def adjoint_fun(\n",
    "  tau: np.ndarray,\n",
    "  g: np.ndarray,\n",
    "  tf: float,\n",
    "  interp: sp.interpolate.interp1d\n",
    ") -> np.ndarray:\n",
    "  print(tau)\n",
    "  return adjoint_jac(tau, g, tf, interp) @ g\n",
    "\n",
    "def adjoint_jac(\n",
    "  tau: np.ndarray,\n",
    "  g: np.ndarray,\n",
    "  tf: float,\n",
    "  interp: sp.interpolate.interp1d\n",
    ") -> np.ndarray:\n",
    "  x = interp(tf-tau)\n",
    "  j = system.jac(t, x)\n",
    "  return j.T"
   ]
  },
  {
   "cell_type": "code",
   "execution_count": null,
   "metadata": {},
   "outputs": [],
   "source": [
    "x_interp = build_sol_interp(tfull, y)"
   ]
  },
  {
   "cell_type": "code",
   "execution_count": null,
   "metadata": {},
   "outputs": [],
   "source": [
    "grad_adj = [solve_adjoint(t, g0, x_interp) for g0 in system.C]\n",
    "grad_adj = np.vstack(grad_adj)\n",
    "np.savetxt(\"./grad_adj.txt\", grad_adj)"
   ]
  },
  {
   "cell_type": "code",
   "execution_count": null,
   "metadata": {},
   "outputs": [],
   "source": [
    "gad_m2 = np.loadtxt(\"./grad_adj_m2.txt\")\n",
    "gad_m3 = np.loadtxt(\"./grad_adj_m3.txt\")\n",
    "gfd = np.loadtxt(\"./grad_fd.txt\")"
   ]
  },
  {
   "cell_type": "code",
   "execution_count": null,
   "metadata": {},
   "outputs": [],
   "source": [
    "np.linalg.norm(gfd-gad_m2)/np.linalg.norm(gfd)"
   ]
  },
  {
   "cell_type": "code",
   "execution_count": null,
   "metadata": {},
   "outputs": [],
   "source": [
    "np.mean(np.abs((gfd-gad_m2)/gfd))"
   ]
  },
  {
   "cell_type": "code",
   "execution_count": null,
   "metadata": {},
   "outputs": [],
   "source": [
    "np.mean(np.abs((gfd-gad_m3)/gfd))"
   ]
  },
  {
   "cell_type": "code",
   "execution_count": null,
   "metadata": {},
   "outputs": [],
   "source": [
    "np.abs((gad_m2-gad_m3)/gad_m3)"
   ]
  },
  {
   "cell_type": "code",
   "execution_count": null,
   "metadata": {},
   "outputs": [],
   "source": [
    "np.linalg.norm(gad_m2-gad_m3)/np.linalg.norm(gad_m3)"
   ]
  },
  {
   "cell_type": "code",
   "execution_count": null,
   "metadata": {},
   "outputs": [],
   "source": [
    "# np.linalg.norm(g3, axis=-1)"
   ]
  },
  {
   "cell_type": "code",
   "execution_count": null,
   "metadata": {},
   "outputs": [],
   "source": [
    "# np.linalg.norm(g2-g3)/np.linalg.norm(g3)"
   ]
  },
  {
   "cell_type": "code",
   "execution_count": null,
   "metadata": {},
   "outputs": [],
   "source": [
    "class Output():\n",
    "\n",
    "  def __init__(self, path):\n",
    "    self.counter = 0\n",
    "    self.path = path\n",
    "    os.makedirs(path, exist_ok=True)\n",
    "\n",
    "  def __call__(\n",
    "    self,\n",
    "    t: np.ndarray,\n",
    "    y0: np.ndarray,\n",
    "    rho: float\n",
    "  ) -> np.ndarray:\n",
    "    self.counter += 1\n",
    "    # Setting up\n",
    "    system.use_rom = False\n",
    "    y0 = system.set_up(y0, rho)\n",
    "    # Solve fom\n",
    "    x = system.solve_fom(t, y0, rho)[0].T\n",
    "    np.savetxt(self.path+f\"/x_{self.counter}.txt\", x)\n",
    "    # Compute output\n",
    "    return system.C @ x[-1]"
   ]
  },
  {
   "cell_type": "code",
   "execution_count": null,
   "metadata": {},
   "outputs": [],
   "source": [
    "# def output(\n",
    "#   tf: float,\n",
    "#   y0: np.ndarray,\n",
    "#   rho: float\n",
    "# ) -> np.ndarray:\n",
    "#   # Setting up\n",
    "#   system.use_rom = False\n",
    "#   y0 = system.set_up(y0, rho)\n",
    "#   # Time vector\n",
    "#   t = np.array([tf])\n",
    "#   # Solve fom\n",
    "#   x = system.solve_fom(t, y0, rho)[0].reshape(-1)\n",
    "#   # Compute output\n",
    "#   return system.C @ x"
   ]
  },
  {
   "cell_type": "code",
   "execution_count": null,
   "metadata": {},
   "outputs": [],
   "source": [
    "output = Output(\"./sols/\")\n",
    "grad_fd = sp.optimize.approx_fprime(\n",
    "  xk=y0,\n",
    "  f=lambda z: output(t, z, rho),\n",
    "  epsilon=eps_vec\n",
    ")\n",
    "np.savetxt(\"./grad_fd.txt\", grad_fd)"
   ]
  },
  {
   "cell_type": "code",
   "execution_count": null,
   "metadata": {},
   "outputs": [],
   "source": [
    "np.linalg.norm(grad_fd)\n",
    "# np.linalg.norm(np.loadtxt(\"./grad_adj.txt\"))"
   ]
  },
  {
   "cell_type": "code",
   "execution_count": null,
   "metadata": {},
   "outputs": [],
   "source": [
    "np.linalg.norm(grad_fd-grad_adj)/np.linalg.norm(grad_adj)"
   ]
  },
  {
   "cell_type": "code",
   "execution_count": null,
   "metadata": {},
   "outputs": [],
   "source": [
    "y = np.vstack([np.linalg.norm(system.C @ np.loadtxt(f\"./sols/x_{i+1}.txt\").T, axis=0) for i in range(36)])"
   ]
  },
  {
   "cell_type": "code",
   "execution_count": null,
   "metadata": {},
   "outputs": [],
   "source": [
    "plt.semilogx(tfull, y.T)\n",
    "plt.show()\n",
    "plt.close()"
   ]
  },
  {
   "cell_type": "code",
   "execution_count": null,
   "metadata": {},
   "outputs": [],
   "source": [
    "for i in range(36):\n",
    "  for xi in x:\n",
    "    plt.loglog(tfull, xi[:,i])\n",
    "  plt.show()\n",
    "  plt.close()"
   ]
  },
  {
   "cell_type": "code",
   "execution_count": null,
   "metadata": {},
   "outputs": [],
   "source": [
    "stop"
   ]
  },
  {
   "cell_type": "code",
   "execution_count": null,
   "metadata": {},
   "outputs": [],
   "source": [
    "def lin_adj(\n",
    "  tf: float,\n",
    "  y0: np.ndarray,\n",
    "  rho: float\n",
    ") -> np.ndarray:\n",
    "  # Setting up\n",
    "  system.use_rom = False\n",
    "  y0 = system.set_up(y0, rho)\n",
    "  # Time vector\n",
    "  t = np.array([tf])\n",
    "  # Compute linear operators\n",
    "  system.compute_lin_fom_ops(y0)\n",
    "  A, C = [getattr(system, k) for k in (\"A\", \"C\")]\n",
    "  # Eigendecomposition\n",
    "  l, V = sp.linalg.eig(A)\n",
    "  Vinv = sp.linalg.inv(V)\n",
    "  # Allocate memory\n",
    "  shape = [len(t)] + list(C.T.shape)\n",
    "  g = np.zeros(shape)\n",
    "  # Compute solution\n",
    "  VC = V.T @ C.T\n",
    "  for (i, ti) in enumerate(t):\n",
    "    L = np.diag(np.exp(ti*l))\n",
    "    g[i] = Vinv.T @ (L @ VC)\n",
    "  # Manipulate tensor\n",
    "  g = np.transpose(g, axes=(1,2,0))\n",
    "  g = np.reshape(g, (shape[1],-1))\n",
    "  return g.T"
   ]
  },
  {
   "cell_type": "code",
   "execution_count": null,
   "metadata": {},
   "outputs": [],
   "source": [
    "grad_f_adj = lin_adj(tf, y0, rho)"
   ]
  },
  {
   "cell_type": "code",
   "execution_count": null,
   "metadata": {},
   "outputs": [],
   "source": [
    "grad_f_fd = sp.optimize.approx_fprime(\n",
    "  xk=y0,\n",
    "  f=lambda z: output(tf, z, rho),\n",
    "  epsilon=1e-12\n",
    ")"
   ]
  },
  {
   "cell_type": "code",
   "execution_count": null,
   "metadata": {},
   "outputs": [],
   "source": [
    "np.linalg.norm(grad_f_adj-grad_f_fd)/np.linalg.norm(grad_f_fd)"
   ]
  },
  {
   "cell_type": "code",
   "execution_count": null,
   "metadata": {},
   "outputs": [],
   "source": [
    "stop "
   ]
  },
  {
   "cell_type": "code",
   "execution_count": null,
   "metadata": {},
   "outputs": [],
   "source": []
  },
  {
   "cell_type": "code",
   "execution_count": null,
   "metadata": {},
   "outputs": [],
   "source": []
  },
  {
   "cell_type": "code",
   "execution_count": null,
   "metadata": {},
   "outputs": [],
   "source": []
  },
  {
   "cell_type": "code",
   "execution_count": null,
   "metadata": {},
   "outputs": [],
   "source": []
  },
  {
   "cell_type": "code",
   "execution_count": null,
   "metadata": {},
   "outputs": [],
   "source": [
    "yfom, _ = system.solve_fom(t, y0, rho)"
   ]
  },
  {
   "cell_type": "code",
   "execution_count": null,
   "metadata": {},
   "outputs": [],
   "source": [
    "w_fom = copy.deepcopy(yfom[:system.mix.nb_comp])\n",
    "n_fom = system.mix.get_n(bkd.to_torch(w_fom)).numpy()\n",
    "T_fom = copy.deepcopy(yfom[system.mix.nb_comp:])\n",
    "T_fom[-1] = system.mix.get_Te(pe=T_fom[-1], ne=n_fom[0])"
   ]
  },
  {
   "cell_type": "code",
   "execution_count": null,
   "metadata": {},
   "outputs": [],
   "source": [
    "xref = np.mean(yfom, axis=1)\n",
    "xscale = np.std(yfom, axis=1)\n",
    "# xref[-3:] = 0.0\n",
    "# xscale[-3:] = 1.0"
   ]
  },
  {
   "cell_type": "code",
   "execution_count": null,
   "metadata": {},
   "outputs": [],
   "source": [
    "# xref = np.linalg.norm(yfom, ord=2, axis=1)\n",
    "# xscale = np.std(yfom, axis=1)\n",
    "xref[0] = 0.0\n",
    "xref[-3:] = 0.0\n",
    "xscale[0] = 1.0\n",
    "xscale[-3:] = 1.0\n",
    "xref = None\n",
    "xscale = None"
   ]
  },
  {
   "cell_type": "code",
   "execution_count": null,
   "metadata": {},
   "outputs": [],
   "source": [
    "# xscale = 1.0/xref\n",
    "# xref = None"
   ]
  },
  {
   "cell_type": "code",
   "execution_count": null,
   "metadata": {},
   "outputs": [],
   "source": [
    "cobras = CoBRAS(\n",
    "  system=system,\n",
    "  tgrid={\"start\": tlim[0], \"stop\": tlim[1]*1e1, \"num\": 51},\n",
    "  quad_mu=quad_mu,\n",
    "  xref=xref,\n",
    "  xscale=xscale,\n",
    "  path_to_saving=\"./\",\n",
    "  saving=True\n",
    ")"
   ]
  },
  {
   "cell_type": "code",
   "execution_count": null,
   "metadata": {},
   "outputs": [],
   "source": [
    "X, Y = cobras.compute_cov_mats(\n",
    "  nb_meas=10\n",
    ")\n",
    "X.shape, Y.shape"
   ]
  },
  {
   "cell_type": "code",
   "execution_count": null,
   "metadata": {},
   "outputs": [],
   "source": [
    "# W = np.diag(1.0/xref)\n",
    "# Ws = np.sqrt(W)\n",
    "# X = Ws @ X\n",
    "# Y = Ws @ Y"
   ]
  },
  {
   "cell_type": "code",
   "execution_count": null,
   "metadata": {},
   "outputs": [],
   "source": [
    "cobras.compute_modes(\n",
    "  X=X,\n",
    "  Y=Y,\n",
    "  xnot=[0,1,-2,-1],\n",
    "  pod=True\n",
    ")"
   ]
  },
  {
   "cell_type": "code",
   "execution_count": null,
   "metadata": {},
   "outputs": [],
   "source": [
    "basis = pickle.load(open(\"./cobras_basis.p\", \"rb\"))"
   ]
  },
  {
   "cell_type": "code",
   "execution_count": null,
   "metadata": {},
   "outputs": [],
   "source": [
    "for i in range(15):\n",
    "  nb = str(i+1)\n",
    "  b = basis[\"phi\"][:,i]\n",
    "  pltt.plot_dist_2d(\n",
    "    x=np.arange(len(b)),\n",
    "    y=b,\n",
    "    labels=[r\"$\\epsilon_i$ [eV]\", r\"$\\%s_{%s}$\" % (\"phi\", nb)],\n",
    "    scales=[\"linear\", \"linear\"],\n",
    "    markersize=1,\n",
    "    # figname=path + f\"/{name}_{nb.zfill(2)}\",\n",
    "    save=False,\n",
    "    show=True\n",
    "  )"
   ]
  },
  {
   "cell_type": "code",
   "execution_count": null,
   "metadata": {},
   "outputs": [],
   "source": [
    "for i in range(15):\n",
    "  nb = str(i+1)\n",
    "  b = basis[\"psi\"][:,i]\n",
    "  pltt.plot_dist_2d(\n",
    "    x=np.arange(len(b)),\n",
    "    y=b,\n",
    "    labels=[r\"$\\epsilon_i$ [eV]\", r\"$\\%s_{%s}$\" % (\"psi\", nb)],\n",
    "    scales=[\"linear\", \"linear\"],\n",
    "    markersize=1,\n",
    "    # figname=path + f\"/{name}_{nb.zfill(2)}\",\n",
    "    save=False,\n",
    "    show=False\n",
    "  )"
   ]
  },
  {
   "cell_type": "code",
   "execution_count": null,
   "metadata": {},
   "outputs": [],
   "source": [
    "rdim = 8\n",
    "\n",
    "# basis = pickle.load(open(\"./pod_basis.p\", \"rb\"))\n",
    "# phi, psi = basis[\"phi\"][:,:rdim], basis[\"phi\"][:,:rdim]\n",
    "\n",
    "basis = pickle.load(open(\"./cobras_basis.p\", \"rb\"))\n",
    "phi, psi = basis[\"phi\"][:,:rdim], basis[\"psi\"][:,:rdim]\n",
    "\n",
    "# system.set_rom(phi, psi, mask=\"./rom_mask.txt\", xref=xref, xscale=xscale)\n",
    "system.set_rom(phi, psi, mask=basis[\"mask\"], xref=xref, xscale=xscale)"
   ]
  },
  {
   "cell_type": "code",
   "execution_count": null,
   "metadata": {},
   "outputs": [],
   "source": [
    "# I = np.eye(system.nb_eqs)\n",
    "# system.set_rom(I, I, mask=np.diag(I), xref=xref, xscale=xscale)"
   ]
  },
  {
   "cell_type": "code",
   "execution_count": null,
   "metadata": {},
   "outputs": [],
   "source": [
    "yrom, _ = system.solve_rom(t, y0, rho)\n",
    "nt = len(yrom.T)\n",
    "nt"
   ]
  },
  {
   "cell_type": "code",
   "execution_count": null,
   "metadata": {},
   "outputs": [],
   "source": [
    "w_rom = copy.deepcopy(yrom[:system.mix.nb_comp])\n",
    "n_rom = system.mix.get_n(bkd.to_torch(w_rom)).numpy()\n",
    "T_rom = copy.deepcopy(yrom[system.mix.nb_comp:])\n",
    "T_rom[-1] = system.mix.get_Te(pe=T_rom[-1], ne=n_rom[0])"
   ]
  },
  {
   "cell_type": "code",
   "execution_count": null,
   "metadata": {},
   "outputs": [],
   "source": [
    "for i in range(2):\n",
    "  plt.semilogx(t[1:nt], T_fom[i][1:nt])\n",
    "  plt.semilogx(t[1:nt], T_rom[i][1:nt], ls=\"--\", color=plt.gca().lines[-1].get_color())\n",
    "plt.show()\n",
    "plt.close()"
   ]
  },
  {
   "cell_type": "code",
   "execution_count": null,
   "metadata": {},
   "outputs": [],
   "source": [
    "# for k in (\"Ar\", \"Arp\"):\n",
    "#   s = system.mix.species[k]\n",
    "#   pltt.plot_mom_evolution(\n",
    "#     path=f\"./figs/{k}/\",\n",
    "#     t=t[1:nt],\n",
    "#     n_m={\"FOM\": bkd.to_torch(n_fom.T[1:nt,s.indices]), \"ROM\": bkd.to_torch(n_rom.T[1:nt,s.indices])},\n",
    "#     molecule=s,\n",
    "#     molecule_label=\"{%s}\" % k,\n",
    "#     tlim=None,\n",
    "#     ylim_err=None,\n",
    "#     err_scale=\"linear\",\n",
    "#     hline=None,\n",
    "#     max_mom=2\n",
    "#   )"
   ]
  },
  {
   "cell_type": "code",
   "execution_count": null,
   "metadata": {},
   "outputs": [],
   "source": [
    "for s in system.mix.species.values():\n",
    "  print(s.name)\n",
    "  for i in s.indices:\n",
    "    plt.loglog(t[1:nt], n_fom[i][1:nt])\n",
    "    plt.loglog(t[1:nt], n_rom[i][1:nt], ls=\"--\", color=plt.gca().lines[-1].get_color())\n",
    "  plt.show()\n",
    "  plt.close()"
   ]
  }
 ],
 "metadata": {
  "kernelspec": {
   "display_name": "Python 3",
   "language": "python",
   "name": "python3"
  },
  "language_info": {
   "codemirror_mode": {
    "name": "ipython",
    "version": 3
   },
   "file_extension": ".py",
   "mimetype": "text/x-python",
   "name": "python",
   "nbconvert_exporter": "python",
   "pygments_lexer": "ipython3",
   "version": "3.8.15"
  }
 },
 "nbformat": 4,
 "nbformat_minor": 2
}
