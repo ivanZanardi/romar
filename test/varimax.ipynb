{
 "cells": [
  {
   "cell_type": "code",
   "execution_count": 1,
   "metadata": {},
   "outputs": [],
   "source": [
    "import numpy as np\n",
    "import rpy2.robjects as ro\n",
    "from rpy2.robjects import numpy2ri\n",
    "from rpy2.robjects.packages import importr\n",
    "\n",
    "# Activate automatic conversion between R and NumPy\n",
    "numpy2ri.activate()\n",
    "\n",
    "# Import necessary R packages\n",
    "base = importr('base')\n",
    "psych = importr('psych')\n",
    "\n",
    "def pareto_scale(X):\n",
    "    \"\"\"Pareto scaling: Center and scale by sqrt of standard deviation.\"\"\"\n",
    "    mean_X = np.mean(X, axis=0, keepdims=True)\n",
    "    std_X = np.std(X, axis=0, keepdims=True)\n",
    "    return (X - mean_X) / np.sqrt(std_X)\n",
    "\n",
    "def pca_varimax(X, n_components):\n",
    "    \"\"\"Perform PCA with Varimax rotation using R's psych package.\"\"\"\n",
    "    # Scale and center the data\n",
    "    X_scaled = pareto_scale(X)\n",
    "    \n",
    "    # Convert to R matrix\n",
    "    X_r = ro.r.matrix(X_scaled, nrow=X_scaled.shape[0], ncol=X_scaled.shape[1])\n",
    "\n",
    "    # Perform PCA with Varimax rotation\n",
    "    pca_res = psych.principal(X_r, nfactors=n_components, rotate=\"varimax\")\n",
    "\n",
    "    # Extract rotated loadings and scores\n",
    "    loadings = np.array(pca_res.rx2('loadings'))  # Factor loadings\n",
    "    scores = np.array(pca_res.rx2('scores'))      # Rotated scores\n",
    "\n",
    "    return loadings, scores\n"
   ]
  },
  {
   "cell_type": "code",
   "execution_count": 6,
   "metadata": {},
   "outputs": [],
   "source": [
    "import numpy as np\n",
    "from sklearn.decomposition import FactorAnalysis\n",
    "\n",
    "def fa_varimax(X, n_components):\n",
    "    \"\"\"Perform Factor Analysis with built-in Varimax rotation using sklearn.\"\"\"\n",
    "    X_scaled = pareto_scale(X) # Transpose to match scikit-learn’s input shape\n",
    "\n",
    "    # Perform Factor Analysis with Varimax rotation\n",
    "    fa = FactorAnalysis(n_components=n_components, rotation=\"varimax\")\n",
    "    scores = fa.fit_transform(X_scaled)  # Factor scores\n",
    "    loadings = fa.components_.T # Factor loadings\n",
    "\n",
    "    return loadings, scores\n"
   ]
  },
  {
   "cell_type": "code",
   "execution_count": 4,
   "metadata": {},
   "outputs": [],
   "source": [
    "def _ortho_rotation(components, method=\"varimax\", tol=1e-6, max_iter=100):\n",
    "  \"\"\"Return rotated components.\"\"\"\n",
    "  nrow, ncol = components.shape\n",
    "  rotation_matrix = np.eye(ncol)\n",
    "  var = 0\n",
    "\n",
    "  for _ in range(max_iter):\n",
    "    comp_rot = np.dot(components, rotation_matrix)\n",
    "    if method == \"varimax\":\n",
    "      tmp = comp_rot * np.transpose((comp_rot**2).sum(axis=0) / nrow)\n",
    "    elif method == \"quartimax\":\n",
    "      tmp = 0\n",
    "    u, s, v = np.linalg.svd(np.dot(components.T, comp_rot**3 - tmp))\n",
    "    rotation_matrix = np.dot(u, v)\n",
    "    var_new = np.sum(s)\n",
    "    if var != 0 and var_new < var * (1 + tol):\n",
    "      break\n",
    "    var = var_new\n",
    "\n",
    "  return np.dot(components, rotation_matrix).T"
   ]
  },
  {
   "cell_type": "code",
   "execution_count": 20,
   "metadata": {},
   "outputs": [
    {
     "data": {
      "text/plain": [
       "(5, 5)"
      ]
     },
     "execution_count": 20,
     "metadata": {},
     "output_type": "execute_result"
    }
   ],
   "source": [
    "\n",
    "# Example usage:\n",
    "np.random.seed(42)\n",
    "X = np.random.rand(5,100)\n",
    "X_scaled = pareto_scale(X) # Transpose to match scikit-learn’s input shape\n",
    "loadings_r, scores_r = pca_varimax(X, n_components=2)\n",
    "loadings, scores = fa_varimax(X, n_components=2)\n",
    "loadings2 = _ortho_rotation(X_scaled, method=\"varimax\", tol=1e-6, max_iter=100)\n",
    "\n",
    "\n",
    "U, s, _ = np.linalg.svd(X)\n",
    "U.shape\n",
    "\n",
    "# print(\"Loadings:\\n\", loadings, loadings_r, loadings2[:,:2])\n",
    "# print(\"Scores:\\n\", scores, scores_r)"
   ]
  },
  {
   "cell_type": "code",
   "execution_count": 15,
   "metadata": {},
   "outputs": [
    {
     "data": {
      "text/plain": [
       "array([[-0.15992177,  0.17066168,  0.0413745 , -0.42969206,  0.62351175],\n",
       "       [ 0.13882294,  0.17501659, -0.299314  ,  0.25363725, -0.51716958],\n",
       "       [ 0.16958953,  0.07533691, -0.25278936,  0.36099451, -0.64210526],\n",
       "       [-0.11400892, -0.66993577,  0.67470173, -0.01394033,  0.38551698],\n",
       "       [-0.07230984, -0.79768581,  0.731768  ,  0.12885024,  0.21673479]])"
      ]
     },
     "execution_count": 15,
     "metadata": {},
     "output_type": "execute_result"
    }
   ],
   "source": [
    "loadings_r @ loadings2[:,:2].T"
   ]
  },
  {
   "cell_type": "code",
   "execution_count": null,
   "metadata": {},
   "outputs": [],
   "source": [
    "def _rotate(components, n_components=None, tol=1e-6):\n",
    "  \"Rotate the factor analysis solution.\"\n",
    "  # note that tol is not exposed\n",
    "  return _ortho_rotation(components.T, method=\"varimax\", tol=tol)\n",
    "  ]"
   ]
  },
  {
   "cell_type": "code",
   "execution_count": 17,
   "metadata": {},
   "outputs": [
    {
     "name": "stdout",
     "output_type": "stream",
     "text": [
      "\n",
      "PCA + Manual Varimax Loadings:\n",
      " [[-0.43046584  0.39807482]\n",
      " [ 0.27746008 -0.38647872]\n",
      " [-0.52390574 -0.04157466]\n",
      " [ 0.6669407   0.22207964]\n",
      " [ 0.13574957  0.80070146]]\n",
      "\n",
      "FactorAnalysis + Built-in Varimax Loadings:\n",
      " [[-0.15469816  0.16656794]\n",
      " [ 0.01012642 -0.07625491]\n",
      " [-0.13394149 -0.0136996 ]\n",
      " [ 0.42249017  0.04166929]\n",
      " [ 0.10152476  0.3123162 ]]\n",
      "\n",
      "Absolute Difference in Loadings:\n",
      " [[0.27576768 0.23150688]\n",
      " [0.26733365 0.3102238 ]\n",
      " [0.38996426 0.02787506]\n",
      " [0.24445053 0.18041034]\n",
      " [0.03422481 0.48838525]]\n"
     ]
    }
   ],
   "source": [
    "import numpy as np\n",
    "from sklearn.decomposition import FactorAnalysis, PCA\n",
    "from scipy.linalg import svd\n",
    "\n",
    "def pareto_scale(X):\n",
    "    \"\"\"Pareto scaling: Center and scale by sqrt of standard deviation.\"\"\"\n",
    "    mean_X = np.mean(X, axis=1, keepdims=True)\n",
    "    std_X = np.std(X, axis=1, keepdims=True)\n",
    "    return (X - mean_X) / np.sqrt(std_X)\n",
    "\n",
    "def varimax(Phi, gamma=1.0, q=20, tol=1e-6):\n",
    "    \"\"\"Manual Varimax Rotation.\"\"\"\n",
    "    p, k = Phi.shape\n",
    "    R = np.eye(k)\n",
    "    d = 0\n",
    "\n",
    "    for _ in range(q):\n",
    "        Lambda = np.dot(Phi, R)\n",
    "        u, s, vh = svd(np.dot(Phi.T, Lambda**3 - (gamma / p) * np.dot(Lambda, np.diag(np.sum(Lambda**2, axis=0)))))\n",
    "        R = np.dot(u, vh)\n",
    "        d_new = np.sum(s)\n",
    "        if d != 0 and d_new / d < 1 + tol:\n",
    "            break\n",
    "        d = d_new\n",
    "\n",
    "    return np.dot(Phi, R)\n",
    "\n",
    "def pca_varimax(X, n_components):\n",
    "    \"\"\"PCA followed by manual Varimax rotation.\"\"\"\n",
    "    X_scaled = pareto_scale(X).T\n",
    "\n",
    "    # PCA\n",
    "    pca = PCA(n_components=n_components)\n",
    "    scores = pca.fit_transform(X_scaled)\n",
    "    loadings = pca.components_.T\n",
    "\n",
    "    # Apply manual Varimax rotation\n",
    "    rotated_loadings = varimax(loadings)\n",
    "\n",
    "    return rotated_loadings, scores\n",
    "\n",
    "def fa_varimax(X, n_components):\n",
    "    \"\"\"Factor Analysis with built-in Varimax.\"\"\"\n",
    "    X_scaled = pareto_scale(X).T\n",
    "\n",
    "    # Factor Analysis with Varimax\n",
    "    fa = FactorAnalysis(n_components=n_components, rotation=\"varimax\")\n",
    "    scores = fa.fit_transform(X_scaled)\n",
    "    loadings = fa.components_.T\n",
    "\n",
    "    return loadings, scores\n",
    "\n",
    "# Generate Example Data\n",
    "np.random.seed(42)\n",
    "X = np.random.rand(5, 100)  # (5 variables, 100 measurements)\n",
    "\n",
    "# Compare PCA + Varimax vs. FA + Varimax\n",
    "pca_loadings, pca_scores = pca_varimax(X, n_components=2)\n",
    "fa_loadings, fa_scores = fa_varimax(X, n_components=2)\n",
    "\n",
    "# Print Results\n",
    "print(\"\\nPCA + Manual Varimax Loadings:\\n\", pca_loadings)\n",
    "print(\"\\nFactorAnalysis + Built-in Varimax Loadings:\\n\", fa_loadings)\n",
    "\n",
    "print(\"\\nAbsolute Difference in Loadings:\\n\", np.abs(pca_loadings - fa_loadings))\n",
    "\n",
    "\n"
   ]
  }
 ],
 "metadata": {
  "kernelspec": {
   "display_name": "Python 3",
   "language": "python",
   "name": "python3"
  },
  "language_info": {
   "codemirror_mode": {
    "name": "ipython",
    "version": 3
   },
   "file_extension": ".py",
   "mimetype": "text/x-python",
   "name": "python",
   "nbconvert_exporter": "python",
   "pygments_lexer": "ipython3",
   "version": "3.8.15"
  }
 },
 "nbformat": 4,
 "nbformat_minor": 2
}
