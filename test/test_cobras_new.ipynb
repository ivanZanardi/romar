{
 "cells": [
  {
   "cell_type": "code",
   "execution_count": 1,
   "metadata": {},
   "outputs": [],
   "source": [
    "import sys\n",
    "import copy\n",
    "import torch\n",
    "import numpy as np\n",
    "import scipy as sp\n",
    "import pandas as pd\n",
    "import dill as pickle\n",
    "import matplotlib.pyplot as plt"
   ]
  },
  {
   "cell_type": "code",
   "execution_count": 2,
   "metadata": {},
   "outputs": [],
   "source": [
    "sys.path.append(\"/home/zanardi/Codes/ML/ROMAr/romar/\")\n",
    "from romar import env\n",
    "from romar import const\n",
    "from romar import utils\n",
    "from romar import backend as bkd\n",
    "from romar.systems import BoxAd\n",
    "from romar.roms import CoBRAS\n",
    "\n",
    "import romar.postproc.plotting as pltt"
   ]
  },
  {
   "cell_type": "code",
   "execution_count": 3,
   "metadata": {},
   "outputs": [],
   "source": [
    "env_opts = {\n",
    "  \"backend\": \"numpy\",\n",
    "  \"device\": \"cpu\",\n",
    "  \"device_idx\": 0,\n",
    "  \"nb_threads\": 2,\n",
    "  \"epsilon\": None,\n",
    "  \"floatx\": \"float64\"\n",
    "}\n",
    "env.set(**env_opts)"
   ]
  },
  {
   "cell_type": "code",
   "execution_count": 4,
   "metadata": {},
   "outputs": [],
   "source": [
    "path_to_dtb = \"/home/zanardi/Codes/ML/ROMAr/romar/examples/database\"\n",
    "path_to_bases = \"/home/zanardi/Codes/ML/ROMAr/run/rad_on_test1/max_mom_2/cobras_bases.p\"\n",
    "path_to_mask = \"/home/zanardi/Codes/ML/ROMAr/run/rad_on_test1/max_mom_2/rom_mask.txt\"\n",
    "path_to_data = \"/home/zanardi/Codes/ML/ROMAr/run/rad_on_test1/data/\"\n",
    "cases = [\"lrho_lT\", \"lrho_hT\", \"hrho_lT\", \"hrho_hT\", \"mrho_mT\"]"
   ]
  },
  {
   "cell_type": "code",
   "execution_count": 5,
   "metadata": {},
   "outputs": [],
   "source": [
    "system = BoxAd(\n",
    "  species={k: path_to_dtb + \"/species/\" + k + \".json\" for k in (\"Ar\", \"Arp\", \"em\")},\n",
    "  kin_dtb=path_to_dtb + \"/rates/kin_fit.p\",\n",
    "  rad_dtb=path_to_dtb + \"/rates/rad_fit.p\",\n",
    "  use_rad=True,\n",
    "  use_proj=False,\n",
    "  use_tables=False\n",
    ")\n",
    "system.compute_c_mat(max_mom=2, state_specs=False, include_temp=False)"
   ]
  },
  {
   "cell_type": "markdown",
   "metadata": {},
   "source": [
    "Plot bases"
   ]
  },
  {
   "cell_type": "code",
   "execution_count": 6,
   "metadata": {},
   "outputs": [],
   "source": [
    "bases = pickle.load(open(path_to_bases, \"rb\"))"
   ]
  },
  {
   "cell_type": "code",
   "execution_count": null,
   "metadata": {},
   "outputs": [],
   "source": [
    "for i in range(10):\n",
    "  nb = str(i+1)\n",
    "  b = bases[\"phi\"][:,i]\n",
    "  pltt.plot_dist_2d(\n",
    "    x=np.arange(len(b)),\n",
    "    y=b,\n",
    "    labels=[r\"$\\epsilon_i$ [eV]\", r\"$\\%s_{%s}$\" % (\"phi\", nb)],\n",
    "    scales=[\"linear\", \"linear\"],\n",
    "    markersize=1,\n",
    "    # figname=path + f\"/{name}_{nb.zfill(2)}\",\n",
    "    save=False,\n",
    "    show=True\n",
    "  )"
   ]
  },
  {
   "cell_type": "code",
   "execution_count": null,
   "metadata": {},
   "outputs": [],
   "source": [
    "for i in range(10):\n",
    "  nb = str(i+1)\n",
    "  b = bases[\"psi\"][:,i]\n",
    "  pltt.plot_dist_2d(\n",
    "    x=np.arange(len(b)),\n",
    "    y=b,\n",
    "    labels=[r\"$\\epsilon_i$ [eV]\", r\"$\\%s_{%s}$\" % (\"psi\", nb)],\n",
    "    scales=[\"linear\", \"linear\"],\n",
    "    markersize=1,\n",
    "    # figname=path + f\"/{name}_{nb.zfill(2)}\",\n",
    "    save=False,\n",
    "    show=True\n",
    "  )"
   ]
  },
  {
   "cell_type": "markdown",
   "metadata": {},
   "source": [
    "Load test cases"
   ]
  },
  {
   "cell_type": "code",
   "execution_count": 9,
   "metadata": {},
   "outputs": [],
   "source": [
    "testcases = {k: utils.load_case(filename=path_to_data + \"case_\" + k + \".p\") for k in cases}"
   ]
  },
  {
   "cell_type": "code",
   "execution_count": null,
   "metadata": {},
   "outputs": [],
   "source": [
    "for k, testcase in testcases.items():\n",
    "  # Testcase\n",
    "  print(k)\n",
    "  print(\"=\"*20)\n",
    "  t, y, rho = [testcase[k] for k in (\"t\", \"y\", \"rho\")]\n",
    "  system.mix.set_rho(rho)\n",
    "  n, Th, Te = system.get_prim(y)\n",
    "  # Species\n",
    "  for s in system.mix.species.values():\n",
    "    print(s.name)\n",
    "    for i in s.indices:\n",
    "      plt.loglog(t, n[i])\n",
    "    plt.show()\n",
    "    plt.close()\n",
    "  # Temperatures\n",
    "  print(\"Th-Te\")\n",
    "  plt.semilogx(t, Th)\n",
    "  plt.semilogx(t, Te)\n",
    "  plt.show()\n",
    "  plt.close()"
   ]
  },
  {
   "cell_type": "markdown",
   "metadata": {},
   "source": [
    "Test ROM"
   ]
  },
  {
   "cell_type": "code",
   "execution_count": 17,
   "metadata": {},
   "outputs": [],
   "source": [
    "rdim = 8\n",
    "\n",
    "system.set_rom(\n",
    "  phi=bases[\"phi\"][:,:rdim],\n",
    "  psi=bases[\"psi\"][:,:rdim],\n",
    "  mask=path_to_mask\n",
    ")"
   ]
  },
  {
   "cell_type": "code",
   "execution_count": null,
   "metadata": {},
   "outputs": [],
   "source": [
    "for k, testcase in testcases.items():\n",
    "  # Testcase\n",
    "  print(k)\n",
    "  print(\"=\"*20)\n",
    "  # FOM solution\n",
    "  t, y0, y, rho = [testcase[k] for k in (\"t\", \"y0\", \"y\", \"rho\")]\n",
    "  system.mix.set_rho(rho)\n",
    "  prim_fom = system.get_prim(y)\n",
    "  mom_fom = system.compute_mom(prim_fom[0])\n",
    "  # ROM solution\n",
    "  yrom, _ = system.solve_rom(t, y0, rho)\n",
    "  prim_rom = system.get_prim(yrom)\n",
    "  mom_rom = system.compute_mom(prim_rom[0])\n",
    "  nt = len(yrom.T)\n",
    "  nt\n",
    "  # Temperatures\n",
    "  print(\"Th-Te\")\n",
    "  for i in range(2):\n",
    "    plt.semilogx(t[:nt], prim_fom[1+i][:nt])\n",
    "    plt.semilogx(t[:nt], prim_rom[1+i][:nt], ls=\"--\", color=plt.gca().lines[-1].get_color(), lw=2.0)\n",
    "  plt.show()\n",
    "  plt.close()\n",
    "  # Species\n",
    "  for s in system.mix.species.values():\n",
    "    print(s.name)\n",
    "    for i in s.indices:\n",
    "      plt.loglog(t[:nt], prim_fom[0][i,:nt])\n",
    "      plt.loglog(t[:nt], prim_rom[0][i,:nt], ls=\"--\", color=plt.gca().lines[-1].get_color(), lw=2.0)\n",
    "    plt.show()\n",
    "    plt.close()\n",
    "  # Moments\n",
    "  for s in system.mix.species.values():\n",
    "    if s.name != \"em\":\n",
    "      for m in range(2):\n",
    "        print(s.name+f\" - Moment: {m}\")\n",
    "        plt.semilogx(t[:nt], mom_fom[s.name][f\"m{m}\"][:nt])\n",
    "        plt.semilogx(t[:nt], mom_rom[s.name][f\"m{m}\"][:nt], ls=\"--\", color=plt.gca().lines[-1].get_color(), lw=2.0)\n",
    "        plt.yscale(\"log\" if m == 0 else \"linear\")\n",
    "        plt.show()\n",
    "        plt.close()"
   ]
  }
 ],
 "metadata": {
  "kernelspec": {
   "display_name": "Python 3",
   "language": "python",
   "name": "python3"
  },
  "language_info": {
   "codemirror_mode": {
    "name": "ipython",
    "version": 3
   },
   "file_extension": ".py",
   "mimetype": "text/x-python",
   "name": "python",
   "nbconvert_exporter": "python",
   "pygments_lexer": "ipython3",
   "version": "3.8.15"
  }
 },
 "nbformat": 4,
 "nbformat_minor": 2
}
