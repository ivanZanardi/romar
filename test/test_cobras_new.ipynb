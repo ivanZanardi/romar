{
 "cells": [
  {
   "cell_type": "code",
   "execution_count": null,
   "metadata": {},
   "outputs": [],
   "source": [
    "import sys\n",
    "import copy\n",
    "import torch\n",
    "import numpy as np\n",
    "import scipy as sp\n",
    "import pandas as pd\n",
    "import dill as pickle\n",
    "import matplotlib.pyplot as plt"
   ]
  },
  {
   "cell_type": "code",
   "execution_count": null,
   "metadata": {},
   "outputs": [],
   "source": [
    "sys.path.append(\"/home/zanardi/Codes/ML/ROMAr/romar/\")\n",
    "from romar import env\n",
    "from romar import const\n",
    "from romar import utils\n",
    "from romar import backend as bkd\n",
    "from romar.systems import BoxAd\n",
    "from romar.roms import CoBRAS\n",
    "\n",
    "import romar.postproc.plotting as pltt"
   ]
  },
  {
   "cell_type": "code",
   "execution_count": null,
   "metadata": {},
   "outputs": [],
   "source": [
    "env_opts = {\n",
    "  \"backend\": \"numpy\",\n",
    "  \"device\": \"cpu\",\n",
    "  \"device_idx\": 0,\n",
    "  \"nb_threads\": 2,\n",
    "  \"epsilon\": None,\n",
    "  \"floatx\": \"float64\"\n",
    "}\n",
    "env.set(**env_opts)"
   ]
  },
  {
   "cell_type": "code",
   "execution_count": null,
   "metadata": {},
   "outputs": [],
   "source": [
    "path_to_dtb = \"/home/zanardi/Codes/ML/ROMAr/romar/examples/database\"\n",
    "path_to_basis = \"/home/zanardi/Codes/ML/ROMAr/run/rad_on_test10/max_mom_2a/pca_basis.p\"\n",
    "path_to_mask = \"/home/zanardi/Codes/ML/ROMAr/run/rad_on_test1/max_mom_2/rom_mask.txt\"\n",
    "path_to_data = \"/home/zanardi/Codes/ML/ROMAr/run/rad_on_test1/data/\"\n",
    "cases = [\"lrho_lT\", \"lrho_hT\", \"hrho_lT\", \"hrho_hT\", \"mrho_mT\"]"
   ]
  },
  {
   "cell_type": "code",
   "execution_count": null,
   "metadata": {},
   "outputs": [],
   "source": [
    "system = BoxAd(\n",
    "  species={k: path_to_dtb + \"/species/\" + k + \".json\" for k in (\"Ar\", \"Arp\", \"em\")},\n",
    "  kin_dtb=path_to_dtb + \"/rates/kin_fit.p\",\n",
    "  rad_dtb=path_to_dtb + \"/rates/rad_fit.p\",\n",
    "  use_rad=True,\n",
    "  use_proj=False,\n",
    "  use_tables=False\n",
    ")\n",
    "system.compute_c_mat(max_mom=2, state_specs=False, include_temp=False)"
   ]
  },
  {
   "cell_type": "markdown",
   "metadata": {},
   "source": [
    "Plot basis"
   ]
  },
  {
   "cell_type": "code",
   "execution_count": null,
   "metadata": {},
   "outputs": [],
   "source": [
    "basis = pickle.load(open(path_to_basis, \"rb\"))"
   ]
  },
  {
   "cell_type": "code",
   "execution_count": null,
   "metadata": {},
   "outputs": [],
   "source": [
    "basis[\"phi\"].shape"
   ]
  },
  {
   "cell_type": "code",
   "execution_count": null,
   "metadata": {},
   "outputs": [],
   "source": []
  },
  {
   "cell_type": "code",
   "execution_count": null,
   "metadata": {},
   "outputs": [],
   "source": [
    "rdim = 8\n",
    "\n",
    "system.set_rom(\n",
    "  phi=basis[\"phi\"][:,:rdim],\n",
    "  psi=basis[\"psi\"][:,:rdim],\n",
    "  mask=basis[\"mask\"]\n",
    ")"
   ]
  },
  {
   "cell_type": "code",
   "execution_count": null,
   "metadata": {},
   "outputs": [],
   "source": [
    "x = np.random.rand(system.nb_eqs)"
   ]
  },
  {
   "cell_type": "code",
   "execution_count": null,
   "metadata": {},
   "outputs": [],
   "source": [
    "def build_basis(nb_feat, pxi, mask):\n",
    "  size_xnot = int(sum(~mask))\n",
    "  size_proj = pxi.shape[1]\n",
    "  basis = np.zeros((nb_feat, size_xnot+size_proj))\n",
    "  i = 0\n",
    "  for j in range(nb_feat):\n",
    "    if (not mask[j]):\n",
    "      basis[j,i] = 1.0\n",
    "      i += 1\n",
    "  for j in range(size_proj):\n",
    "    basis[mask,i] = pxi[:,j]\n",
    "    i += 1\n",
    "  return basis"
   ]
  },
  {
   "cell_type": "code",
   "execution_count": null,
   "metadata": {},
   "outputs": [],
   "source": [
    "def build_basis(nb_feat, pxi, mask):\n",
    "  # Compute sizes\n",
    "  size_xnot = np.sum(~mask)  # Number of excluded states\n",
    "  size_zhat = pxi.shape[1]   # Number of reduced states\n",
    "  # Allocate full basis matrix\n",
    "  basis = np.zeros((nb_feat, size_xnot + size_zhat))\n",
    "  # Insert projected basis\n",
    "  basis[mask,:size_zhat] = pxi\n",
    "  # Insert identity elements for unselected states\n",
    "  ix = np.where(~mask)[0]\n",
    "  iy = size_zhat + np.arange(size_xnot)\n",
    "  basis[ix,iy] = 1.0\n",
    "  return basis"
   ]
  },
  {
   "cell_type": "code",
   "execution_count": null,
   "metadata": {},
   "outputs": [],
   "source": [
    "Phi = build_basis(system.nb_eqs, system.phi.numpy(), system.mask.numpy())\n",
    "Psi = build_basis(system.nb_eqs, system.psi.numpy(), system.mask.numpy())"
   ]
  },
  {
   "cell_type": "code",
   "execution_count": null,
   "metadata": {},
   "outputs": [],
   "source": [
    "# Phi = []\n",
    "# for i in (0,1,-2,-1):\n",
    "#   e = np.zeros(system.nb_eqs)\n",
    "#   e[i] = 1.0\n",
    "#   Phi.append(e)\n",
    "# for p in system.phi.T:\n",
    "#   e = np.zeros(system.nb_eqs)\n",
    "#   e[system.mask] = p\n",
    "#   Phi.append(e)\n",
    "# Phi = np.vstack(Phi).T\n",
    "\n",
    "# Psi = []\n",
    "# for i in (0,1,-2,-1):\n",
    "#   e = np.zeros(system.nb_eqs)\n",
    "#   e[i] = 1.0\n",
    "#   Psi.append(e)\n",
    "# for p in system.psi.T:\n",
    "#   e = np.zeros(system.nb_eqs)\n",
    "#   e[system.mask] = p\n",
    "#   Psi.append(e)\n",
    "# Psi = np.vstack(Psi).T"
   ]
  },
  {
   "cell_type": "code",
   "execution_count": null,
   "metadata": {},
   "outputs": [],
   "source": [
    "P = Phi @ Psi.T\n",
    "x1 = system.decode(system.encode(x))\n",
    "x2 = P @ x\n",
    "x1, x2, x1-x2"
   ]
  },
  {
   "cell_type": "code",
   "execution_count": null,
   "metadata": {},
   "outputs": [],
   "source": []
  },
  {
   "cell_type": "code",
   "execution_count": null,
   "metadata": {},
   "outputs": [],
   "source": []
  },
  {
   "cell_type": "code",
   "execution_count": null,
   "metadata": {},
   "outputs": [],
   "source": []
  },
  {
   "cell_type": "code",
   "execution_count": null,
   "metadata": {},
   "outputs": [],
   "source": [
    "e = np.zeros(system.nb_eqs)\n",
    "Phi = np.zeros((system.nb_eqs, system.rom_dim + int(sum(~system.mask))))\n",
    "for i in (0,1,-2,-1):\n",
    "  Phi[i,i] = 1.0\n",
    "Phi[2:-2,2:-2] = system.phi\n",
    "\n",
    "Psi = np.zeros((system.nb_eqs, system.rom_dim + int(sum(~system.mask))))\n",
    "for i in (0,1,-2,-1):\n",
    "  Psi[i,i] = 1.0\n",
    "Psi[2:-2,2:-2] = system.psi"
   ]
  },
  {
   "cell_type": "code",
   "execution_count": null,
   "metadata": {},
   "outputs": [],
   "source": [
    "P = Phi @ Psi.T\n",
    "x1 = system.decode(system.encode(x))\n",
    "x2 = P @ x\n",
    "x1, x2, x1-x2"
   ]
  },
  {
   "cell_type": "code",
   "execution_count": null,
   "metadata": {},
   "outputs": [],
   "source": [
    "x = np.zeros((8,4))\n",
    "x[1,1] = 1.0\n",
    "x"
   ]
  },
  {
   "cell_type": "code",
   "execution_count": null,
   "metadata": {},
   "outputs": [],
   "source": []
  },
  {
   "cell_type": "code",
   "execution_count": null,
   "metadata": {},
   "outputs": [],
   "source": [
    "for i in range(10):\n",
    "  nb = str(i+1)\n",
    "  b = basis[\"phi\"][:,i]\n",
    "  pltt.plot_dist_2d(\n",
    "    x=np.arange(len(b)),\n",
    "    y=b,\n",
    "    labels=[r\"$\\epsilon_i$ [eV]\", r\"$\\%s_{%s}$\" % (\"phi\", nb)],\n",
    "    scales=[\"linear\", \"linear\"],\n",
    "    markersize=1,\n",
    "    # figname=path + f\"/{name}_{nb.zfill(2)}\",\n",
    "    save=False,\n",
    "    show=True\n",
    "  )"
   ]
  },
  {
   "cell_type": "code",
   "execution_count": null,
   "metadata": {},
   "outputs": [],
   "source": [
    "for i in range(10):\n",
    "  nb = str(i+1)\n",
    "  b = basis[\"psi\"][:,i]\n",
    "  pltt.plot_dist_2d(\n",
    "    x=np.arange(len(b)),\n",
    "    y=b,\n",
    "    labels=[r\"$\\epsilon_i$ [eV]\", r\"$\\%s_{%s}$\" % (\"psi\", nb)],\n",
    "    scales=[\"linear\", \"linear\"],\n",
    "    markersize=1,\n",
    "    # figname=path + f\"/{name}_{nb.zfill(2)}\",\n",
    "    save=False,\n",
    "    show=True\n",
    "  )"
   ]
  },
  {
   "cell_type": "markdown",
   "metadata": {},
   "source": [
    "Load test cases"
   ]
  },
  {
   "cell_type": "code",
   "execution_count": null,
   "metadata": {},
   "outputs": [],
   "source": [
    "testcases = {k: utils.load_case(filename=path_to_data + \"case_\" + k + \".p\") for k in cases}"
   ]
  },
  {
   "cell_type": "code",
   "execution_count": null,
   "metadata": {},
   "outputs": [],
   "source": [
    "for k, testcase in testcases.items():\n",
    "  # Testcase\n",
    "  print(k)\n",
    "  print(\"=\"*20)\n",
    "  t, y, rho = [testcase[k] for k in (\"t\", \"y\", \"rho\")]\n",
    "  system.mix.set_rho(rho)\n",
    "  n, Th, Te = system.get_prim(y)\n",
    "  # Species\n",
    "  for s in system.mix.species.values():\n",
    "    print(s.name)\n",
    "    for i in s.indices:\n",
    "      plt.loglog(t, n[i])\n",
    "    plt.show()\n",
    "    plt.close()\n",
    "  # Temperatures\n",
    "  print(\"Th-Te\")\n",
    "  plt.semilogx(t, Th)\n",
    "  plt.semilogx(t, Te)\n",
    "  plt.show()\n",
    "  plt.close()"
   ]
  },
  {
   "cell_type": "markdown",
   "metadata": {},
   "source": [
    "Test ROM"
   ]
  },
  {
   "cell_type": "code",
   "execution_count": null,
   "metadata": {},
   "outputs": [],
   "source": [
    "rdim = 8\n",
    "\n",
    "system.set_rom(\n",
    "  phi=basis[\"phi\"][:,:rdim],\n",
    "  psi=basis[\"psi\"][:,:rdim],\n",
    "  mask=path_to_mask\n",
    ")"
   ]
  },
  {
   "cell_type": "code",
   "execution_count": null,
   "metadata": {},
   "outputs": [],
   "source": [
    "for k, testcase in testcases.items():\n",
    "  # Testcase\n",
    "  print(k)\n",
    "  print(\"=\"*20)\n",
    "  # FOM solution\n",
    "  t, y0, y, rho = [testcase[k] for k in (\"t\", \"y0\", \"y\", \"rho\")]\n",
    "  system.mix.set_rho(rho)\n",
    "  prim_fom = system.get_prim(y)\n",
    "  mom_fom = system.compute_mom(prim_fom[0])\n",
    "  # ROM solution\n",
    "  yrom, _ = system.solve_rom(t, y0, rho)\n",
    "  prim_rom = system.get_prim(yrom)\n",
    "  mom_rom = system.compute_mom(prim_rom[0])\n",
    "  nt = len(yrom.T)\n",
    "  nt\n",
    "  # Temperatures\n",
    "  print(\"Th-Te\")\n",
    "  for i in range(2):\n",
    "    plt.semilogx(t[:nt], prim_fom[1+i][:nt])\n",
    "    plt.semilogx(t[:nt], prim_rom[1+i][:nt], ls=\"--\", color=plt.gca().lines[-1].get_color(), lw=2.0)\n",
    "  plt.show()\n",
    "  plt.close()\n",
    "  # Species\n",
    "  for s in system.mix.species.values():\n",
    "    print(s.name)\n",
    "    for i in s.indices:\n",
    "      plt.loglog(t[:nt], prim_fom[0][i,:nt])\n",
    "      plt.loglog(t[:nt], prim_rom[0][i,:nt], ls=\"--\", color=plt.gca().lines[-1].get_color(), lw=2.0)\n",
    "    plt.show()\n",
    "    plt.close()\n",
    "  # Moments\n",
    "  for s in system.mix.species.values():\n",
    "    if s.name != \"em\":\n",
    "      for m in range(2):\n",
    "        print(s.name+f\" - Moment: {m}\")\n",
    "        plt.semilogx(t[:nt], mom_fom[s.name][f\"m{m}\"][:nt])\n",
    "        plt.semilogx(t[:nt], mom_rom[s.name][f\"m{m}\"][:nt], ls=\"--\", color=plt.gca().lines[-1].get_color(), lw=2.0)\n",
    "        plt.yscale(\"log\" if m == 0 else \"linear\")\n",
    "        plt.show()\n",
    "        plt.close()"
   ]
  }
 ],
 "metadata": {
  "kernelspec": {
   "display_name": "Python 3",
   "language": "python",
   "name": "python3"
  },
  "language_info": {
   "codemirror_mode": {
    "name": "ipython",
    "version": 3
   },
   "file_extension": ".py",
   "mimetype": "text/x-python",
   "name": "python",
   "nbconvert_exporter": "python",
   "pygments_lexer": "ipython3",
   "version": "3.8.15"
  }
 },
 "nbformat": 4,
 "nbformat_minor": 2
}
