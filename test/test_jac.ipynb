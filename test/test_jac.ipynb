{
 "cells": [
  {
   "cell_type": "code",
   "execution_count": null,
   "metadata": {},
   "outputs": [],
   "source": [
    "import os\n",
    "import sys\n",
    "import copy\n",
    "import torch\n",
    "import numpy as np\n",
    "import scipy as sp\n",
    "import pandas as pd\n",
    "import matplotlib.pyplot as plt"
   ]
  },
  {
   "cell_type": "code",
   "execution_count": null,
   "metadata": {},
   "outputs": [],
   "source": [
    "sys.path.append(\"/home/zanardi/Codes/ML/ROMAr/romar/\")\n",
    "from romar import env\n",
    "from romar.const import *\n",
    "from romar import backend as bkd\n",
    "from romar.systems import BoxAd"
   ]
  },
  {
   "cell_type": "code",
   "execution_count": null,
   "metadata": {},
   "outputs": [],
   "source": [
    "env_opts = {\n",
    "  \"backend\": \"numpy\",\n",
    "  \"device\": \"cpu\",\n",
    "  \"device_idx\": 0,\n",
    "  \"nb_threads\": 2,\n",
    "  \"epsilon\": None,\n",
    "  \"floatx\": \"float64\"\n",
    "}\n",
    "env.set(**env_opts)"
   ]
  },
  {
   "cell_type": "code",
   "execution_count": null,
   "metadata": {},
   "outputs": [],
   "source": [
    "path_to_dtb = \"/home/zanardi/Codes/ML/ROMAr/romar/examples/database\"\n",
    "out_path = \"/home/zanardi/Codes/ML/ROMAr/romar/examples/database/utils/rom_data/\"\n",
    "os.makedirs(out_path, exist_ok=True)"
   ]
  },
  {
   "cell_type": "code",
   "execution_count": null,
   "metadata": {},
   "outputs": [],
   "source": [
    "model = BoxAd(\n",
    "  species={k: path_to_dtb + \"/species/\" + k + \".json\" for k in (\"Ar\", \"Arp\", \"em\")},\n",
    "  kin_dtb=path_to_dtb + \"/rates/kin_fit.p\",\n",
    "  rad_dtb=path_to_dtb + \"/rates/rad_fit.p\",\n",
    "  use_rad=True,\n",
    "  use_tables=False\n",
    ")"
   ]
  },
  {
   "cell_type": "code",
   "execution_count": null,
   "metadata": {},
   "outputs": [],
   "source": [
    "sol_ref = \"/home/zanardi/Workspace/AirDatabase/ThermoChemModels/StS/argon/testcase/0d_box_ad/output_box/\""
   ]
  },
  {
   "cell_type": "code",
   "execution_count": null,
   "metadata": {},
   "outputs": [],
   "source": [
    "columns = \"t X_em X_Ar X_Arp Th Te rho p n E\".split()\n",
    "box = np.loadtxt(sol_ref + \"/box.dat\")\n",
    "box = pd.DataFrame(box, columns=columns)\n",
    "box"
   ]
  },
  {
   "cell_type": "code",
   "execution_count": null,
   "metadata": {},
   "outputs": [],
   "source": [
    "t = box[\"t\"].values\n",
    "rho, Th0, Te0 = [box[k][0] for k in (\"rho\", \"Th\", \"Te\")]"
   ]
  },
  {
   "cell_type": "code",
   "execution_count": null,
   "metadata": {},
   "outputs": [],
   "source": [
    "def read_pop(name):\n",
    "  ni_gi  = np.loadtxt(sol_ref + f\"/pop_{name}.dat\", comments=\"&\", skiprows=2)[:,1]\n",
    "  levels = model.mix.species[name].lev\n",
    "  nb_pts = len(ni_gi) / len(levels[\"g\"])\n",
    "  ni_gi  = np.stack(np.split(ni_gi, nb_pts, axis=0), axis=0)\n",
    "  return ni_gi * levels[\"g\"].numpy()"
   ]
  },
  {
   "cell_type": "code",
   "execution_count": null,
   "metadata": {},
   "outputs": [],
   "source": [
    "n = {k: read_pop(k) for k in (\"Ar\", \"Arp\")}\n",
    "n[\"em\"] = (box[\"X_em\"] * box[\"n\"]).values.reshape(-1,1)\n",
    "n_true = np.hstack([n[k] for k in model.species_order]).T\n",
    "rho_true = model.mix.get_rho(bkd.to_torch(n_true)).numpy()\n",
    "T_true = box[[\"Th\", \"Te\"]].values.T\n",
    "rho = np.sum(rho_true[:,0])\n",
    "# rho = 1e-2"
   ]
  },
  {
   "cell_type": "code",
   "execution_count": null,
   "metadata": {},
   "outputs": [],
   "source": [
    "# y_true = np.vstack([rho_true/rho, T_true]).T\n",
    "# np.savetxt(out_path + \"/y.txt\", y_true)\n",
    "# np.savetxt(out_path + \"/t.txt\", t)"
   ]
  },
  {
   "cell_type": "code",
   "execution_count": null,
   "metadata": {},
   "outputs": [],
   "source": [
    "ei = model.mix.species[\"em\"].indices\n",
    "y0 = np.zeros(model.nb_eqs)\n",
    "y0[:model.mix.nb_comp] = rho_true[:,0] / rho\n",
    "y0[-2] = Th0\n",
    "y0[-1] = model.mix.get_pe(Te=Te0, ne=n_true[ei,0])\n",
    "y0"
   ]
  },
  {
   "cell_type": "code",
   "execution_count": null,
   "metadata": {},
   "outputs": [],
   "source": [
    "# rho = np.loadtxt(out_path + \"/rho.txt\")\n",
    "# y_true = np.loadtxt(out_path + \"/y_plato.txt\")"
   ]
  },
  {
   "cell_type": "code",
   "execution_count": null,
   "metadata": {},
   "outputs": [],
   "source": [
    "# w0, Th0, Te0 = y_true[0,:-2], y_true[0,-2], y_true[0,-1]\n",
    "# model.mix.set_rho(rho)\n",
    "# n0 = model.mix.get_n(w0)\n",
    "# pe0 = model.mix.get_pe(Te=Te0, ne=n0[0])"
   ]
  },
  {
   "cell_type": "code",
   "execution_count": null,
   "metadata": {},
   "outputs": [],
   "source": [
    "# ei = model.mix.species[\"em\"].indices\n",
    "# y0 = np.zeros(model.nb_eqs)\n",
    "# y0[:model.mix.nb_comp] = w0\n",
    "# y0[-2] = Th0\n",
    "# y0[-1] = pe0\n",
    "# y0"
   ]
  },
  {
   "cell_type": "code",
   "execution_count": null,
   "metadata": {},
   "outputs": [],
   "source": [
    "y, runtime = model.solve_fom(t, y0, rho, linear=False)\n",
    "runtime"
   ]
  },
  {
   "cell_type": "code",
   "execution_count": null,
   "metadata": {},
   "outputs": [],
   "source": [
    "n_pred, *T_pred = model.get_prim(y, clip=False)"
   ]
  },
  {
   "cell_type": "code",
   "execution_count": null,
   "metadata": {},
   "outputs": [],
   "source": [
    "# y[-1] = T_pred[-1]\n",
    "# np.savetxt(out_path + \"/y_romar.txt\", y.T)"
   ]
  },
  {
   "cell_type": "code",
   "execution_count": null,
   "metadata": {},
   "outputs": [],
   "source": [
    "err = []\n",
    "for i in range(2):\n",
    "  ierr = np.mean(np.abs((T_true[i] - T_pred[i])/T_true[i]))\n",
    "  err.append(ierr)\n",
    "  plt.semilogx(t[1:], T_true[i][1:])\n",
    "  plt.semilogx(t[1:], T_pred[i][1:], ls=\"--\", color=plt.gca().lines[-1].get_color())\n",
    "print(\"T\")\n",
    "print(np.mean(err))\n",
    "plt.show()\n",
    "plt.close()"
   ]
  },
  {
   "cell_type": "code",
   "execution_count": null,
   "metadata": {},
   "outputs": [],
   "source": [
    "for s in model.mix.species.values():\n",
    "  print(s.name)\n",
    "  err = []\n",
    "  for i in s.indices:\n",
    "    ierr = np.mean(np.abs((n_true[i] - n_pred[i])/n_true[i]))\n",
    "    err.append(ierr)\n",
    "    plt.loglog(t[1:], n_true[i][1:])\n",
    "    plt.loglog(t[1:], n_pred[i][1:], ls=\"--\", color=plt.gca().lines[-1].get_color())\n",
    "  print(np.mean(err))\n",
    "  plt.show()\n",
    "  plt.close()"
   ]
  },
  {
   "cell_type": "code",
   "execution_count": null,
   "metadata": {},
   "outputs": [],
   "source": [
    "# Plot ni solution\n",
    "for i in range(model.nb_comp):\n",
    "  plt.loglog(t[1:], n_true[i][1:])\n",
    "  plt.loglog(t[1:], n_pred[i][1:], ls=\"--\", lw=2.0, color=plt.gca().lines[-1].get_color())\n",
    "plt.xlabel(\"$t$ [s]\")\n",
    "plt.ylabel(\"$n_i$ [m$^{-3}$]\")\n",
    "plt.savefig(out_path + \"/ni_sol.png\")\n",
    "plt.close()\n",
    "\n",
    "# Plot ni error\n",
    "err = 100 * np.abs((n_true - n_pred)/n_true)\n",
    "plt.loglog(t[1:], err.T[1:])\n",
    "plt.xlabel(\"$t$ [s]\")\n",
    "plt.ylabel(\"$n_i$ error [%]\")\n",
    "plt.savefig(out_path + \"/ni_err.png\")\n",
    "plt.close()"
   ]
  },
  {
   "cell_type": "code",
   "execution_count": null,
   "metadata": {},
   "outputs": [],
   "source": [
    "from tqdm import tqdm"
   ]
  },
  {
   "cell_type": "code",
   "execution_count": null,
   "metadata": {},
   "outputs": [],
   "source": [
    "%timeit model._jac(0.0, yi)"
   ]
  },
  {
   "cell_type": "code",
   "execution_count": null,
   "metadata": {},
   "outputs": [],
   "source": [
    "%timeit sp.optimize.approx_fprime(xk=yi, f=lambda z: model._fun_np(0.0, z), epsilon=1e-15)"
   ]
  },
  {
   "cell_type": "code",
   "execution_count": null,
   "metadata": {},
   "outputs": [],
   "source": [
    "err1, err2 = [], []\n",
    "for yi in tqdm(y.T[::8]):\n",
    "  jp = model._jac(0.0, yi)\n",
    "  # Finite difference Jacobian\n",
    "  jt = sp.optimize.approx_fprime(\n",
    "    xk=yi,\n",
    "    f=lambda z: model._fun_np(0.0, z),\n",
    "    epsilon=1e-15\n",
    "  )\n",
    "  err1.append(np.linalg.norm(jp-jt)/np.linalg.norm(jt))\n",
    "  err2.append(np.linalg.norm(jp-jt)/np.linalg.norm(jp))\n",
    "err1 = np.asarray(err1)\n",
    "err2 = np.asarray(err2)"
   ]
  },
  {
   "cell_type": "code",
   "execution_count": null,
   "metadata": {},
   "outputs": [],
   "source": [
    "plt.loglog(t[::8], err1)\n",
    "plt.show()\n",
    "plt.close()"
   ]
  },
  {
   "cell_type": "code",
   "execution_count": null,
   "metadata": {},
   "outputs": [],
   "source": [
    "plt.loglog(t[::8], err2)\n",
    "plt.show()\n",
    "plt.close()"
   ]
  },
  {
   "cell_type": "code",
   "execution_count": null,
   "metadata": {},
   "outputs": [],
   "source": [
    "stop"
   ]
  },
  {
   "cell_type": "code",
   "execution_count": null,
   "metadata": {},
   "outputs": [],
   "source": []
  },
  {
   "cell_type": "markdown",
   "metadata": {},
   "source": [
    "Linear model"
   ]
  },
  {
   "cell_type": "code",
   "execution_count": null,
   "metadata": {},
   "outputs": [],
   "source": [
    "ylin, runtime = model.solve_fom(t, y0, rho, linear=True)\n",
    "runtime"
   ]
  },
  {
   "cell_type": "code",
   "execution_count": null,
   "metadata": {},
   "outputs": [],
   "source": [
    "n_lin, *T_lin = model.get_prim(ylin, clip=False)\n",
    "nt_lin = n_lin.shape[1]"
   ]
  },
  {
   "cell_type": "code",
   "execution_count": null,
   "metadata": {},
   "outputs": [],
   "source": [
    "err = []\n",
    "for i in range(2):\n",
    "  ierr = np.mean(np.abs((T_pred[i][:nt_lin] - T_lin[i])/T_pred[i][:nt_lin]))\n",
    "  err.append(ierr)\n",
    "  plt.semilogx(t[1:nt_lin], T_pred[i][1:nt_lin])\n",
    "  plt.semilogx(t[1:nt_lin], T_lin[i][1:], ls=\"--\", color=plt.gca().lines[-1].get_color())\n",
    "print(\"T\")\n",
    "print(np.mean(err))\n",
    "plt.show()\n",
    "plt.close()"
   ]
  },
  {
   "cell_type": "code",
   "execution_count": null,
   "metadata": {},
   "outputs": [],
   "source": [
    "for s in model.mix.species.values():\n",
    "  print(s.name)\n",
    "  err = []\n",
    "  for i in s.indices:\n",
    "    ierr = np.mean(np.abs((n_pred[i] - n_lin[i])/n_pred[i]))\n",
    "    err.append(ierr)\n",
    "    plt.loglog(t[1:], n_pred[i][1:])\n",
    "    plt.loglog(t[1:], n_lin[i][1:], ls=\"--\", color=plt.gca().lines[-1].get_color())\n",
    "  print(np.mean(err))\n",
    "  plt.show()\n",
    "  plt.close()"
   ]
  },
  {
   "cell_type": "markdown",
   "metadata": {},
   "source": [
    "Sample time points"
   ]
  },
  {
   "cell_type": "code",
   "execution_count": null,
   "metadata": {},
   "outputs": [],
   "source": [
    "y_interp = sp.interpolate.interp1d(t, y, kind=\"linear\", axis=-1)"
   ]
  },
  {
   "cell_type": "code",
   "execution_count": null,
   "metadata": {},
   "outputs": [],
   "source": [
    "tvec = np.array([0.0] + np.geomspace(1e-12, 1e-4, 100).tolist())\n",
    "tsamples = np.geomspace(1e-13, 1e-4, 10)"
   ]
  },
  {
   "cell_type": "code",
   "execution_count": null,
   "metadata": {},
   "outputs": [],
   "source": [
    "for i, ti in enumerate(tsamples):\n",
    "  \n",
    "  print(f\"Time {i+1}: {ti} s\")\n",
    "  print(\"=\"*40)\n",
    "\n",
    "  yref = y_interp(tvec+ti)\n",
    "  ylin, _ = model.solve_fom(tvec, yref[:,0], rho, linear=True)\n",
    "\n",
    "  tmin = model.compute_timescale(yref[:,0], rho)\n",
    "  tmax = model.compute_lin_tmax(tvec, yref, rho, err_max=25.0)\n",
    "  print(tmin, tmax)\n",
    "\n",
    "  for s in model.mix.species.values():\n",
    "    for i in s.indices:\n",
    "      plt.loglog(tvec[1:], yref[i][1:])\n",
    "      plt.loglog(tvec[1:], ylin[i][1:], ls=\"--\", color=plt.gca().lines[-1].get_color())\n",
    "    plt.axvline(x=tmax, color='r', linestyle='--')\n",
    "    plt.show()\n",
    "    plt.close()"
   ]
  }
 ],
 "metadata": {
  "kernelspec": {
   "display_name": "sciml",
   "language": "python",
   "name": "python3"
  },
  "language_info": {
   "codemirror_mode": {
    "name": "ipython",
    "version": 3
   },
   "file_extension": ".py",
   "mimetype": "text/x-python",
   "name": "python",
   "nbconvert_exporter": "python",
   "pygments_lexer": "ipython3",
   "version": "3.8.15"
  }
 },
 "nbformat": 4,
 "nbformat_minor": 2
}
