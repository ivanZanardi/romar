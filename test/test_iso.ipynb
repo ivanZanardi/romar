{
 "cells": [
  {
   "cell_type": "code",
   "execution_count": 1,
   "metadata": {},
   "outputs": [],
   "source": [
    "import sys\n",
    "import copy\n",
    "import torch\n",
    "import numpy as np\n",
    "import scipy as sp\n",
    "import pandas as pd\n",
    "import matplotlib.pyplot as plt"
   ]
  },
  {
   "cell_type": "code",
   "execution_count": 2,
   "metadata": {},
   "outputs": [],
   "source": [
    "sys.path.append(\"/home/zanardi/Codes/ML/ROMAr/romar/\")\n",
    "from romar import env\n",
    "from romar import const\n",
    "from romar import backend as bkd\n",
    "from romar.systems import BoxIso"
   ]
  },
  {
   "cell_type": "code",
   "execution_count": 3,
   "metadata": {},
   "outputs": [],
   "source": [
    "env_opts = {\n",
    "  \"backend\": \"numpy\",\n",
    "  \"device\": \"cpu\",\n",
    "  \"device_idx\": 0,\n",
    "  \"nb_threads\": 2,\n",
    "  \"epsilon\": None,\n",
    "  \"floatx\": \"float64\"\n",
    "}\n",
    "env.set(**env_opts)"
   ]
  },
  {
   "cell_type": "code",
   "execution_count": 4,
   "metadata": {},
   "outputs": [],
   "source": [
    "path_to_dtb = \"/home/zanardi/Codes/ML/ROMAr/romar/examples/database\""
   ]
  },
  {
   "cell_type": "code",
   "execution_count": 5,
   "metadata": {},
   "outputs": [],
   "source": [
    "model = BoxIso(\n",
    "  species={k: path_to_dtb + \"/species/\" + k + \".json\" for k in (\"Ar\", \"Arp\", \"em\")},\n",
    "  kin_dtb=path_to_dtb + \"/rates/kin_fit.p\",\n",
    "  rad_dtb=path_to_dtb + \"/rates/rad_fit.p\",\n",
    "  use_rad=True,\n",
    "  use_coll_int_fit=True\n",
    ")"
   ]
  },
  {
   "cell_type": "code",
   "execution_count": 6,
   "metadata": {},
   "outputs": [],
   "source": [
    "sol_ref = \"/home/zanardi/Workspace/AirDatabase/ThermoChemModels/StS/argon/testcase/test_iso/output_box\""
   ]
  },
  {
   "cell_type": "code",
   "execution_count": null,
   "metadata": {},
   "outputs": [],
   "source": [
    "columns = \"t X_em X_Ar X_Arp Th Te rho p n E\".split()\n",
    "box = np.loadtxt(sol_ref + \"/box.dat\")\n",
    "box = pd.DataFrame(box, columns=columns)\n",
    "box"
   ]
  },
  {
   "cell_type": "code",
   "execution_count": 8,
   "metadata": {},
   "outputs": [],
   "source": [
    "t = box[\"t\"].values\n",
    "rho, Th0, Te0 = [box[k][0] for k in (\"rho\", \"Th\", \"Te\")]"
   ]
  },
  {
   "cell_type": "code",
   "execution_count": 9,
   "metadata": {},
   "outputs": [],
   "source": [
    "def read_pop(name):\n",
    "  ni_gi  = np.loadtxt(sol_ref + f\"/pop_{name}.dat\", comments=\"&\", skiprows=2)[:,1]\n",
    "  levels = model.mix.species[name].lev\n",
    "  nb_pts = len(ni_gi) / len(levels[\"g\"])\n",
    "  ni_gi  = np.stack(np.split(ni_gi, nb_pts, axis=0), axis=0)\n",
    "  return ni_gi * levels[\"g\"].numpy()"
   ]
  },
  {
   "cell_type": "code",
   "execution_count": 10,
   "metadata": {},
   "outputs": [],
   "source": [
    "n = {k: read_pop(k) for k in (\"Ar\", \"Arp\")}\n",
    "n[\"em\"] = (box[\"X_em\"] * box[\"n\"]).values.reshape(-1,1)\n",
    "n_true = np.hstack([n[k] for k in model.species_order]).T\n",
    "rho_true = model.mix.get_rho(bkd.to_torch(n_true)).numpy()\n",
    "T_true = box[[\"Th\", \"Te\"]].values.T\n",
    "rho = np.sum(rho_true[:,0])"
   ]
  },
  {
   "cell_type": "code",
   "execution_count": null,
   "metadata": {},
   "outputs": [],
   "source": [
    "y0 = np.zeros(model.nb_eqs+2)\n",
    "y0[:model.mix.nb_comp] = rho_true[:,0] / rho\n",
    "y0[-2] = Th0\n",
    "y0[-1] = model.mix.get_pe(Te=Te0, ne=n_true[-1,0])\n",
    "y0"
   ]
  },
  {
   "cell_type": "code",
   "execution_count": null,
   "metadata": {},
   "outputs": [],
   "source": [
    "y, runtime = model.solve_fom(t, y0, rho)\n",
    "runtime"
   ]
  },
  {
   "cell_type": "code",
   "execution_count": 13,
   "metadata": {},
   "outputs": [],
   "source": [
    "w_pred = copy.deepcopy(y[:model.mix.nb_comp])\n",
    "n_pred = model.mix.get_n(bkd.to_torch(w_pred)).numpy()"
   ]
  },
  {
   "cell_type": "code",
   "execution_count": null,
   "metadata": {},
   "outputs": [],
   "source": [
    "for s in model.mix.species.values():\n",
    "  print(s.name)\n",
    "  for i in s.indices:\n",
    "    plt.loglog(t[1:], n_true[i][1:])\n",
    "    plt.loglog(t[1:], n_pred[i][1:], ls=\"--\", color=plt.gca().lines[-1].get_color())\n",
    "  plt.show()\n",
    "  plt.close()"
   ]
  },
  {
   "cell_type": "markdown",
   "metadata": {},
   "source": [
    "Linear model"
   ]
  },
  {
   "cell_type": "code",
   "execution_count": 15,
   "metadata": {},
   "outputs": [],
   "source": [
    "def solve_lin(t, y0):\n",
    "  A = model.jac(0.0, y0)\n",
    "  b = model.fun(0.0, y0)\n",
    "  y = sp.integrate.solve_ivp(\n",
    "    fun=lambda t, y: A @ y + b,\n",
    "    t_span=[0.0,t[-1]],\n",
    "    y0=np.zeros_like(y0),\n",
    "    method=\"LSODA\",\n",
    "    t_eval=t,\n",
    "    first_step=1e-14,\n",
    "    rtol=1e-6,\n",
    "    atol=1e-20,\n",
    "    jac=lambda t, y: A\n",
    "  ).y\n",
    "  y += y0.reshape(-1,1)\n",
    "  return y"
   ]
  },
  {
   "cell_type": "code",
   "execution_count": 16,
   "metadata": {},
   "outputs": [],
   "source": [
    "ylin = solve_lin(t, y0[:-2])"
   ]
  },
  {
   "cell_type": "code",
   "execution_count": null,
   "metadata": {},
   "outputs": [],
   "source": [
    "for i, yi in enumerate(y.T):\n",
    "  A = model.jac(0.0, yi)\n",
    "  l, v = sp.linalg.eig(A.T)\n",
    "  stable = (l.real < 0.0).all()\n",
    "  if not stable:\n",
    "    print(np.where(l.real >= 0.0))\n",
    "    print(t[i], l.real.max())"
   ]
  },
  {
   "cell_type": "code",
   "execution_count": 18,
   "metadata": {},
   "outputs": [],
   "source": [
    "w_lin = copy.deepcopy(ylin[:model.mix.nb_comp])\n",
    "n_lin = model.mix.get_n(bkd.to_torch(w_lin)).numpy()"
   ]
  },
  {
   "cell_type": "code",
   "execution_count": null,
   "metadata": {},
   "outputs": [],
   "source": [
    "for s in model.mix.species.values():\n",
    "  print(s.name)\n",
    "  err = []\n",
    "  for i in s.indices:\n",
    "    ierr = np.mean(np.abs((n_pred[i] - n_lin[i])/n_pred[i]))\n",
    "    err.append(ierr)\n",
    "    plt.loglog(t[1:], n_pred[i][1:])\n",
    "    plt.loglog(t[1:], n_lin[i][1:], ls=\"--\", color=plt.gca().lines[-1].get_color())\n",
    "  print(np.mean(err))\n",
    "  plt.show()\n",
    "  plt.close()"
   ]
  }
 ],
 "metadata": {
  "kernelspec": {
   "display_name": "sciml",
   "language": "python",
   "name": "python3"
  },
  "language_info": {
   "codemirror_mode": {
    "name": "ipython",
    "version": 3
   },
   "file_extension": ".py",
   "mimetype": "text/x-python",
   "name": "python",
   "nbconvert_exporter": "python",
   "pygments_lexer": "ipython3",
   "version": "3.8.15"
  }
 },
 "nbformat": 4,
 "nbformat_minor": 2
}
