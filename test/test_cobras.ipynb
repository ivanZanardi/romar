{
 "cells": [
  {
   "cell_type": "code",
   "execution_count": 1,
   "metadata": {},
   "outputs": [],
   "source": [
    "import sys\n",
    "import copy\n",
    "import torch\n",
    "import numpy as np\n",
    "import scipy as sp\n",
    "import pandas as pd\n",
    "import dill as pickle\n",
    "import matplotlib.pyplot as plt"
   ]
  },
  {
   "cell_type": "code",
   "execution_count": 2,
   "metadata": {},
   "outputs": [],
   "source": [
    "sys.path.append(\"/home/zanardi/Codes/ML/ROMAr/romar/\")\n",
    "from romar import env\n",
    "from romar import const\n",
    "from romar import utils\n",
    "from romar import backend as bkd\n",
    "from romar.systems import BoxAd\n",
    "from romar.roms import CoBRAS\n",
    "\n",
    "import romar.postproc.plotting as pltt"
   ]
  },
  {
   "cell_type": "code",
   "execution_count": 3,
   "metadata": {},
   "outputs": [],
   "source": [
    "env_opts = {\n",
    "  \"backend\": \"numpy\",\n",
    "  \"device\": \"cpu\",\n",
    "  \"device_idx\": 0,\n",
    "  \"nb_threads\": 2,\n",
    "  \"epsilon\": 1e-16,\n",
    "  \"floatx\": \"float64\"\n",
    "}\n",
    "env.set(**env_opts)"
   ]
  },
  {
   "cell_type": "code",
   "execution_count": 4,
   "metadata": {},
   "outputs": [],
   "source": [
    "path_to_dtb = \"/home/zanardi/Codes/ML/ROMAr/romar/examples/database\""
   ]
  },
  {
   "cell_type": "code",
   "execution_count": 5,
   "metadata": {},
   "outputs": [],
   "source": [
    "system = BoxAd(\n",
    "  species={k: path_to_dtb + \"/species/\" + k + \".json\" for k in (\"Ar\", \"Arp\", \"em\")},\n",
    "  kin_dtb=path_to_dtb + \"/rates/kin_fit.p\",\n",
    "  rad_dtb=path_to_dtb + \"/rates/rad_fit.p\",\n",
    "  use_rad=True,\n",
    "  use_proj=False,\n",
    "  use_tables=False\n",
    ")\n",
    "system.compute_c_mat(max_mom=2, state_specs=False, include_temp=False)"
   ]
  },
  {
   "cell_type": "code",
   "execution_count": 6,
   "metadata": {},
   "outputs": [],
   "source": [
    "rho = 1e-3\n",
    "T = 5.5e4\n",
    "Te = 3e2\n",
    "quad_mu = {\n",
    "  \"x\": np.array([rho, T, Te]).reshape(1,-1),\n",
    "  \"w\": np.ones((1,1))\n",
    "}\n",
    "tend = 1e-1"
   ]
  },
  {
   "cell_type": "code",
   "execution_count": null,
   "metadata": {},
   "outputs": [],
   "source": [
    "t = system.get_tgrid(1e-13, tend, 200)\n",
    "y0, rho = system.equil.get_init_sol(quad_mu[\"x\"].squeeze())\n",
    "y0"
   ]
  },
  {
   "cell_type": "code",
   "execution_count": null,
   "metadata": {},
   "outputs": [],
   "source": [
    "yfom, _ = system.solve_fom(t, y0, rho)"
   ]
  },
  {
   "cell_type": "code",
   "execution_count": 9,
   "metadata": {},
   "outputs": [],
   "source": [
    "w_fom = copy.deepcopy(yfom[:system.mix.nb_comp])\n",
    "n_fom = system.mix.get_n(bkd.to_torch(w_fom)).numpy()\n",
    "T_fom = copy.deepcopy(yfom[system.mix.nb_comp:])\n",
    "T_fom[-1] = system.mix.get_Te(pe=T_fom[-1], ne=n_fom[-1])"
   ]
  },
  {
   "cell_type": "code",
   "execution_count": 10,
   "metadata": {},
   "outputs": [],
   "source": [
    "xref = np.mean(yfom, axis=1)\n",
    "xscale = np.std(yfom, axis=1)\n",
    "# xref[-3:] = 0.0\n",
    "# xscale[-3:] = 1.0"
   ]
  },
  {
   "cell_type": "code",
   "execution_count": 11,
   "metadata": {},
   "outputs": [],
   "source": [
    "# xref = np.linalg.norm(yfom, ord=2, axis=1)\n",
    "# xscale = np.std(yfom, axis=1)\n",
    "xref[0] = 0.0\n",
    "xref[-3:] = 0.0\n",
    "xscale[0] = 1.0\n",
    "xscale[-3:] = 1.0\n",
    "xref = None\n",
    "xscale = None"
   ]
  },
  {
   "cell_type": "code",
   "execution_count": 12,
   "metadata": {},
   "outputs": [],
   "source": [
    "# xscale = 1.0/xref\n",
    "# xref = None"
   ]
  },
  {
   "cell_type": "code",
   "execution_count": 13,
   "metadata": {},
   "outputs": [],
   "source": [
    "cobras = CoBRAS(\n",
    "  system=system,\n",
    "  tgrid={\"start\": 1e-12, \"stop\": 1e0, \"num\": 51},\n",
    "  quad_mu=quad_mu,\n",
    "  xref=xref,\n",
    "  xscale=xscale,\n",
    "  path_to_saving=\"./\",\n",
    "  saving=True\n",
    ")"
   ]
  },
  {
   "cell_type": "code",
   "execution_count": null,
   "metadata": {},
   "outputs": [],
   "source": [
    "X, Y = cobras.compute_cov_mats(\n",
    "  nb_meas=10\n",
    ")\n",
    "X.shape, Y.shape"
   ]
  },
  {
   "cell_type": "code",
   "execution_count": 15,
   "metadata": {},
   "outputs": [],
   "source": [
    "# W = np.diag(1.0/xref)\n",
    "# Ws = np.sqrt(W)\n",
    "# X = Ws @ X\n",
    "# Y = Ws @ Y"
   ]
  },
  {
   "cell_type": "code",
   "execution_count": 16,
   "metadata": {},
   "outputs": [],
   "source": [
    "cobras.compute_modes(\n",
    "  X=X,\n",
    "  Y=Y,\n",
    "  xnot=[0,-3,-2,-1],\n",
    "  pod=True\n",
    ")"
   ]
  },
  {
   "cell_type": "code",
   "execution_count": 17,
   "metadata": {},
   "outputs": [],
   "source": [
    "bases = pickle.load(open(\"./cobras_bases.p\", \"rb\"))"
   ]
  },
  {
   "cell_type": "code",
   "execution_count": 18,
   "metadata": {},
   "outputs": [],
   "source": [
    "for i in range(15):\n",
    "  nb = str(i+1)\n",
    "  b = bases[\"phi\"][:,i]\n",
    "  pltt.plot_dist_2d(\n",
    "    x=np.arange(len(b)),\n",
    "    y=b,\n",
    "    labels=[r\"$\\epsilon_i$ [eV]\", r\"$\\%s_{%s}$\" % (\"phi\", nb)],\n",
    "    scales=[\"linear\", \"linear\"],\n",
    "    markersize=1,\n",
    "    # figname=path + f\"/{name}_{nb.zfill(2)}\",\n",
    "    save=False,\n",
    "    show=False\n",
    "  )"
   ]
  },
  {
   "cell_type": "code",
   "execution_count": 19,
   "metadata": {},
   "outputs": [],
   "source": [
    "for i in range(15):\n",
    "  nb = str(i+1)\n",
    "  b = bases[\"psi\"][:,i]\n",
    "  pltt.plot_dist_2d(\n",
    "    x=np.arange(len(b)),\n",
    "    y=b,\n",
    "    labels=[r\"$\\epsilon_i$ [eV]\", r\"$\\%s_{%s}$\" % (\"psi\", nb)],\n",
    "    scales=[\"linear\", \"linear\"],\n",
    "    markersize=1,\n",
    "    # figname=path + f\"/{name}_{nb.zfill(2)}\",\n",
    "    save=False,\n",
    "    show=False\n",
    "  )"
   ]
  },
  {
   "cell_type": "code",
   "execution_count": 44,
   "metadata": {},
   "outputs": [],
   "source": [
    "rdim = 7\n",
    "\n",
    "# bases = pickle.load(open(\"./pod_bases.p\", \"rb\"))\n",
    "# phi, psi = bases[\"phi\"][:,:rdim], bases[\"phi\"][:,:rdim]\n",
    "\n",
    "bases = pickle.load(open(\"./cobras_bases.p\", \"rb\"))\n",
    "phi, psi = bases[\"phi\"][:,:rdim], bases[\"psi\"][:,:rdim]\n",
    "\n",
    "system.set_rom(phi, psi, mask=\"./rom_mask.txt\", xref=xref, xscale=xscale)"
   ]
  },
  {
   "cell_type": "code",
   "execution_count": 45,
   "metadata": {},
   "outputs": [],
   "source": [
    "# I = np.eye(system.nb_eqs)\n",
    "# system.set_rom(I, I, mask=np.diag(I), xref=xref, xscale=xscale)"
   ]
  },
  {
   "cell_type": "code",
   "execution_count": null,
   "metadata": {},
   "outputs": [],
   "source": [
    "yrom, _ = system.solve_rom(t, y0, rho)\n",
    "nt = len(yrom.T)\n",
    "nt"
   ]
  },
  {
   "cell_type": "code",
   "execution_count": 47,
   "metadata": {},
   "outputs": [],
   "source": [
    "w_rom = copy.deepcopy(yrom[:system.mix.nb_comp])\n",
    "n_rom = system.mix.get_n(bkd.to_torch(w_rom)).numpy()\n",
    "T_rom = copy.deepcopy(yrom[system.mix.nb_comp:])\n",
    "T_rom[-1] = system.mix.get_Te(pe=T_rom[-1], ne=n_rom[-1])"
   ]
  },
  {
   "cell_type": "code",
   "execution_count": null,
   "metadata": {},
   "outputs": [],
   "source": [
    "for i in range(2):\n",
    "  plt.semilogx(t[1:nt], T_fom[i][1:nt])\n",
    "  plt.semilogx(t[1:nt], T_rom[i][1:nt], ls=\"--\", color=plt.gca().lines[-1].get_color())\n",
    "plt.show()\n",
    "plt.close()"
   ]
  },
  {
   "cell_type": "code",
   "execution_count": 49,
   "metadata": {},
   "outputs": [],
   "source": [
    "for k in (\"Ar\", \"Arp\"):\n",
    "  s = system.mix.species[k]\n",
    "  pltt.plot_mom_evolution(\n",
    "    path=f\"./figs/{k}/\",\n",
    "    t=t[1:nt],\n",
    "    n_m={\"FOM\": bkd.to_torch(n_fom.T[1:nt,s.indices]), \"ROM\": bkd.to_torch(n_rom.T[1:nt,s.indices])},\n",
    "    molecule=s,\n",
    "    molecule_label=\"{%s}\" % k,\n",
    "    tlim=None,\n",
    "    ylim_err=None,\n",
    "    err_scale=\"linear\",\n",
    "    hline=None,\n",
    "    max_mom=2\n",
    "  )"
   ]
  },
  {
   "cell_type": "code",
   "execution_count": null,
   "metadata": {},
   "outputs": [],
   "source": [
    "for s in system.mix.species.values():\n",
    "  print(s.name)\n",
    "  for i in s.indices:\n",
    "    plt.loglog(t[1:nt], n_fom[i][1:nt])\n",
    "    plt.loglog(t[1:nt], n_rom[i][1:nt], ls=\"--\", color=plt.gca().lines[-1].get_color())\n",
    "  plt.show()\n",
    "  plt.close()"
   ]
  }
 ],
 "metadata": {
  "kernelspec": {
   "display_name": "sciml",
   "language": "python",
   "name": "python3"
  },
  "language_info": {
   "codemirror_mode": {
    "name": "ipython",
    "version": 3
   },
   "file_extension": ".py",
   "mimetype": "text/x-python",
   "name": "python",
   "nbconvert_exporter": "python",
   "pygments_lexer": "ipython3",
   "version": "3.8.15"
  }
 },
 "nbformat": 4,
 "nbformat_minor": 2
}
