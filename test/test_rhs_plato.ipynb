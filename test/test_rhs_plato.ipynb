{
 "cells": [
  {
   "cell_type": "code",
   "execution_count": null,
   "metadata": {},
   "outputs": [],
   "source": [
    "import os\n",
    "import sys\n",
    "import copy\n",
    "import numpy as np\n",
    "import dill as pickle\n",
    "import matplotlib.pyplot as plt"
   ]
  },
  {
   "cell_type": "code",
   "execution_count": null,
   "metadata": {},
   "outputs": [],
   "source": [
    "sys.path.append(\"/home/zanardi/Codes/ML/ROMAr/romar/\")\n",
    "from romar import env\n",
    "from romar import utils\n",
    "from romar.systems import BoxAd"
   ]
  },
  {
   "cell_type": "code",
   "execution_count": null,
   "metadata": {},
   "outputs": [],
   "source": [
    "env_opts = {\n",
    "  \"backend\": \"numpy\",\n",
    "  \"device\": \"cpu\",\n",
    "  \"device_idx\": 0,\n",
    "  \"nb_threads\": 2,\n",
    "  \"epsilon\": None,\n",
    "  \"floatx\": \"float64\"\n",
    "}\n",
    "env.set(**env_opts)"
   ]
  },
  {
   "cell_type": "code",
   "execution_count": null,
   "metadata": {},
   "outputs": [],
   "source": [
    "path_to_dtb = \"/home/zanardi/Codes/ML/ROMAr/romar/examples/database\"\n",
    "path_to_basis = \"/home/zanardi/Codes/ML/ROMAr/run_old2/rad_on_test10/max_mom_2a/cobras_basis.p\"\n",
    "path_to_data = \"/home/zanardi/Codes/ML/ROMAr/run_old2/rad_on_test10/data/case_mrho_mT.p\"\n",
    "path_to_rom_data = \"/home/zanardi/Codes/ML/ROMAr/romar/examples/database/utils/rom_data\""
   ]
  },
  {
   "cell_type": "code",
   "execution_count": null,
   "metadata": {},
   "outputs": [],
   "source": [
    "os.makedirs(path_to_rom_data, exist_ok=True)"
   ]
  },
  {
   "cell_type": "code",
   "execution_count": null,
   "metadata": {},
   "outputs": [],
   "source": [
    "r = 10\n",
    "use_proj = False"
   ]
  },
  {
   "cell_type": "code",
   "execution_count": null,
   "metadata": {},
   "outputs": [],
   "source": [
    "system = BoxAd(\n",
    "  species={k: path_to_dtb + \"/species/\" + k + \".json\" for k in (\"Ar\", \"Arp\", \"em\")},\n",
    "  kin_dtb=path_to_dtb + \"/rates/kin_fit.p\",\n",
    "  rad_dtb=path_to_dtb + \"/rates/rad_fit.p\",\n",
    "  use_rad=True,\n",
    "  use_proj=use_proj,\n",
    "  use_tables=False\n",
    ")"
   ]
  },
  {
   "cell_type": "markdown",
   "metadata": {},
   "source": [
    "Load basis"
   ]
  },
  {
   "cell_type": "code",
   "execution_count": null,
   "metadata": {},
   "outputs": [],
   "source": [
    "basis = pickle.load(open(path_to_basis, \"rb\"))"
   ]
  },
  {
   "cell_type": "code",
   "execution_count": null,
   "metadata": {},
   "outputs": [],
   "source": [
    "system.rom.build(\n",
    "  phi=basis[\"phi\"][r],\n",
    "  psi=basis[\"psi\"][r],\n",
    "  **{k: basis[k] for k in (\"mask\", \"xref\", \"xscale\")}\n",
    ")"
   ]
  },
  {
   "cell_type": "markdown",
   "metadata": {},
   "source": [
    "Solve ROM"
   ]
  },
  {
   "cell_type": "code",
   "execution_count": null,
   "metadata": {},
   "outputs": [],
   "source": [
    "rho = 1e-2\n",
    "t = np.loadtxt(path_to_rom_data + \"/t.txt\")\n",
    "y_true = np.loadtxt(path_to_rom_data + \"/y_true.txt\")\n",
    "y_pred = np.loadtxt(path_to_rom_data + \"/y_romar.txt\")"
   ]
  },
  {
   "cell_type": "code",
   "execution_count": null,
   "metadata": {},
   "outputs": [],
   "source": [
    "# Get pe\n",
    "y = copy.deepcopy(y_true.T)\n",
    "system.mix.set_rho(rho)\n",
    "w, Th, Te = y[:-2], y[-2], y[-1]\n",
    "n = system.mix.get_n(w)\n",
    "pe = system.mix.get_pe(Te, ne=n[0])\n",
    "y[-1] = pe"
   ]
  },
  {
   "cell_type": "code",
   "execution_count": null,
   "metadata": {},
   "outputs": [],
   "source": [
    "# Solve ROM\n",
    "z = system.solve_rom(t, y[:,0], rho, tout=1e2, decode=False)[0]"
   ]
  },
  {
   "cell_type": "code",
   "execution_count": null,
   "metadata": {},
   "outputs": [],
   "source": [
    "# Save 'z' states for Plato\n",
    "y_hat = system.rom.decode(z.T, is_der=False).T\n",
    "Te = system.get_prim(y_hat, clip=False)[-1]\n",
    "zt = np.vstack([z[:-1], Te]).T\n",
    "np.savetxt(path_to_rom_data + \"/z_true.txt\", zt)"
   ]
  },
  {
   "cell_type": "code",
   "execution_count": null,
   "metadata": {},
   "outputs": [],
   "source": [
    "# # Load test case\n",
    "# icase = utils.load_case(filename=path_to_data)\n",
    "# t, y0, rho = [icase[k] for k in (\"t\", \"y0\", \"rho\")]\n",
    "# # Time grid\n",
    "# t = system.get_tgrid(1e-12, t.max(), 200)\n",
    "# Solve ROM\n",
    "# z = system.solve_rom(t, y[:,0], rho, timeout=1e2, decode=False)[0]"
   ]
  },
  {
   "cell_type": "code",
   "execution_count": null,
   "metadata": {},
   "outputs": [],
   "source": [
    "# # Save 'y' states for Plato\n",
    "# Te = system.get_prim(y, clip=False)[-1]\n",
    "# yt = np.vstack([y[:-1], Te]).T\n",
    "# np.savetxt(path_to_rom_data + \"/y.txt\", yt)"
   ]
  },
  {
   "cell_type": "code",
   "execution_count": null,
   "metadata": {},
   "outputs": [],
   "source": [
    "def fun(z, y):\n",
    "  y_hat, z_hat, dydt, dydt_hat, dzdt = [], [], [], [], []\n",
    "  for i in range(len(z)):\n",
    "\n",
    "    dydt.append(system._fun(0.0, y[i]))\n",
    "\n",
    "    yi = system.rom.decode(z[i], is_der=False)\n",
    "    y_hat.append(yi)\n",
    "\n",
    "    zi = system.rom.encode(yi, is_der=False)\n",
    "    z_hat.append(zi)\n",
    "    \n",
    "    dyidt = system._fun(0.0, yi)\n",
    "    dydt_hat.append(dyidt)\n",
    "    \n",
    "    dzdt.append(system.rom.encode(dyidt, is_der=True))\n",
    "\n",
    "  return map(np.vstack, (y_hat, z_hat, dydt, dydt_hat, dzdt))"
   ]
  },
  {
   "cell_type": "code",
   "execution_count": null,
   "metadata": {},
   "outputs": [],
   "source": [
    "y_hat, z_hat, dydt, dydt_hat, dzdt = fun(z.T, y.T)"
   ]
  },
  {
   "cell_type": "code",
   "execution_count": null,
   "metadata": {},
   "outputs": [],
   "source": [
    "y_hat_pred = np.loadtxt(path_to_rom_data + \"/y_hat.txt\")\n",
    "z_hat_pred = np.loadtxt(path_to_rom_data + \"/z_hat.txt\")\n",
    "dydt_pred = np.loadtxt(path_to_rom_data + \"/dydt.txt\")\n",
    "dydt_hat_pred = np.loadtxt(path_to_rom_data + \"/dydt_hat.txt\")\n",
    "dzdt_pred = np.loadtxt(path_to_rom_data + \"/dzdt.txt\")"
   ]
  },
  {
   "cell_type": "code",
   "execution_count": null,
   "metadata": {},
   "outputs": [],
   "source": [
    "# Plot 'y' solution\n",
    "for i in range(system.nb_comp):\n",
    "  plt.loglog(t[1:], y_true[:,i][1:])\n",
    "  plt.loglog(t[1:], y_pred[:,i][1:], ls=\"--\", lw=2.0, color=plt.gca().lines[-1].get_color())\n",
    "plt.xlabel(\"$t$ [s]\")\n",
    "plt.ylabel(\"$w_i$\")\n",
    "plt.tight_layout()\n",
    "plt.savefig(path_to_rom_data + \"/yt_sol.png\")\n",
    "plt.show()\n",
    "plt.close()\n",
    "\n",
    "# Plot 'y' error\n",
    "err = np.abs((y_true[:,:-2]-y_pred[:,:-2])/y_true[:,:-2])\n",
    "# err = np.abs(y_true[:,:-2]-y_pred[:,:-2])\n",
    "plt.loglog(t[1:], err[1:])\n",
    "plt.xlabel(\"$t$ [s]\")\n",
    "plt.ylabel(\"$w_i$ rel. error\")\n",
    "plt.tight_layout()\n",
    "plt.savefig(path_to_rom_data + \"/yt_err.png\")\n",
    "plt.show()\n",
    "plt.close()"
   ]
  },
  {
   "cell_type": "code",
   "execution_count": null,
   "metadata": {},
   "outputs": [],
   "source": [
    "# Plot 'y_hat' solution\n",
    "for i in range(system.nb_comp):\n",
    "  plt.loglog(t[1:], y_hat[:,i][1:])\n",
    "  plt.loglog(t[1:], y_hat_pred[:,i][1:], ls=\"--\", lw=2.0, color=plt.gca().lines[-1].get_color())\n",
    "plt.xlabel(\"$t$ [s]\")\n",
    "plt.ylabel(\"$\\hat{w}_i$\")\n",
    "plt.tight_layout()\n",
    "plt.savefig(path_to_rom_data + \"/y_hat_sol.png\")\n",
    "plt.show()\n",
    "plt.close()\n",
    "\n",
    "# Plot 'y_hat' error\n",
    "err = np.abs((y_hat[:,:-2]-y_hat_pred[:,:-2])/y_hat[:,:-2])\n",
    "# err = np.abs((y_hat[:,:-2]-y_hat_pred[:,:-2]))\n",
    "plt.loglog(t[1:], err[1:])\n",
    "plt.xlabel(\"$t$ [s]\")\n",
    "plt.ylabel(\"$\\hat{w}_i$ rel. error\")\n",
    "plt.tight_layout()\n",
    "plt.savefig(path_to_rom_data + \"/y_hat_err.png\")\n",
    "plt.show()\n",
    "plt.close()"
   ]
  },
  {
   "cell_type": "code",
   "execution_count": null,
   "metadata": {},
   "outputs": [],
   "source": [
    "# Plot 'z_hat' solution\n",
    "for i in range(r):\n",
    "  plt.loglog(t[1:], np.abs(zt[:,i][1:]))\n",
    "  plt.loglog(t[1:], np.abs(z_hat_pred[:,i][1:]), ls=\"--\", lw=2.0, color=plt.gca().lines[-1].get_color())\n",
    "plt.xlabel(\"$t$ [s]\")\n",
    "plt.ylabel(\"$\\\\left|\\hat{z}_i\\\\right|$\")\n",
    "plt.tight_layout()\n",
    "plt.savefig(path_to_rom_data + \"/z_hat_sol.png\")\n",
    "plt.show()\n",
    "plt.close()\n",
    "\n",
    "# Plot 'z_hat' error\n",
    "err = np.abs((zt[:,:-2]-z_hat_pred[:,:-2])/zt[:,:-2])\n",
    "# err = np.abs((zt[:,:-2]-z_hat_pred[:,:-2]))\n",
    "plt.loglog(t[1:], err[1:])\n",
    "plt.xlabel(\"$t$ [s]\")\n",
    "plt.ylabel(\"$\\hat{z}_i$ rel. error\")\n",
    "plt.tight_layout()\n",
    "plt.savefig(path_to_rom_data + \"/z_hat_err.png\")\n",
    "plt.show()\n",
    "plt.close()"
   ]
  },
  {
   "cell_type": "code",
   "execution_count": null,
   "metadata": {},
   "outputs": [],
   "source": [
    "# Plot 'dydt' solution\n",
    "for i in range(system.nb_comp):\n",
    "  plt.loglog(t[1:], np.abs(dydt[:,i][1:]))\n",
    "  plt.loglog(t[1:], np.abs(dydt_pred[:,i][1:]), ls=\"--\", lw=2.0, color=plt.gca().lines[-1].get_color())\n",
    "plt.xlabel(\"$t$ [s]\")\n",
    "plt.ylabel(\"$\\\\left|\\\\dfrac{dw_i}{dt}\\\\right|$\")\n",
    "plt.tight_layout()\n",
    "plt.savefig(path_to_rom_data + \"/dydt_sol.png\")\n",
    "plt.show()\n",
    "plt.close()\n",
    "\n",
    "# Plot 'dydt' error\n",
    "err = np.abs((dydt[:,:-2]-dydt_pred[:,:-2])/dydt[:,:-2])\n",
    "# err = np.abs((dydt[:,:-2]-dydt_pred[:,:-2]))\n",
    "plt.loglog(t[1:], err[1:])\n",
    "plt.xlabel(\"$t$ [s]\")\n",
    "plt.ylabel(\"$\\\\dfrac{dw_i}{dt}$ rel. error\")\n",
    "plt.tight_layout()\n",
    "plt.savefig(path_to_rom_data + \"/dydt_err.png\")\n",
    "plt.show()\n",
    "plt.close()"
   ]
  },
  {
   "cell_type": "code",
   "execution_count": null,
   "metadata": {},
   "outputs": [],
   "source": [
    "# Plot 'dydt_hat' solution\n",
    "for i in range(system.nb_comp):\n",
    "  # plt.loglog(t[1:], dydt_hat[:,i][1:])\n",
    "  # plt.loglog(t[1:], dydt_hat_pred[:,i][1:], ls=\"--\", lw=2.0, color=plt.gca().lines[-1].get_color())\n",
    "  plt.loglog(t[1:], np.abs(dydt_hat[:,i][1:]))\n",
    "  plt.loglog(t[1:], np.abs(dydt_hat_pred[:,i][1:]), ls=\"--\", lw=2.0, color=plt.gca().lines[-1].get_color())\n",
    "plt.xlabel(\"$t$ [s]\")\n",
    "plt.ylabel(\"$\\\\left|\\\\dfrac{d\\hat{w}_i}{dt}\\\\right|$\")\n",
    "plt.tight_layout()\n",
    "plt.savefig(path_to_rom_data + \"/dydt_hat_sol.png\")\n",
    "plt.show()\n",
    "plt.close()\n",
    "\n",
    "# Plot 'dydt_hat' error\n",
    "err = np.abs((dydt_hat[:,:-2]-dydt_hat_pred[:,:-2])/dydt_hat[:,:-2])\n",
    "# err = np.abs((dydt_hat[:,:-2]-dydt_hat_pred[:,:-2]))\n",
    "plt.loglog(t[1:], err[1:])\n",
    "plt.xlabel(\"$t$ [s]\")\n",
    "plt.ylabel(\"$\\\\dfrac{d\\hat{w}_i}{dt}$ rel. error\")\n",
    "plt.tight_layout()\n",
    "plt.savefig(path_to_rom_data + \"/dydt_hat_err.png\")\n",
    "plt.show()\n",
    "plt.close()"
   ]
  },
  {
   "cell_type": "code",
   "execution_count": null,
   "metadata": {},
   "outputs": [],
   "source": [
    "# Plot 'dzdt' solution\n",
    "for i in range(r):\n",
    "  # plt.loglog(t[1:], dzdt[:,i][1:])\n",
    "  # plt.loglog(t[1:], dzdt_pred[:,i][1:], ls=\"--\", lw=2.0, color=plt.gca().lines[-1].get_color())\n",
    "  plt.loglog(t[1:], np.abs(dzdt[:,i][1:]))\n",
    "  plt.loglog(t[1:], np.abs(dzdt_pred[:,i][1:]), ls=\"--\", lw=2.0, color=plt.gca().lines[-1].get_color())\n",
    "plt.xlabel(\"$t$ [s]\")\n",
    "plt.ylabel(\"$\\\\left|\\\\dfrac{dz_i}{dt}\\\\right|$\")\n",
    "plt.tight_layout()\n",
    "plt.savefig(path_to_rom_data + \"/dzdt_sol.png\")\n",
    "plt.show()\n",
    "plt.close()\n",
    "\n",
    "# Plot 'dzdt' error\n",
    "err = np.abs((dzdt[:,:-2]-dzdt_pred[:,:-2])/dzdt[:,:-2])\n",
    "# err = np.abs((dzdt[:,:-2]-dzdt_pred[:,:-2]))\n",
    "plt.loglog(t[1:], err[1:])\n",
    "plt.xlabel(\"$t$ [s]\")\n",
    "plt.ylabel(\"$\\\\dfrac{dz_i}{dt}$ rel. error\")\n",
    "plt.tight_layout()\n",
    "plt.savefig(path_to_rom_data + \"/dzdt_err.png\")\n",
    "plt.show()\n",
    "plt.close()"
   ]
  }
 ],
 "metadata": {
  "kernelspec": {
   "display_name": "Python 3",
   "language": "python",
   "name": "python3"
  },
  "language_info": {
   "codemirror_mode": {
    "name": "ipython",
    "version": 3
   },
   "file_extension": ".py",
   "mimetype": "text/x-python",
   "name": "python",
   "nbconvert_exporter": "python",
   "pygments_lexer": "ipython3",
   "version": "3.8.15"
  }
 },
 "nbformat": 4,
 "nbformat_minor": 2
}
