{
 "cells": [
  {
   "cell_type": "markdown",
   "metadata": {},
   "source": [
    "### Varimax Rotation"
   ]
  },
  {
   "cell_type": "code",
   "execution_count": null,
   "metadata": {},
   "outputs": [],
   "source": [
    "import os\n",
    "import sys\n",
    "import numpy as np\n",
    "import scipy as sp\n",
    "import joblib as jl\n",
    "import dill as pickle\n",
    "\n",
    "from tqdm import tqdm\n",
    "from typing import *"
   ]
  },
  {
   "cell_type": "code",
   "execution_count": null,
   "metadata": {},
   "outputs": [],
   "source": [
    "import matplotlib.pyplot as plt\n",
    "style = \"/home/zanardi/Workspace/Research/styles/matplotlib/paper_1column.mplstyle\"\n",
    "plt.style.use(style)"
   ]
  },
  {
   "cell_type": "code",
   "execution_count": null,
   "metadata": {},
   "outputs": [],
   "source": [
    "sys.path.append(\"/home/zanardi/Codes/ML/ROMAr/romar/\")\n",
    "from romar import env\n",
    "from romar import utils\n",
    "from romar.systems import BoxAd"
   ]
  },
  {
   "cell_type": "markdown",
   "metadata": {},
   "source": [
    "Set enviroment"
   ]
  },
  {
   "cell_type": "code",
   "execution_count": null,
   "metadata": {},
   "outputs": [],
   "source": [
    "env_opts = {\n",
    "  \"backend\": \"numpy\",\n",
    "  \"device\": \"cpu\",\n",
    "  \"device_idx\": 0,\n",
    "  \"nb_threads\": 2,\n",
    "  \"epsilon\": None,\n",
    "  \"floatx\": \"float64\",\n",
    "  \"seed\": 0\n",
    "}\n",
    "env.set(**env_opts)"
   ]
  },
  {
   "cell_type": "markdown",
   "metadata": {},
   "source": [
    "Set inputs"
   ]
  },
  {
   "cell_type": "code",
   "execution_count": null,
   "metadata": {},
   "outputs": [],
   "source": [
    "# Trajectories indices\n",
    "irange = [0, 100]\n",
    "# Parallel workers\n",
    "nb_workers = 10\n",
    "# Paths\n",
    "prefix = \"/home/zanardi/Codes/ML/ROMAr/runs/run01/\"\n",
    "paths = {\n",
    "  # > ROM basis\n",
    "  \"roms\": {\n",
    "    \"No Rot.\": prefix + \"/max_mom_2/models/cobras/basis.p\",\n",
    "    \"Varimax\": prefix + \"/max_mom_2/models/cobras/basis_varimax.p\"\n",
    "  },\n",
    "  # > Path to solutions folder\n",
    "  \"data\": prefix + \"/data/test/\",\n",
    "  # > Thermochemical database\n",
    "  \"dtb\": \"/home/zanardi/Codes/ML/ROMAr/romar/examples/database/\",\n",
    "  # > Output folder\n",
    "  \"out\": \"./figs/varimax/\"\n",
    "}\n",
    "# Time limit\n",
    "tlim = [1e-9, 1e-3]\n",
    "# Number of ROM dimensions\n",
    "rdims = np.arange(7,10,2)"
   ]
  },
  {
   "cell_type": "code",
   "execution_count": null,
   "metadata": {},
   "outputs": [],
   "source": [
    "os.makedirs(paths[\"out\"], exist_ok=True)"
   ]
  },
  {
   "cell_type": "markdown",
   "metadata": {},
   "source": [
    "Initialize 0D thermochemical system"
   ]
  },
  {
   "cell_type": "code",
   "execution_count": null,
   "metadata": {},
   "outputs": [],
   "source": [
    "system = BoxAd(\n",
    "  species={k: paths[\"dtb\"] + \"/species/\" + k + \".json\" for k in (\"Ar\", \"Arp\", \"em\")},\n",
    "  kin_dtb=paths[\"dtb\"] + \"/rates/kin_fit.p\",\n",
    "  rad_dtb=paths[\"dtb\"] + \"/rates/rad_fit.p\",\n",
    "  use_rad=True,\n",
    "  use_proj=False,\n",
    "  use_tables=False\n",
    ")"
   ]
  },
  {
   "cell_type": "markdown",
   "metadata": {},
   "source": [
    "Evaluate ROM"
   ]
  },
  {
   "cell_type": "code",
   "execution_count": null,
   "metadata": {},
   "outputs": [],
   "source": [
    "def evaluate_parallel(\n",
    "  irange,\n",
    "  nb_workers,\n",
    "  **kwargs\n",
    "):\n",
    "  iterable = tqdm(\n",
    "    iterable=range(*irange),\n",
    "    ncols=80,\n",
    "    desc=\"  Cases\",\n",
    "    file=sys.stdout\n",
    "  )\n",
    "  return jl.Parallel(nb_workers)(\n",
    "    jl.delayed(\n",
    "      env.make_fun_parallel(evaluate)\n",
    "    )(index=i, **kwargs) for i in iterable\n",
    "  )\n",
    "\n",
    "def evaluate(\n",
    "  system,\n",
    "  path,\n",
    "  index,\n",
    "  tout=5e2,\n",
    "  tlim=None\n",
    "):\n",
    "  system.use_rom = True\n",
    "  # Load test case\n",
    "  icase = utils.load_case(path=path, index=index)\n",
    "  t, y0, rho = [icase[k] for k in (\"t\", \"y0\", \"rho\")]\n",
    "  # Time window\n",
    "  if (tlim is not None):\n",
    "    i = (t >= np.amin(tlim)) * (t <= np.amax(tlim))\n",
    "    t = t[i]\n",
    "  # Solve ROM\n",
    "  z, _ = system.solve_rom(t, y0, rho, tout=tout, decode=False)\n",
    "  # Postprocess\n",
    "  if (z is not None):\n",
    "    # > Return data\n",
    "    return np.abs(z[:system.rom.size_zhat]).T\n",
    "\n",
    "def build_rom(system, path_to_basis, rdim):\n",
    "  with open(path_to_basis, \"rb\") as file:\n",
    "    basis = pickle.load(file)\n",
    "  system.rom.build(\n",
    "    phi=basis[\"phi\"][rdim],\n",
    "    psi=basis[\"psi\"][rdim],\n",
    "    **{k: basis[k] for k in (\"mask\", \"xref\", \"xscale\")}\n",
    "  )"
   ]
  },
  {
   "cell_type": "code",
   "execution_count": null,
   "metadata": {},
   "outputs": [],
   "source": [
    "data = {}\n",
    "kwargs = dict(\n",
    "  irange=irange,\n",
    "  nb_workers=nb_workers,\n",
    "  system=system,\n",
    "  path=paths[\"data\"],\n",
    "  tlim=tlim\n",
    ")\n",
    "for (rom, path_to_basis) in paths[\"roms\"].items():\n",
    "  data[rom] = {}\n",
    "  for rdim in rdims:\n",
    "    build_rom(system, path_to_basis, rdim)\n",
    "    data[rom][rdim] = evaluate_parallel(**kwargs)"
   ]
  },
  {
   "cell_type": "code",
   "execution_count": null,
   "metadata": {},
   "outputs": [],
   "source": [
    "stats = {}\n",
    "for rom in paths[\"roms\"].keys():\n",
    "  stats[rom] = {}\n",
    "  for rdim in rdims:\n",
    "    rdata = np.vstack([z for z in data[rom][rdim] if (z is not None)])\n",
    "    rmean = np.mean(rdata, axis=0)\n",
    "    i = np.flip(np.argsort(rmean))\n",
    "    stats[rom][rdim] = {\n",
    "      \"size\": len(rdata),\n",
    "      \"mean\": rmean[i],\n",
    "      \"std\": np.std(rdata, axis=0)[i],\n",
    "      \"sem\": sp.stats.sem(rdata, axis=0)[i]\n",
    "    }"
   ]
  },
  {
   "cell_type": "markdown",
   "metadata": {},
   "source": [
    "Plotting"
   ]
  },
  {
   "cell_type": "code",
   "execution_count": null,
   "metadata": {},
   "outputs": [],
   "source": [
    "def plot_zmean(\n",
    "  x,\n",
    "  y,\n",
    "  labels=[r\"$i$\", r\"$z_i$\"],\n",
    "  scales=[\"linear\", \"log\"],\n",
    "  legend_loc=\"best\",\n",
    "  figname=None,\n",
    "  save=False,\n",
    "  show=False\n",
    "):\n",
    "  # Initialize figures\n",
    "  fig = plt.figure()\n",
    "  ax = fig.add_subplot()\n",
    "  # x axis\n",
    "  ax.set_xlabel(labels[0])\n",
    "  ax.set_xscale(scales[0])\n",
    "  ax.set_xticks(x, labels=x.astype(str))\n",
    "  # y axis\n",
    "  ax.set_ylabel(labels[1])\n",
    "  ax.set_yscale(scales[1])\n",
    "  # Plotting\n",
    "  for (k, yk) in y.items():\n",
    "    ax.errorbar(\n",
    "      x=x,\n",
    "      y=yk[\"mean\"],\n",
    "      # yerr=yk[\"std\"],\n",
    "      marker='^',\n",
    "      markersize=15,\n",
    "      linestyle='none',\n",
    "      lw=1.0,\n",
    "      label=k\n",
    "    )\n",
    "  ax.legend(loc=legend_loc, fancybox=True, framealpha=0.9)\n",
    "  # Tight layout\n",
    "  plt.tight_layout()\n",
    "  if save:\n",
    "    plt.savefig(figname)\n",
    "  if show:\n",
    "    plt.show()\n",
    "  plt.close()"
   ]
  },
  {
   "cell_type": "code",
   "execution_count": null,
   "metadata": {},
   "outputs": [],
   "source": [
    "for rdim in rdims:\n",
    "  plot_zmean(\n",
    "    x=np.arange(rdim)+1,\n",
    "    y={k: stat[rdim] for (k, stat) in stats.items()},\n",
    "    labels=[r\"$i$\", r\"$z_i$\"],\n",
    "    scales=[\"linear\", \"log\"],\n",
    "    legend_loc=\"best\",\n",
    "    figname=paths[\"out\"] + f\"/zmean_r{rdim}.png\",\n",
    "    save=True,\n",
    "    show=False\n",
    "  )"
   ]
  }
 ],
 "metadata": {
  "kernelspec": {
   "display_name": "sciml",
   "language": "python",
   "name": "python3"
  },
  "language_info": {
   "codemirror_mode": {
    "name": "ipython",
    "version": 3
   },
   "file_extension": ".py",
   "mimetype": "text/x-python",
   "name": "python",
   "nbconvert_exporter": "python",
   "pygments_lexer": "ipython3",
   "version": "3.8.15"
  }
 },
 "nbformat": 4,
 "nbformat_minor": 2
}
