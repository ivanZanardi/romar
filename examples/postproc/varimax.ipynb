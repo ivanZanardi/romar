{
 "cells": [
  {
   "cell_type": "markdown",
   "metadata": {},
   "source": [
    "### Varimax Rotation"
   ]
  },
  {
   "cell_type": "code",
   "execution_count": null,
   "metadata": {},
   "outputs": [],
   "source": [
    "import os\n",
    "import sys\n",
    "import numpy as np\n",
    "import scipy as sp\n",
    "import joblib as jl\n",
    "import dill as pickle\n",
    "\n",
    "from tqdm import tqdm\n",
    "from typing import *"
   ]
  },
  {
   "cell_type": "code",
   "execution_count": null,
   "metadata": {},
   "outputs": [],
   "source": [
    "import matplotlib.pyplot as plt\n",
    "style = \"/home/zanardi/Workspace/Research/styles/matplotlib/paper_1column.mplstyle\"\n",
    "plt.style.use(style)"
   ]
  },
  {
   "cell_type": "code",
   "execution_count": null,
   "metadata": {},
   "outputs": [],
   "source": [
    "sys.path.append(\"/home/zanardi/Codes/ML/ROMAr/romar/\")\n",
    "from romar import env\n",
    "from romar import utils\n",
    "from romar.systems import BoxAd\n",
    "from romar import postproc as pp"
   ]
  },
  {
   "cell_type": "markdown",
   "metadata": {},
   "source": [
    "Set enviroment"
   ]
  },
  {
   "cell_type": "code",
   "execution_count": null,
   "metadata": {},
   "outputs": [],
   "source": [
    "env_opts = {\n",
    "  \"backend\": \"numpy\",\n",
    "  \"device\": \"cpu\",\n",
    "  \"device_idx\": 0,\n",
    "  \"nb_threads\": 2,\n",
    "  \"epsilon\": None,\n",
    "  \"floatx\": \"float64\",\n",
    "  \"seed\": 0\n",
    "}\n",
    "env.set(**env_opts)"
   ]
  },
  {
   "cell_type": "markdown",
   "metadata": {},
   "source": [
    "Set inputs"
   ]
  },
  {
   "cell_type": "code",
   "execution_count": null,
   "metadata": {},
   "outputs": [],
   "source": [
    "# Trajectories indices\n",
    "irange = [0, 100]\n",
    "# Parallel workers\n",
    "nb_workers = 10\n",
    "# Paths\n",
    "prefix = \"/home/zanardi/Codes/ML/ROMAr/runs/run_04_cc/\"\n",
    "paths = {\n",
    "  # > ROM basis\n",
    "  \"roms\": {\n",
    "    \"CoBRAS\": prefix + \"/max_mom_2/models/cobras/basis.p\",\n",
    "    \"CoBRAS-Varimax\": prefix + \"/max_mom_2/models/cobras/basis_varimax_psi.p\"\n",
    "  },\n",
    "  # > Path to solutions folder\n",
    "  \"data\": prefix + \"/data/test/\",\n",
    "  # > Thermochemical database\n",
    "  \"dtb\": \"/home/zanardi/Codes/ML/ROMAr/romar/examples/database/\",\n",
    "  # > Output folder\n",
    "  \"out\": \"./figs/varimax/\"\n",
    "}\n",
    "# ROM identifiers\n",
    "roms_id = {\n",
    "  \"ref\": \"CoBRAS\",\n",
    "  \"rot\": \"CoBRAS-Varimax\"\n",
    "}\n",
    "# Time limit\n",
    "tlim = [1e-9, 1e-3]\n",
    "# Number of ROM dimensions\n",
    "rdims = np.arange(7,11)"
   ]
  },
  {
   "cell_type": "code",
   "execution_count": null,
   "metadata": {},
   "outputs": [],
   "source": [
    "os.makedirs(paths[\"out\"], exist_ok=True)"
   ]
  },
  {
   "cell_type": "markdown",
   "metadata": {},
   "source": [
    "Initialize 0D thermochemical system"
   ]
  },
  {
   "cell_type": "code",
   "execution_count": null,
   "metadata": {},
   "outputs": [],
   "source": [
    "system = BoxAd(\n",
    "  species={k: paths[\"dtb\"] + \"/species/\" + k + \".json\" for k in (\"Ar\", \"Arp\", \"em\")},\n",
    "  kin_dtb=paths[\"dtb\"] + \"/rates/kin_fit.p\",\n",
    "  rad_dtb=paths[\"dtb\"] + \"/rates/rad_fit.p\",\n",
    "  use_rad=True,\n",
    "  use_proj=False,\n",
    "  use_tables=False\n",
    ")"
   ]
  },
  {
   "cell_type": "markdown",
   "metadata": {},
   "source": [
    "Evaluate ROM energies"
   ]
  },
  {
   "cell_type": "code",
   "execution_count": null,
   "metadata": {},
   "outputs": [],
   "source": [
    "def evaluate_parallel(\n",
    "  irange,\n",
    "  nb_workers,\n",
    "  **kwargs\n",
    "):\n",
    "  iterable = tqdm(\n",
    "    iterable=range(*irange),\n",
    "    ncols=80,\n",
    "    desc=\"  Cases\",\n",
    "    file=sys.stdout\n",
    "  )\n",
    "  return jl.Parallel(nb_workers)(\n",
    "    jl.delayed(\n",
    "      env.make_fun_parallel(evaluate_rom_energy)\n",
    "    )(index=i, **kwargs) for i in iterable\n",
    "  )\n",
    "\n",
    "def evaluate_rom_energy(\n",
    "  system,\n",
    "  path,\n",
    "  index,\n",
    "  tout=5e2,\n",
    "  tlim=None\n",
    "):\n",
    "  system.use_rom = True\n",
    "  # Load test case\n",
    "  icase = utils.load_case(path=path, index=index)\n",
    "  t, y0, rho = [icase[k] for k in (\"t\", \"y0\", \"rho\")]\n",
    "  # Time window\n",
    "  if (tlim is not None):\n",
    "    i = (t >= np.amin(tlim)) * (t <= np.amax(tlim))\n",
    "    t = t[i]\n",
    "  # Solve ROM\n",
    "  z, _ = system.solve_rom(t, y0, rho, tout=tout, decode=False)\n",
    "  # Postprocess\n",
    "  if ((z is not None) and (z.shape[1] == len(t))):\n",
    "    # > Compute energy\n",
    "    zhat = z[:system.rom.size_zhat]\n",
    "    energy = np.linalg.norm(zhat, ord=2, axis=0)\n",
    "    # > Return data\n",
    "    return {\n",
    "      \"t\": t,\n",
    "      \"energy\": energy\n",
    "    }\n",
    "\n",
    "def build_rom(system, path_to_basis, rdim):\n",
    "  with open(path_to_basis, \"rb\") as file:\n",
    "    basis = pickle.load(file)\n",
    "  system.rom.build(\n",
    "    phi=basis[\"phi\"][rdim],\n",
    "    psi=basis[\"psi\"][rdim],\n",
    "    **{k: basis[k] for k in (\"mask\", \"xref\", \"xscale\")}\n",
    "  )"
   ]
  },
  {
   "cell_type": "code",
   "execution_count": null,
   "metadata": {},
   "outputs": [],
   "source": [
    "data = {}\n",
    "kwargs = dict(\n",
    "  irange=irange,\n",
    "  nb_workers=nb_workers,\n",
    "  system=system,\n",
    "  path=paths[\"data\"],\n",
    "  tlim=tlim\n",
    ")\n",
    "for (rom, path_to_basis) in paths[\"roms\"].items():\n",
    "  data[rom] = {}\n",
    "  for rdim in rdims:\n",
    "    build_rom(system, path_to_basis, rdim)\n",
    "    data[rom][rdim] = evaluate_parallel(**kwargs)"
   ]
  },
  {
   "cell_type": "code",
   "execution_count": null,
   "metadata": {},
   "outputs": [],
   "source": [
    "stats = {}\n",
    "for rom in paths[\"roms\"].keys():\n",
    "  stats[rom] = {\"t\": data[rom][rdims[0]][0][\"t\"]}\n",
    "  for rdim in rdims:\n",
    "    kdata = []\n",
    "    for traj in data[rom][rdim]:\n",
    "      if (traj is not None):\n",
    "        kdata.append(traj[\"energy\"])\n",
    "    kdata = np.vstack(kdata)\n",
    "    stats[rom][rdim] = np.mean(kdata, axis=0)"
   ]
  },
  {
   "cell_type": "code",
   "execution_count": null,
   "metadata": {},
   "outputs": [],
   "source": [
    "ratios = {}\n",
    "for rdim in rdims:\n",
    "  ratios[fr\"$r={rdim}$\"] = stats[roms_id[\"rot\"]][rdim] / stats[roms_id[\"ref\"]][rdim]"
   ]
  },
  {
   "cell_type": "markdown",
   "metadata": {},
   "source": [
    "Plotting"
   ]
  },
  {
   "cell_type": "code",
   "execution_count": null,
   "metadata": {},
   "outputs": [],
   "source": [
    "pp.plot_evolution(\n",
    "  x=stats[rom][\"t\"],\n",
    "  y=ratios,\n",
    "  ls=\"-\",\n",
    "  labels=[r\"$t$ [s]\", r\"$\\|\\mathbf{z}_\\mathrm{R}\\|_2/\\|\\mathbf{z}\\|_2$\"],\n",
    "  scales=[\"log\", \"linear\"],\n",
    "  legend_loc=\"best\",\n",
    "  figname=paths[\"out\"] + \"/energy.png\",\n",
    "  save=True,\n",
    "  show=False\n",
    ")"
   ]
  }
 ],
 "metadata": {
  "kernelspec": {
   "display_name": "sciml",
   "language": "python",
   "name": "python3"
  },
  "language_info": {
   "codemirror_mode": {
    "name": "ipython",
    "version": 3
   },
   "file_extension": ".py",
   "mimetype": "text/x-python",
   "name": "python",
   "nbconvert_exporter": "python",
   "pygments_lexer": "ipython3",
   "version": "3.8.15"
  }
 },
 "nbformat": 4,
 "nbformat_minor": 2
}
