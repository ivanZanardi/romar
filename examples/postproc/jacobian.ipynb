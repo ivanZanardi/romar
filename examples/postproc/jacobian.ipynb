{
 "cells": [
  {
   "cell_type": "markdown",
   "metadata": {},
   "source": [
    "### Jacobian Matrix\n",
    "#### FOM vs. ROM: Stiffness and Condition Number"
   ]
  },
  {
   "cell_type": "markdown",
   "metadata": {},
   "source": [
    "Using linear multistep formulas of the type\n",
    "\n",
    "\\begin{equation}\n",
    "\\mathbf{y}_n = \\sum_{j=1}^{K_1} \\alpha_j \\mathbf{y}_{n-j} + h_n \\sum_{j=0}^{K_2} \\beta_j \\mathbf{f}\\left(t_{n-j}, \\mathbf{y}_{n-j}\\right),\n",
    "\\end{equation}\n",
    "\n",
    "the choice $K_1 = q$, $ K_2 = 0 $ results in the backward differentiation formula (BDF) method of order $ q $:\n",
    "\n",
    "\\begin{equation}\n",
    "\\mathbf{y}_n = \\sum_{j=1}^q \\alpha_j \\mathbf{y}_{n-j} + h_n \\beta_0 \\mathbf{f}\\left(t_n, \\mathbf{y}_n\\right).\n",
    "\\end{equation}\n",
    "\n",
    "To solve this implicit equation, the Newton–Raphson (NR) iteration technique is employed. At iteration $ m $ of time step $ n $, the following linear system must be solved:\n",
    "\n",
    "\\begin{align}\n",
    "\\mathbf{P}\\left(\\mathbf{y}_n^{[m+1]} - \\mathbf{y}_n^{[m]}\\right)\n",
    "&= -\\mathbf{r}\\left(\\mathbf{y}_n^{[m]}\\right) \\\\\n",
    "&= \\sum_{j=1}^q \\alpha_j \\mathbf{y}_{n-j} + h_n \\beta_0 \\mathbf{f}\\left(\\mathbf{y}_n^{[m]}\\right) - \\mathbf{y}_n^{[m]}.\n",
    "\\end{align}\n",
    "\n",
    "Here, the matrix $ \\mathbf{P} $ is the Jacobian of the residual $ \\mathbf{r} $ with respect to $ \\mathbf{y} $, and is given by\n",
    "\n",
    "\\begin{equation}\n",
    "\\mathbf{P} = \\frac{\\partial \\mathbf{r}}{\\partial \\mathbf{y}} = \\mathbf{I} - h_n \\beta_0 \\mathbf{J},\n",
    "\\end{equation}\n",
    "\n",
    "where $ \\mathbf{J} $ is the Jacobian of the function $ \\mathbf{f} $ with respect to $ \\mathbf{y} $.\n",
    "\n",
    "In the simplest case, corresponding to a first-order BDF method (also known as the backward Euler method), we have $ \\beta_0 = 1 $. An important metric in analyzing the difficulty of solving the linear system is the condition number of the matrix $ \\mathbf{P} $. This gives insight into how ill-conditioned the system is, and therefore how sensitive the solution is to numerical errors.\n",
    "\n",
    "The condition number $ \\kappa(\\mathbf{P}) $ is given by the ratio of the largest to smallest eigenvalues in magnitude:\n",
    "\n",
    "\\begin{equation}\n",
    "\\kappa(\\mathbf{P}) = \\frac{\\lambda_{\\max}}{\\lambda_{\\min}},\n",
    "\\end{equation}\n",
    "\n",
    "where the eigenvalues are computed for the time-dependent matrix $ \\mathbf{P}(t, \\mathbf{y}) $, defined as\n",
    "\n",
    "\\begin{equation}\n",
    "\\mathbf{P}(t, \\mathbf{y}) = \\mathbf{I} - t \\mathbf{J}(t, \\mathbf{y}).\n",
    "\\end{equation}"
   ]
  },
  {
   "cell_type": "code",
   "execution_count": null,
   "metadata": {},
   "outputs": [],
   "source": [
    "import os\n",
    "import sys\n",
    "import numpy as np\n",
    "import scipy as sp\n",
    "import joblib as jl\n",
    "import dill as pickle\n",
    "\n",
    "from tqdm import tqdm\n",
    "from typing import *"
   ]
  },
  {
   "cell_type": "code",
   "execution_count": null,
   "metadata": {},
   "outputs": [],
   "source": [
    "import matplotlib.pyplot as plt\n",
    "style = \"/home/zanardi/Workspace/Research/styles/matplotlib/paper_1column.mplstyle\"\n",
    "plt.style.use(style)"
   ]
  },
  {
   "cell_type": "code",
   "execution_count": null,
   "metadata": {},
   "outputs": [],
   "source": [
    "sys.path.append(\"/home/zanardi/Codes/ML/ROMAr/romar/\")\n",
    "from romar import env\n",
    "from romar import utils\n",
    "from romar.systems import BoxAd\n",
    "from romar import postproc as pp"
   ]
  },
  {
   "cell_type": "markdown",
   "metadata": {},
   "source": [
    "Set enviroment"
   ]
  },
  {
   "cell_type": "code",
   "execution_count": null,
   "metadata": {},
   "outputs": [],
   "source": [
    "env_opts = {\n",
    "  \"backend\": \"numpy\",\n",
    "  \"device\": \"cpu\",\n",
    "  \"device_idx\": 0,\n",
    "  \"nb_threads\": 2,\n",
    "  \"epsilon\": None,\n",
    "  \"floatx\": \"float64\",\n",
    "  \"seed\": 0\n",
    "}\n",
    "env.set(**env_opts)"
   ]
  },
  {
   "cell_type": "markdown",
   "metadata": {},
   "source": [
    "Set inputs"
   ]
  },
  {
   "cell_type": "code",
   "execution_count": null,
   "metadata": {},
   "outputs": [],
   "source": [
    "# Trajectories indices\n",
    "irange = [0, 100]\n",
    "# Parallel workers\n",
    "nb_workers = 10\n",
    "# Paths\n",
    "prefix = \"/home/zanardi/Codes/ML/ROMAr/runs/run_04_cc/\"\n",
    "paths = {\n",
    "  # > ROM basis\n",
    "  \"basis\": prefix + \"/max_mom_2/models/cobras/basis_varimax_psi.p\",\n",
    "  # > Path to solutions folder\n",
    "  \"data\": prefix + \"/data/rho_fixed/test/\",\n",
    "  # > Thermochemical database\n",
    "  \"dtb\": \"/home/zanardi/Codes/ML/ROMAr/romar/examples/database/\",\n",
    "  # > Output folder\n",
    "  \"out\": \"./jacobian/\"\n",
    "}\n",
    "# Time limit\n",
    "tlim = [1e-9, 1e-3]\n",
    "# Number of ROM dimensions\n",
    "rdims = np.arange(7,11)"
   ]
  },
  {
   "cell_type": "code",
   "execution_count": null,
   "metadata": {},
   "outputs": [],
   "source": [
    "os.makedirs(paths[\"out\"], exist_ok=True)"
   ]
  },
  {
   "cell_type": "markdown",
   "metadata": {},
   "source": [
    "Initialize 0D thermochemical system"
   ]
  },
  {
   "cell_type": "code",
   "execution_count": null,
   "metadata": {},
   "outputs": [],
   "source": [
    "system = BoxAd(\n",
    "  species={k: paths[\"dtb\"] + \"/species/\" + k + \".json\" for k in (\"Ar\", \"Arp\", \"em\")},\n",
    "  kin_dtb=paths[\"dtb\"] + \"/rates/kin_fit.p\",\n",
    "  rad_dtb=paths[\"dtb\"] + \"/rates/rad_fit.p\",\n",
    "  use_rad=True,\n",
    "  use_proj=False,\n",
    "  use_tables=False\n",
    ")"
   ]
  },
  {
   "cell_type": "markdown",
   "metadata": {},
   "source": [
    "Evaluate FOM/ROM Jacobians"
   ]
  },
  {
   "cell_type": "code",
   "execution_count": null,
   "metadata": {},
   "outputs": [],
   "source": [
    "def evaluate_parallel(\n",
    "  irange,\n",
    "  nb_workers,\n",
    "  eval_fun,\n",
    "  **kwargs\n",
    "):\n",
    "  iterable = tqdm(\n",
    "    iterable=range(*irange),\n",
    "    ncols=80,\n",
    "    desc=\"  Cases\",\n",
    "    file=sys.stdout\n",
    "  )\n",
    "  return jl.Parallel(nb_workers)(\n",
    "    jl.delayed(\n",
    "      env.make_fun_parallel(eval_fun)\n",
    "    )(index=i, **kwargs) for i in iterable\n",
    "  )\n",
    "\n",
    "def evaluate_fom(\n",
    "  system,\n",
    "  path,\n",
    "  index,\n",
    "  tlim=None\n",
    "):\n",
    "  system.use_rom = False\n",
    "  # Load test case\n",
    "  icase = utils.load_case(path=path, index=index)\n",
    "  t, rho, y = [icase[k] for k in (\"t\", \"rho\", \"y\")]\n",
    "  # Time window\n",
    "  if (tlim is not None):\n",
    "    i = (t >= np.amin(tlim)) * (t <= np.amax(tlim))\n",
    "    t = t[i]\n",
    "    y = y[:,i]\n",
    "  # Compute timescale and condition number\n",
    "  tmin, knum = _compute_tmin_knum(system, t, y, rho)\n",
    "  return {\n",
    "    \"t\": t,\n",
    "    \"tmin\": tmin,\n",
    "    \"knum\": knum,\n",
    "  }\n",
    "\n",
    "def evaluate_rom(\n",
    "  system,\n",
    "  path,\n",
    "  index,\n",
    "  tout=0.0,\n",
    "  tlim=None\n",
    "):\n",
    "  system.use_rom = True\n",
    "  # Load test case\n",
    "  icase = utils.load_case(path=path, index=index)\n",
    "  t, y0, rho = [icase[k] for k in (\"t\", \"y0\", \"rho\")]\n",
    "  # Time window\n",
    "  if (tlim is not None):\n",
    "    i = (t >= np.amin(tlim)) * (t <= np.amax(tlim))\n",
    "    t = t[i]\n",
    "  # Solve ROM\n",
    "  z, _ = system.solve_rom(t, y0, rho, tout=tout, decode=False)\n",
    "  # Postprocess\n",
    "  if ((z is not None) and (z.shape[1] == len(t))):\n",
    "    # > Compute energy\n",
    "    zhat = z[:system.rom.size_zhat]\n",
    "    energy = np.sum(zhat*zhat, axis=0)\n",
    "    # > Compute timescale and condition number\n",
    "    tmin, knum = _compute_tmin_knum(system, t, z, rho)\n",
    "    # > Return data\n",
    "    return {\n",
    "      \"t\": t,\n",
    "      \"tmin\": tmin,\n",
    "      \"knum\": knum,\n",
    "      \"energy\": energy\n",
    "    }\n",
    "\n",
    "def build_rom(system, path_to_basis, rdim):\n",
    "  with open(path_to_basis, \"rb\") as file:\n",
    "    basis = pickle.load(file)\n",
    "  system.rom.build(\n",
    "    phi=basis[\"phi\"][rdim],\n",
    "    psi=basis[\"psi\"][rdim],\n",
    "    **{k: basis[k] for k in (\"mask\", \"xref\", \"xscale\")}\n",
    "  )\n",
    "\n",
    "def _compute_tmin_knum(\n",
    "  system,\n",
    "  t,\n",
    "  y,\n",
    "  rho\n",
    "):\n",
    "  tmin, knum = [], []\n",
    "  for (i, yi) in enumerate(y.T):\n",
    "    # Compute the Jacobian\n",
    "    yi = system.set_up(yi, rho)\n",
    "    Ji = system.jac(t[i], yi)\n",
    "    li = sp.linalg.eigvals(Ji)\n",
    "    # Compute the smallest timescale\n",
    "    itmin = 1.0/np.abs(li.real).max()\n",
    "    tmin.append(itmin)\n",
    "    # Compute the condition number\n",
    "    li = np.abs(1.0 - t[i] * li.real)\n",
    "    iknum = li.max() / li.min()\n",
    "    knum.append(iknum)\n",
    "  tmin = np.asarray(tmin)\n",
    "  knum = np.asarray(knum)\n",
    "  return tmin, knum"
   ]
  },
  {
   "cell_type": "code",
   "execution_count": null,
   "metadata": {},
   "outputs": [],
   "source": [
    "data = {}\n",
    "kwargs = dict(\n",
    "  irange=irange,\n",
    "  nb_workers=nb_workers,\n",
    "  system=system,\n",
    "  path=paths[\"data\"],\n",
    "  tlim=tlim\n",
    ")\n",
    "# Evaluate FOM\n",
    "data[\"FOM\"] = evaluate_parallel(\n",
    "  eval_fun=evaluate_fom,\n",
    "  **kwargs\n",
    ")\n",
    "# Evaluate ROMs\n",
    "for rdim in rdims:\n",
    "  build_rom(system, paths[\"basis\"], rdim)\n",
    "  data[fr\"$r={rdim}$\"] = evaluate_parallel(\n",
    "    eval_fun=evaluate_rom,\n",
    "    **kwargs\n",
    "  )"
   ]
  },
  {
   "cell_type": "code",
   "execution_count": null,
   "metadata": {},
   "outputs": [],
   "source": [
    "stats = {}\n",
    "for (model, trajs) in data.items():\n",
    "  stats[model] = {\"t\": trajs[0][\"t\"]}\n",
    "  for k in trajs[0].keys():\n",
    "    if (k == \"t\"):\n",
    "      continue\n",
    "    kdata = np.vstack([traj[k] for traj in trajs])\n",
    "    stats[model][k] = {\n",
    "      \"size\": len(kdata),\n",
    "      \"mean\": np.mean(kdata, axis=0),\n",
    "      \"sem\": sp.stats.sem(kdata, axis=0)\n",
    "    }"
   ]
  },
  {
   "cell_type": "markdown",
   "metadata": {},
   "source": [
    "Plot Jacobian-related quantities"
   ]
  },
  {
   "cell_type": "code",
   "execution_count": null,
   "metadata": {},
   "outputs": [],
   "source": [
    "for (k, ylabel) in (\n",
    "  (\"knum\",   r\"$\\kappa$\"),\n",
    "  (\"tmin\", r\"$\\tau$ [s]\")\n",
    "):\n",
    "  pp.plot_err_ci_evolution(\n",
    "    x=stats[\"FOM\"][\"t\"],\n",
    "    mean={m: stats[m][k][\"mean\"] for m  in stats.keys()},\n",
    "    sem={m: stats[m][k][\"sem\"] for m  in stats.keys()},\n",
    "    size=stats[\"FOM\"][k][\"size\"],\n",
    "    alpha=1.0,\n",
    "    xlim=tlim,\n",
    "    ylim=None,\n",
    "    labels=[r\"$t$ [s]\", ylabel],\n",
    "    scales=[\"log\", \"log\"],\n",
    "    legend_loc=\"best\",\n",
    "    figname=paths[\"out\"] + f\"/{k}.png\",\n",
    "    save=True,\n",
    "    show=False\n",
    "  )"
   ]
  }
 ],
 "metadata": {
  "kernelspec": {
   "display_name": "sciml",
   "language": "python",
   "name": "python3"
  },
  "language_info": {
   "codemirror_mode": {
    "name": "ipython",
    "version": 3
   },
   "file_extension": ".py",
   "mimetype": "text/x-python",
   "name": "python",
   "nbconvert_exporter": "python",
   "pygments_lexer": "ipython3",
   "version": "3.8.15"
  }
 },
 "nbformat": 4,
 "nbformat_minor": 2
}
