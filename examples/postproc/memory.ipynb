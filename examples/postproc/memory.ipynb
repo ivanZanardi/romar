{
 "cells": [
  {
   "cell_type": "markdown",
   "metadata": {},
   "source": [
    "## Memory usage\n",
    "\n",
    "Set inputs"
   ]
  },
  {
   "cell_type": "code",
   "execution_count": null,
   "metadata": {},
   "outputs": [],
   "source": [
    "nb_comp = [34, 11, 10, 9]\n",
    "nb_temp = 2\n",
    "sizes = [nc + nb_temp for nc in nb_comp]"
   ]
  },
  {
   "cell_type": "markdown",
   "metadata": {},
   "source": [
    "Linear System Solve"
   ]
  },
  {
   "cell_type": "code",
   "execution_count": null,
   "metadata": {},
   "outputs": [],
   "source": [
    "def flops(d):\n",
    "  return 2.0/3.0*d**3 + 2.0*d**2\n",
    "\n",
    "def memory(d, b=8.0):\n",
    "  return b*(d**2 + 2.0*d)"
   ]
  },
  {
   "cell_type": "code",
   "execution_count": null,
   "metadata": {},
   "outputs": [],
   "source": [
    "for d in sizes:\n",
    "  f = flops(d)\n",
    "  m = memory(d)\n",
    "  print(\"d: %i, f: %.3e, f/m: %.3f\" % (d, f, f/m))"
   ]
  },
  {
   "cell_type": "markdown",
   "metadata": {},
   "source": [
    "Matrix-Vector Product"
   ]
  },
  {
   "cell_type": "code",
   "execution_count": null,
   "metadata": {},
   "outputs": [],
   "source": [
    "def flops(d):\n",
    "  return 2.0*d**2 - d\n",
    "\n",
    "def memory(d, b=8.0):\n",
    "  return b*(d**2 + 2.0*d)"
   ]
  },
  {
   "cell_type": "code",
   "execution_count": null,
   "metadata": {},
   "outputs": [],
   "source": [
    "for d in sizes:\n",
    "  f = flops(d)\n",
    "  m = memory(d)\n",
    "  print(\"d: %i, f: %.3e, f/m: %.3f\" % (d, f, f/m))"
   ]
  }
 ],
 "metadata": {
  "kernelspec": {
   "display_name": "Python 3",
   "language": "python",
   "name": "python3"
  },
  "language_info": {
   "codemirror_mode": {
    "name": "ipython",
    "version": 3
   },
   "file_extension": ".py",
   "mimetype": "text/x-python",
   "name": "python",
   "nbconvert_exporter": "python",
   "pygments_lexer": "ipython3",
   "version": "3.8.15"
  }
 },
 "nbformat": 4,
 "nbformat_minor": 2
}
