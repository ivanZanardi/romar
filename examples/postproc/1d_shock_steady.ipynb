{
 "cells": [
  {
   "cell_type": "markdown",
   "metadata": {},
   "source": [
    "### Collisional-radiative model for Argon Plasma\n",
    "#### Steady 1D shock: FOM vs. ROM"
   ]
  },
  {
   "cell_type": "code",
   "execution_count": 1,
   "metadata": {},
   "outputs": [],
   "source": [
    "import os\n",
    "import sys\n",
    "import numpy as np\n",
    "import pandas as pd"
   ]
  },
  {
   "cell_type": "code",
   "execution_count": 2,
   "metadata": {},
   "outputs": [],
   "source": [
    "import matplotlib.pyplot as plt\n",
    "style = \"/home/zanardi/Workspace/Research/styles/matplotlib/paper_1column.mplstyle\"\n",
    "plt.style.use(style)"
   ]
  },
  {
   "cell_type": "code",
   "execution_count": 3,
   "metadata": {},
   "outputs": [],
   "source": [
    "sys.path.append(\"/home/zanardi/Codes/ML/ROMAr/romar/\")\n",
    "from romar import env\n",
    "from romar import utils\n",
    "from romar import systems\n",
    "from romar import postproc as pp"
   ]
  },
  {
   "cell_type": "markdown",
   "metadata": {},
   "source": [
    "Set enviroment"
   ]
  },
  {
   "cell_type": "code",
   "execution_count": 4,
   "metadata": {},
   "outputs": [],
   "source": [
    "env_opts = {\n",
    "  \"backend\": \"numpy\",\n",
    "  \"device\": \"cpu\",\n",
    "  \"device_idx\": 0,\n",
    "  \"nb_threads\": 2,\n",
    "  \"epsilon\": None,\n",
    "  \"floatx\": \"float64\"\n",
    "}\n",
    "env.set(**env_opts)"
   ]
  },
  {
   "cell_type": "markdown",
   "metadata": {},
   "source": [
    "Set inputs"
   ]
  },
  {
   "cell_type": "code",
   "execution_count": 5,
   "metadata": {},
   "outputs": [],
   "source": [
    "paths = {\n",
    "  # > Solutions\n",
    "  \"sols\": {\n",
    "    \"FOM\": \"/home/zanardi/Workspace/AirDatabase/ThermoChemModels/StS/cr_argon/testcases/1d_shock_steady/output_shock_fom/\",\n",
    "    \"CoBRAS\": \"/home/zanardi/Workspace/AirDatabase/ThermoChemModels/StS/cr_argon/testcases/1d_shock_steady/output_shock_rom/\"\n",
    "  },\n",
    "  # > Thermochemical database\n",
    "  \"dtb\": \"/home/zanardi/Codes/ML/ROMAr/romar/examples/database\",\n",
    "  # > Output folder\n",
    "  \"out\": \"./1d_shock_steady_figs/\"\n",
    "}\n",
    "# Names of FOM and ROM\n",
    "names = {\n",
    "  \"FOM\": \"FOM\",\n",
    "  \"ROM\": \"CoBRAS\"\n",
    "}\n",
    "# Space limits [m]\n",
    "xlim = [1e-6, 3e-1]\n",
    "# Names of variables\n",
    "labels = {\n",
    "  \"Th\": \"T_h\",\n",
    "  \"Te\": \"T_e\",\n",
    "  \"Ar\": \"\\\\text{Ar}\",\n",
    "  \"Arp\": \"\\\\text{Ar$^+$}\",\n",
    "  \"em\": \"\\\\text{e$^-$}\"\n",
    "}\n",
    "# Reference values for error\n",
    "hline = {\n",
    "  \"temp\": 1.0,\n",
    "  \"mom\": 1.0,\n",
    "  \"dist\": 10.0\n",
    "}\n",
    "# Epsilon value for error calculation\n",
    "eps = 1e-8"
   ]
  },
  {
   "cell_type": "code",
   "execution_count": 6,
   "metadata": {},
   "outputs": [],
   "source": [
    "os.makedirs(paths[\"out\"], exist_ok=True)"
   ]
  },
  {
   "cell_type": "markdown",
   "metadata": {},
   "source": [
    "Initialize 0D thermochemical system"
   ]
  },
  {
   "cell_type": "code",
   "execution_count": 7,
   "metadata": {},
   "outputs": [],
   "source": [
    "system = systems.BoxAd(\n",
    "  species={k: paths[\"dtb\"] + \"/species/\" + k + \".json\" for k in (\"Ar\", \"Arp\", \"em\")},\n",
    "  kin_dtb=paths[\"dtb\"] + \"/rates/kin_fit.p\",\n",
    "  rad_dtb=paths[\"dtb\"] + \"/rates/rad_fit.p\",\n",
    "  use_rad=True,\n",
    "  use_tables=False\n",
    ")"
   ]
  },
  {
   "cell_type": "markdown",
   "metadata": {},
   "source": [
    "Read FOM and ROM solutions"
   ]
  },
  {
   "cell_type": "code",
   "execution_count": 8,
   "metadata": {},
   "outputs": [],
   "source": [
    "def read_sol(path, system, xlim=None):\n",
    "  # Load shock solution\n",
    "  columns = \"x X_em X_Ar X_Arp u Th Te rho p n H Mf\".split()\n",
    "  sol = np.loadtxt(path + \"/shock.dat\")\n",
    "  sol = pd.DataFrame(data=sol, columns=columns)\n",
    "  # Read locations, velocity, and temperatures\n",
    "  dsol = {k: sol[k].values.reshape(-1) for k in (\"x\", \"u\", \"Th\", \"Te\")}\n",
    "  # Read populations\n",
    "  n = {k: read_pop(path, k).T for k in (\"Ar\", \"Arp\")}\n",
    "  n[\"em\"] = (sol[\"X_em\"] * sol[\"n\"]).values\n",
    "  dsol[\"n\"] = np.vstack([n[k] for k in system.species_order]).T\n",
    "  # Space window\n",
    "  if (xlim is not None):\n",
    "    i = (dsol[\"x\"] >= np.amin(xlim)) * (dsol[\"x\"] <= np.amax(xlim))\n",
    "    dsol = {k: x[i] for k, x in dsol.items()}\n",
    "  # Return\n",
    "  dsol[\"n\"] = dsol[\"n\"].T\n",
    "  return dsol\n",
    "\n",
    "def read_pop(path, species):\n",
    "  ni_gi  = np.loadtxt(path + f\"/pop_{species}.dat\", comments=\"&\", skiprows=2)[:,1]\n",
    "  levels = system.mix.species[species].lev\n",
    "  nb_pts = len(ni_gi) / len(levels[\"g\"])\n",
    "  ni_gi  = np.stack(np.split(ni_gi, nb_pts, axis=0), axis=0)\n",
    "  return ni_gi * levels[\"g\"].numpy()"
   ]
  },
  {
   "cell_type": "code",
   "execution_count": 9,
   "metadata": {},
   "outputs": [],
   "source": [
    "sols = {k: read_sol(path, system, xlim) for (k, path) in paths[\"sols\"].items()}\n",
    "x = sols[names[\"FOM\"]][\"x\"]"
   ]
  },
  {
   "cell_type": "markdown",
   "metadata": {},
   "source": [
    "Postprocess solutions"
   ]
  },
  {
   "cell_type": "code",
   "execution_count": 10,
   "metadata": {},
   "outputs": [],
   "source": [
    "# Primitive variables\n",
    "prim = {k: [sol[i] for i in (\"n\", \"Th\", \"Te\")] for (k, sol) in sols.items()}\n",
    "# Postprocessed solution\n",
    "data = {k: system.postproc_sol(*p) for (k, p) in prim.items()}\n",
    "# Error between ROM and FOM\n",
    "err = {\n",
    "  names[\"ROM\"]: {\n",
    "    \"mom\": system.compute_err_mom(\n",
    "      n_true=prim[names[\"FOM\"]][0],\n",
    "      n_pred=prim[names[\"ROM\"]][0],\n",
    "      eps=eps\n",
    "    ),\n",
    "    \"dist\": system.compute_err_mom(\n",
    "      n_true=prim[names[\"FOM\"]][0],\n",
    "      n_pred=prim[names[\"ROM\"]][0],\n",
    "      eps=eps\n",
    "    ),\n",
    "    \"temp\": system.compute_err_temp(\n",
    "      Ti_true=prim[names[\"FOM\"]][1:],\n",
    "      Ti_pred=prim[names[\"ROM\"]][1:],\n",
    "      eps=eps\n",
    "    )\n",
    "  }\n",
    "}"
   ]
  },
  {
   "cell_type": "markdown",
   "metadata": {},
   "source": [
    "Plot solutions"
   ]
  },
  {
   "cell_type": "markdown",
   "metadata": {},
   "source": [
    "> Temperatures"
   ]
  },
  {
   "cell_type": "code",
   "execution_count": 11,
   "metadata": {},
   "outputs": [],
   "source": [
    "pp.plot_temp_evolution(\n",
    "  path=paths[\"out\"],\n",
    "  x=x,\n",
    "  y=data,\n",
    "  err=err,\n",
    "  xlabel=r\"$x$ [m]\",\n",
    "  xlim=[xlim[0],3e-2],\n",
    "  # ylim_err=[1e-7,3e0],\n",
    "  xscale=\"linear\",\n",
    "  err_scale=\"log\",\n",
    "  legend_loc=\"lower right\",\n",
    "  hline=hline,\n",
    ")"
   ]
  },
  {
   "cell_type": "markdown",
   "metadata": {},
   "source": [
    "> Velocity"
   ]
  },
  {
   "cell_type": "code",
   "execution_count": 12,
   "metadata": {},
   "outputs": [],
   "source": [
    "u_path = paths[\"out\"] + \"/vel/\"\n",
    "os.makedirs(u_path, exist_ok=True)\n",
    "u_sol = {k: sol[\"u\"] for (k, sol) in sols.items()}\n",
    "u_err = {names[\"ROM\"]: utils.absolute_percentage_error(\n",
    "  y_true=sols[names[\"FOM\"]][\"u\"],\n",
    "  y_pred=sols[names[\"ROM\"]][\"u\"],\n",
    "  eps=eps\n",
    ")}\n",
    "pp.plot_evolution(\n",
    "  x=x,\n",
    "  y=u_sol,\n",
    "  xlim=xlim,\n",
    "  labels=[r\"$x$ [m]\", \"$u$ [m/s]\"],\n",
    "  legend_loc=\"best\",\n",
    "  scales=[\"linear\", \"linear\"],\n",
    "  figname=u_path + \"/sol\",\n",
    "  save=True,\n",
    "  show=False\n",
    ")\n",
    "pp.plot_evolution(\n",
    "  x=x,\n",
    "  y=u_err,\n",
    "  xlim=xlim,\n",
    "  ylim=None,\n",
    "  hline=1.0,\n",
    "  labels=[r\"$x$ [m]\", \"$u$ error [\\%]\"],\n",
    "  legend_loc=\"lower right\",\n",
    "  scales=[\"linear\", \"log\"],\n",
    "  figname=u_path + \"/err\",\n",
    "  save=True,\n",
    "  show=False\n",
    ")"
   ]
  },
  {
   "cell_type": "markdown",
   "metadata": {},
   "source": [
    "> Moments"
   ]
  },
  {
   "cell_type": "code",
   "execution_count": 13,
   "metadata": {},
   "outputs": [],
   "source": [
    "pp.plot_mom_evolution(\n",
    "  path=paths[\"out\"],\n",
    "  x=x,\n",
    "  y=data,\n",
    "  err=err,\n",
    "  species=system.mix.species,\n",
    "  labels=labels,\n",
    "  xlabel=r\"$x$ [m]\",\n",
    "  ylim_err=None,\n",
    "  err_scale=\"log\",\n",
    "  hline=hline,\n",
    "  max_mom=2\n",
    ")"
   ]
  }
 ],
 "metadata": {
  "kernelspec": {
   "display_name": "Python 3",
   "language": "python",
   "name": "python3"
  },
  "language_info": {
   "codemirror_mode": {
    "name": "ipython",
    "version": 3
   },
   "file_extension": ".py",
   "mimetype": "text/x-python",
   "name": "python",
   "nbconvert_exporter": "python",
   "pygments_lexer": "ipython3",
   "version": "3.8.15"
  }
 },
 "nbformat": 4,
 "nbformat_minor": 2
}
