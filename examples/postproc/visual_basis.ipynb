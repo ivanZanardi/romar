{
 "cells": [
  {
   "cell_type": "markdown",
   "metadata": {},
   "source": [
    "### Collisional-radiative model for Argon Plasma\n",
    "#### ROM Basis"
   ]
  },
  {
   "cell_type": "code",
   "execution_count": null,
   "metadata": {},
   "outputs": [],
   "source": [
    "# Check these global settings first:\n",
    "GLOBAL_SET = {\n",
    "  # Matplotlib style (None or string)\n",
    "  \"mpl_style\": \"/home/zanardi/Workspace/Research/styles/matplotlib/paper_1column.mplstyle\",\n",
    "  # Path to 'romar' package\n",
    "  \"path_to_romar\": \"/home/zanardi/Codes/ML/ROMAr/romar/\",\n",
    "  # Path to Argon thermochemical database\n",
    "  \"path_to_dtb\": \"/home/zanardi/Codes/ML/ROMAr/romar/examples/database/\",\n",
    "  # Path to simulated run\n",
    "  \"path_to_run\": \"/home/zanardi/Codes/ML/ROMAr/runs/run01/\"\n",
    "}"
   ]
  },
  {
   "cell_type": "code",
   "execution_count": null,
   "metadata": {},
   "outputs": [],
   "source": [
    "import os\n",
    "import sys\n",
    "import numpy as np\n",
    "import dill as pickle"
   ]
  },
  {
   "cell_type": "code",
   "execution_count": null,
   "metadata": {},
   "outputs": [],
   "source": [
    "import matplotlib.pyplot as plt\n",
    "style = GLOBAL_SET[\"mpl_style\"]\n",
    "if ((style is not None) and os.path.exists(style)):\n",
    "  plt.style.use(style)"
   ]
  },
  {
   "cell_type": "code",
   "execution_count": null,
   "metadata": {},
   "outputs": [],
   "source": [
    "sys.path.append(GLOBAL_SET[\"path_to_romar\"])\n",
    "from romar import env\n",
    "from romar import utils\n",
    "from romar.systems import BoxAd\n",
    "from romar import postproc as pp"
   ]
  },
  {
   "cell_type": "markdown",
   "metadata": {},
   "source": [
    "Set enviroment"
   ]
  },
  {
   "cell_type": "code",
   "execution_count": null,
   "metadata": {},
   "outputs": [],
   "source": [
    "env_opts = {\n",
    "  \"backend\": \"numpy\",\n",
    "  \"device\": \"cpu\",\n",
    "  \"device_idx\": 0,\n",
    "  \"nb_threads\": 2,\n",
    "  \"epsilon\": None,\n",
    "  \"floatx\": \"float64\"\n",
    "}\n",
    "env.set(**env_opts)"
   ]
  },
  {
   "cell_type": "markdown",
   "metadata": {},
   "source": [
    "Set inputs"
   ]
  },
  {
   "cell_type": "code",
   "execution_count": null,
   "metadata": {},
   "outputs": [],
   "source": [
    "paths = {\n",
    "  # > ROM basis\n",
    "  \"basis\": GLOBAL_SET[\"path_to_run\"] + \"/max_mom_2/models/cobras/basis_varimax.p\",\n",
    "  # > Path to solutions folder\n",
    "  \"data\": GLOBAL_SET[\"path_to_run\"] + \"/data/test/\",\n",
    "  # > Output folder\n",
    "  \"out\": \"./figs/visual_basis/\"\n",
    "}\n",
    "# Test cases names\n",
    "cases = [\"lrho_lT\", \"lrho_hT\", \"hrho_lT\", \"hrho_hT\", \"mrho_mT\"]\n",
    "# Number of ROM dimensions\n",
    "rdim = 7\n",
    "# Final time for integration\n",
    "tend = 1e-3\n",
    "# Labels for plotting\n",
    "labels = {\n",
    "  \"Th\": \"$T_h$\",\n",
    "  \"Te\": \"$T_e$\",\n",
    "  \"Ar\": \"\\\\text{Ar}\",\n",
    "  \"Arp\": \"\\\\text{Ar$^+$}\",\n",
    "  \"em\": \"\\\\text{e$^-$}\"\n",
    "}"
   ]
  },
  {
   "cell_type": "code",
   "execution_count": null,
   "metadata": {},
   "outputs": [],
   "source": [
    "os.makedirs(paths[\"out\"], exist_ok=True)"
   ]
  },
  {
   "cell_type": "markdown",
   "metadata": {},
   "source": [
    "Initialize 0D thermochemical system"
   ]
  },
  {
   "cell_type": "code",
   "execution_count": null,
   "metadata": {},
   "outputs": [],
   "source": [
    "system = BoxAd(\n",
    "  species={k: GLOBAL_SET[\"path_to_dtb\"] + \"/species/\" + k + \".json\" for k in (\"Ar\", \"Arp\", \"em\")},\n",
    "  kin_dtb=GLOBAL_SET[\"path_to_dtb\"] + \"/rates/kin_fit.p\",\n",
    "  rad_dtb=GLOBAL_SET[\"path_to_dtb\"] + \"/rates/rad_fit.p\",\n",
    "  use_rad=True,\n",
    "  use_proj=False,\n",
    "  use_tables=False\n",
    ")"
   ]
  },
  {
   "cell_type": "markdown",
   "metadata": {},
   "source": [
    "Load ROM basis"
   ]
  },
  {
   "cell_type": "code",
   "execution_count": null,
   "metadata": {},
   "outputs": [],
   "source": [
    "with open(paths[\"basis\"], \"rb\") as file:\n",
    "  basis = pickle.load(file)"
   ]
  },
  {
   "cell_type": "code",
   "execution_count": null,
   "metadata": {},
   "outputs": [],
   "source": [
    "system.rom.build(\n",
    "  phi=basis[\"phi\"][rdim],\n",
    "  psi=basis[\"psi\"][rdim],\n",
    "  **{k: basis[k] for k in (\"mask\", \"xref\", \"xscale\")}\n",
    ")"
   ]
  },
  {
   "cell_type": "markdown",
   "metadata": {},
   "source": [
    "> Plot loadings"
   ]
  },
  {
   "cell_type": "code",
   "execution_count": null,
   "metadata": {},
   "outputs": [],
   "source": [
    "for name in (\"phi\", \"psi\"):\n",
    "  for i in range(rdim):\n",
    "    nb = str(i+1)\n",
    "    b = basis[name][rdim][:,i]\n",
    "    pp.plot_dist_2d(\n",
    "      x=np.arange(len(b)),\n",
    "      y=b,\n",
    "      labels=[r\"$\\epsilon_i$ [eV]\", r\"$\\%s_{%s}$\" % (name, nb)],\n",
    "      scales=[\"linear\", \"linear\"],\n",
    "      markersize=1,\n",
    "      figname=paths[\"out\"] + f\"/{name}_{nb.zfill(2)}\",\n",
    "      save=True,\n",
    "      show=True\n",
    "    )"
   ]
  }
 ],
 "metadata": {
  "kernelspec": {
   "display_name": "Python 3",
   "language": "python",
   "name": "python3"
  },
  "language_info": {
   "codemirror_mode": {
    "name": "ipython",
    "version": 3
   },
   "file_extension": ".py",
   "mimetype": "text/x-python",
   "name": "python",
   "nbconvert_exporter": "python",
   "pygments_lexer": "ipython3",
   "version": "3.8.15"
  }
 },
 "nbformat": 4,
 "nbformat_minor": 2
}
