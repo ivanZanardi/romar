{
 "cells": [
  {
   "cell_type": "markdown",
   "metadata": {},
   "source": [
    "### Collisional-radiative model for Argon Plasma\n",
    "#### ROM Basis"
   ]
  },
  {
   "cell_type": "code",
   "execution_count": null,
   "metadata": {},
   "outputs": [],
   "source": [
    "import os\n",
    "import sys\n",
    "import numpy as np\n",
    "import dill as pickle\n",
    "import matplotlib.pyplot as plt"
   ]
  },
  {
   "cell_type": "code",
   "execution_count": null,
   "metadata": {},
   "outputs": [],
   "source": [
    "sys.path.append(\"/home/zanardi/Codes/ML/ROMAr/romar/\")\n",
    "from romar import env\n",
    "from romar import utils\n",
    "from romar.systems import BoxAd\n",
    "from romar import postproc as pp"
   ]
  },
  {
   "cell_type": "code",
   "execution_count": null,
   "metadata": {},
   "outputs": [],
   "source": [
    "from factor_analyzer.rotator import Rotator, POSSIBLE_ROTATIONS"
   ]
  },
  {
   "cell_type": "markdown",
   "metadata": {},
   "source": [
    "Set enviroment"
   ]
  },
  {
   "cell_type": "code",
   "execution_count": null,
   "metadata": {},
   "outputs": [],
   "source": [
    "env_opts = {\n",
    "  \"backend\": \"numpy\",\n",
    "  \"device\": \"cpu\",\n",
    "  \"device_idx\": 0,\n",
    "  \"nb_threads\": 2,\n",
    "  \"epsilon\": None,\n",
    "  \"floatx\": \"float64\"\n",
    "}\n",
    "env.set(**env_opts)"
   ]
  },
  {
   "cell_type": "markdown",
   "metadata": {},
   "source": [
    "Set inputs"
   ]
  },
  {
   "cell_type": "code",
   "execution_count": null,
   "metadata": {},
   "outputs": [],
   "source": [
    "paths = {\n",
    "  # > ROM basis\n",
    "  \"basis\": \"/home/zanardi/Codes/ML/ROMAr/runs/run01/max_mom_2_GOOD/models_all/cobras/basis.p\",\n",
    "  # > Path to solutions folder\n",
    "  \"data\": \"/home/zanardi/Codes/ML/ROMAr/runs/run04/data/test/\",\n",
    "  # > Thermochemical database\n",
    "  \"dtb\": \"/home/zanardi/Codes/ML/ROMAr/romar/examples/database/\",\n",
    "  # > Output folder\n",
    "  \"out\": \"./visual_basis_figs/\"\n",
    "}\n",
    "# Test cases names\n",
    "cases = [\"lrho_lT\", \"lrho_hT\", \"hrho_lT\", \"hrho_hT\", \"mrho_mT\"]\n",
    "# Number of ROM dimensions\n",
    "rdim = 7\n",
    "# Final time for integration\n",
    "tend = 1e-3\n",
    "# Labels for plotting\n",
    "labels = {\n",
    "  \"Th\": \"$T_h$\",\n",
    "  \"Te\": \"$T_e$\",\n",
    "  \"Ar\": \"\\\\text{Ar}\",\n",
    "  \"Arp\": \"\\\\text{Ar$^+$}\",\n",
    "  \"em\": \"\\\\text{e$^-$}\"\n",
    "}"
   ]
  },
  {
   "cell_type": "code",
   "execution_count": null,
   "metadata": {},
   "outputs": [],
   "source": [
    "os.makedirs(paths[\"out\"], exist_ok=True)"
   ]
  },
  {
   "cell_type": "markdown",
   "metadata": {},
   "source": [
    "Initialize 0D thermochemical system"
   ]
  },
  {
   "cell_type": "code",
   "execution_count": null,
   "metadata": {},
   "outputs": [],
   "source": [
    "system = BoxAd(\n",
    "  species={k: paths[\"dtb\"] + \"/species/\" + k + \".json\" for k in (\"Ar\", \"Arp\", \"em\")},\n",
    "  kin_dtb=paths[\"dtb\"] + \"/rates/kin_fit.p\",\n",
    "  rad_dtb=paths[\"dtb\"] + \"/rates/rad_fit.p\",\n",
    "  use_rad=True,\n",
    "  use_proj=False,\n",
    "  use_tables=False\n",
    ")"
   ]
  },
  {
   "cell_type": "code",
   "execution_count": null,
   "metadata": {},
   "outputs": [],
   "source": [
    "cmats = \"/home/zanardi/Codes/ML/ROMAr/runs/run_04_cc/max_mom_2/models/cobras_wrong/cov_mats.p\"\n",
    "basis = \"/home/zanardi/Codes/ML/ROMAr/runs/run_04_cc/max_mom_2/models/cobras_wrong/basis.p\""
   ]
  },
  {
   "cell_type": "code",
   "execution_count": null,
   "metadata": {},
   "outputs": [],
   "source": [
    "with open(cmats, \"rb\") as file:\n",
    "  cmats = pickle.load(file)\n",
    "with open(basis, \"rb\") as file:\n",
    "  basis = pickle.load(file)"
   ]
  },
  {
   "cell_type": "code",
   "execution_count": null,
   "metadata": {},
   "outputs": [],
   "source": [
    "basis[\"s\"]"
   ]
  },
  {
   "cell_type": "code",
   "execution_count": null,
   "metadata": {},
   "outputs": [],
   "source": [
    "norm = np.linalg.norm(cmats[\"Y\"], axis=0)\n",
    "np.where(norm>8e2)"
   ]
  },
  {
   "cell_type": "code",
   "execution_count": null,
   "metadata": {},
   "outputs": [],
   "source": [
    "basis[\"s\"]"
   ]
  },
  {
   "cell_type": "code",
   "execution_count": null,
   "metadata": {},
   "outputs": [],
   "source": [
    "norm = np.linalg.norm(cmats[\"Y\"], axis=0)"
   ]
  },
  {
   "cell_type": "code",
   "execution_count": null,
   "metadata": {},
   "outputs": [],
   "source": [
    "np.where(norm>8e2)"
   ]
  },
  {
   "cell_type": "code",
   "execution_count": null,
   "metadata": {},
   "outputs": [],
   "source": [
    "import numpy as np"
   ]
  },
  {
   "cell_type": "code",
   "execution_count": null,
   "metadata": {},
   "outputs": [],
   "source": [
    "path = \"/home/zanardi/Codes/ML/ROMAr/runs/run_04_cc/data/train/case_0000.p\""
   ]
  },
  {
   "cell_type": "code",
   "execution_count": null,
   "metadata": {},
   "outputs": [],
   "source": [
    "with open(path, \"rb\") as file:\n",
    "  traj = pickle.load(file)"
   ]
  },
  {
   "cell_type": "code",
   "execution_count": null,
   "metadata": {},
   "outputs": [],
   "source": [
    "x = traj[\"t\"]\n",
    "nt = len(x)"
   ]
  },
  {
   "cell_type": "code",
   "execution_count": null,
   "metadata": {},
   "outputs": [],
   "source": [
    "n = 100\n",
    "f = 0.333\n",
    "x = np.arange(n)\n",
    "s = np.round(f * n)\n",
    "xi = np.array_split(x, s)\n",
    "ii = np.asarray([np.take(xj, xj.size // 2) for xj in xi])\n",
    "ii"
   ]
  },
  {
   "cell_type": "code",
   "execution_count": null,
   "metadata": {},
   "outputs": [],
   "source": [
    "def sample_t0(\n",
    "  nb_t: int,\n",
    "  t0_perc: float\n",
    ") -> np.ndarray:\n",
    "  # Indices vector\n",
    "  i = np.arange(nb_t)\n",
    "  # Number of samples\n",
    "  ns = np.round(t0_perc * nb_t)\n",
    "  # Sample uniformly\n",
    "  ii = np.array_split(i, ns)\n",
    "  return np.asarray([j[j.size//2] for j in ii])"
   ]
  },
  {
   "cell_type": "code",
   "execution_count": null,
   "metadata": {},
   "outputs": [],
   "source": [
    "sample_t0(100, 0.9)"
   ]
  },
  {
   "cell_type": "code",
   "execution_count": null,
   "metadata": {},
   "outputs": [],
   "source": [
    "f = 0.25\n",
    "s = int(1/f)\n",
    "print(s)\n",
    "i = np.arange(start=np.round(s/2), stop=len(x), step=s, dtype=int)\n",
    "len(i), i"
   ]
  },
  {
   "cell_type": "code",
   "execution_count": null,
   "metadata": {},
   "outputs": [],
   "source": [
    "f = 0.1\n",
    "s = int(1/f)\n",
    "print(s)\n",
    "si = i[::s] + int(s/2)\n",
    "si"
   ]
  },
  {
   "cell_type": "code",
   "execution_count": null,
   "metadata": {},
   "outputs": [],
   "source": [
    "# take a value from the center\n",
    "center = np.take(i, i.size // 2)\n",
    "print(center)"
   ]
  },
  {
   "cell_type": "code",
   "execution_count": null,
   "metadata": {},
   "outputs": [],
   "source": [
    "runtimes = [1, None, 2, None]\n",
    "runtimes = [rt for rt in runtimes if (rt is not None)]\n",
    "runtimes"
   ]
  },
  {
   "cell_type": "markdown",
   "metadata": {},
   "source": [
    "Load ROM basis"
   ]
  },
  {
   "cell_type": "code",
   "execution_count": null,
   "metadata": {},
   "outputs": [],
   "source": [
    "with open(paths[\"basis\"], \"rb\") as file:\n",
    "  basis = pickle.load(file)"
   ]
  },
  {
   "cell_type": "code",
   "execution_count": null,
   "metadata": {},
   "outputs": [],
   "source": [
    "rot = Rotator(method=\"varimax\")"
   ]
  },
  {
   "cell_type": "code",
   "execution_count": null,
   "metadata": {},
   "outputs": [],
   "source": [
    "basis[\"phi\"] = {k: rot.fit_transform(b) for k, b in basis[\"phi\"].items()}\n",
    "basis[\"psi\"] = {k: rot.fit_transform(b) for k, b in basis[\"psi\"].items()}\n",
    "# basis[\"mask\"][0] = 0.0\n",
    "# basis[\"xref\"][0] = 0.0\n",
    "# basis[\"xscale\"][0] = 1.0"
   ]
  },
  {
   "cell_type": "code",
   "execution_count": null,
   "metadata": {},
   "outputs": [],
   "source": [
    "# with open(path, \"wb\") as file:\n",
    "#   pickle.dump(basis, file)"
   ]
  },
  {
   "cell_type": "code",
   "execution_count": null,
   "metadata": {},
   "outputs": [],
   "source": [
    "stop"
   ]
  },
  {
   "cell_type": "code",
   "execution_count": null,
   "metadata": {},
   "outputs": [],
   "source": [
    "system.rom.build(\n",
    "  phi=basis[\"phi\"][rdim],\n",
    "  psi=basis[\"psi\"][rdim],\n",
    "  **{k: basis[k] for k in (\"mask\", \"xref\", \"xscale\")}\n",
    ")"
   ]
  },
  {
   "cell_type": "markdown",
   "metadata": {},
   "source": [
    "> Check orthonormalization and singular values"
   ]
  },
  {
   "cell_type": "code",
   "execution_count": null,
   "metadata": {},
   "outputs": [],
   "source": [
    "s = basis[\"s\"]\n",
    "phi = basis[\"phi\"][rdim]\n",
    "psi = basis[\"psi\"][rdim]"
   ]
  },
  {
   "cell_type": "code",
   "execution_count": null,
   "metadata": {},
   "outputs": [],
   "source": [
    "np.diag(phi.T @ psi), s"
   ]
  },
  {
   "cell_type": "markdown",
   "metadata": {},
   "source": [
    "> Plot loadings"
   ]
  },
  {
   "cell_type": "code",
   "execution_count": null,
   "metadata": {},
   "outputs": [],
   "source": [
    "for name in (\"phi\", \"psi\"):\n",
    "  for i in range(rdim):\n",
    "    nb = str(i+1)\n",
    "    b = basis[name][rdim][:,i]\n",
    "    pp.plot_dist_2d(\n",
    "      x=np.arange(len(b)),\n",
    "      y=b,\n",
    "      labels=[r\"$\\epsilon_i$ [eV]\", r\"$\\%s_{%s}$\" % (name, nb)],\n",
    "      scales=[\"linear\", \"linear\"],\n",
    "      markersize=1,\n",
    "      figname=paths[\"out\"] + f\"/{name}_{nb.zfill(2)}\",\n",
    "      save=True,\n",
    "      show=True\n",
    "    )"
   ]
  },
  {
   "cell_type": "markdown",
   "metadata": {},
   "source": [
    "Test ROM model"
   ]
  },
  {
   "cell_type": "code",
   "execution_count": null,
   "metadata": {},
   "outputs": [],
   "source": [
    "testcases = {k: utils.load_case(filename=paths[\"data\"] + \"/case_\" + k + \".p\") for k in cases}"
   ]
  },
  {
   "cell_type": "code",
   "execution_count": null,
   "metadata": {},
   "outputs": [],
   "source": [
    "for (k, testcase) in testcases.items():\n",
    "  # Testcase\n",
    "  print(k)\n",
    "  print(\"=\"*20)\n",
    "  # FOM solution\n",
    "  t, y0, y, rho = [testcase[k] for k in (\"t\", \"y0\", \"y\", \"rho\")]\n",
    "  it = np.argmin(np.abs(t-tend))\n",
    "  t = t[:it]\n",
    "  y = y[:,:it]\n",
    "  system.mix.set_rho(rho)\n",
    "  prim_fom = system.get_prim(y, clip=False)\n",
    "  mom_fom = system.compute_mom(prim_fom[0])\n",
    "  # ROM solution\n",
    "  yrom, runtime = system.solve_rom(t, y0, rho)\n",
    "  print(\"RUNTIME\", runtime)\n",
    "  prim_rom = system.get_prim(yrom, clip=False)\n",
    "  mom_rom = system.compute_mom(prim_rom[0])\n",
    "  nt = len(yrom.T)\n",
    "  nt\n",
    "  # Temperatures\n",
    "  print(\"Th-Te\")\n",
    "  for i in range(2):\n",
    "    plt.semilogx(t[:nt], prim_fom[1+i][:nt])\n",
    "    plt.semilogx(t[:nt], prim_rom[1+i][:nt], ls=\"--\", color=plt.gca().lines[-1].get_color(), lw=2.0)\n",
    "  plt.show()\n",
    "  plt.close()\n",
    "  # Species\n",
    "  for s in system.mix.species.values():\n",
    "    print(s.name)\n",
    "    for i in s.indices:\n",
    "      plt.loglog(t[:nt], prim_fom[0][i,:nt])\n",
    "      plt.loglog(t[:nt], prim_rom[0][i,:nt], ls=\"--\", color=plt.gca().lines[-1].get_color(), lw=2.0)\n",
    "    plt.show()\n",
    "    plt.close()\n",
    "  # Moments\n",
    "  for s in system.mix.species.values():\n",
    "    if (s.name != \"em\"):\n",
    "      for m in range(2):\n",
    "        print(s.name+f\" - Moment: {m}\")\n",
    "        plt.semilogx(t[:nt], mom_fom[s.name][f\"m{m}\"][:nt])\n",
    "        plt.semilogx(t[:nt], mom_rom[s.name][f\"m{m}\"][:nt], ls=\"--\", color=plt.gca().lines[-1].get_color(), lw=2.0)\n",
    "        plt.yscale(\"log\" if (m == 0) else \"linear\")\n",
    "        plt.show()\n",
    "        plt.close()"
   ]
  }
 ],
 "metadata": {
  "kernelspec": {
   "display_name": "Python 3",
   "language": "python",
   "name": "python3"
  },
  "language_info": {
   "codemirror_mode": {
    "name": "ipython",
    "version": 3
   },
   "file_extension": ".py",
   "mimetype": "text/x-python",
   "name": "python",
   "nbconvert_exporter": "python",
   "pygments_lexer": "ipython3",
   "version": "3.8.15"
  }
 },
 "nbformat": 4,
 "nbformat_minor": 2
}
