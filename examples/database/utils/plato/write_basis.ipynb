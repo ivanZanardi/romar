{
 "cells": [
  {
   "cell_type": "markdown",
   "id": "3c2ace68",
   "metadata": {},
   "source": [
    "### Collisional-radiative model for Argon Plasma\n",
    "#### ROM data writing for Plato"
   ]
  },
  {
   "cell_type": "code",
   "execution_count": 1,
   "id": "a1ba1c77",
   "metadata": {},
   "outputs": [],
   "source": [
    "import os\n",
    "import numpy as np\n",
    "import dill as pickle"
   ]
  },
  {
   "cell_type": "markdown",
   "id": "21111d8a",
   "metadata": {},
   "source": [
    "Inputs"
   ]
  },
  {
   "cell_type": "code",
   "execution_count": 2,
   "id": "dab0a1be",
   "metadata": {},
   "outputs": [],
   "source": [
    "nb_species = 34\n",
    "path_to_data = \"/home/zanardi/Codes/ML/ROMAr/run_old2/rad_on_test10/max_mom_2a/cobras_basis.p\"\n",
    "path_to_save = \"./rom_data/\""
   ]
  },
  {
   "cell_type": "code",
   "execution_count": 3,
   "id": "4e9fa3b5",
   "metadata": {},
   "outputs": [],
   "source": [
    "basis = [\"phi\", \"psi\"]\n",
    "arrays = [\"mask\", \"xref\", \"xscale\"]"
   ]
  },
  {
   "cell_type": "code",
   "execution_count": 4,
   "id": "17047caa",
   "metadata": {},
   "outputs": [],
   "source": [
    "os.makedirs(path_to_save, exist_ok=True)"
   ]
  },
  {
   "cell_type": "markdown",
   "id": "d198975f",
   "metadata": {},
   "source": [
    "Load and write data"
   ]
  },
  {
   "cell_type": "code",
   "execution_count": 5,
   "id": "9a062df5",
   "metadata": {},
   "outputs": [],
   "source": [
    "# Load data\n",
    "with open(path_to_data, \"rb\") as f:\n",
    "    data = pickle.load(f)\n",
    "# Write data\n",
    "for k in basis+arrays:\n",
    "  if (k in data):\n",
    "    # Get array\n",
    "    if (k in arrays):\n",
    "      X = data[k][:nb_species]\n",
    "    else:\n",
    "      r = np.amax(list(data[k].keys()))\n",
    "      X = data[k][r]\n",
    "    # Write array\n",
    "    np.savetxt(path_to_save + f\"/{k}.txt\", X, fmt=\"%.18e\")"
   ]
  }
 ],
 "metadata": {
  "kernelspec": {
   "display_name": "Python 3",
   "language": "python",
   "name": "python3"
  },
  "language_info": {
   "codemirror_mode": {
    "name": "ipython",
    "version": 3
   },
   "file_extension": ".py",
   "mimetype": "text/x-python",
   "name": "python",
   "nbconvert_exporter": "python",
   "pygments_lexer": "ipython3",
   "version": "3.8.15"
  }
 },
 "nbformat": 4,
 "nbformat_minor": 5
}
