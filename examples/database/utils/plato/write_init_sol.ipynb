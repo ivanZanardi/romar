{
 "cells": [
  {
   "cell_type": "markdown",
   "id": "3c2ace68",
   "metadata": {},
   "source": [
    "### Collisional-radiative model for Argon Plasma\n",
    "#### Initial solution for Plato"
   ]
  },
  {
   "cell_type": "code",
   "execution_count": 1,
   "id": "a1ba1c77",
   "metadata": {},
   "outputs": [],
   "source": [
    "import os\n",
    "import sys\n",
    "import numpy as np"
   ]
  },
  {
   "cell_type": "code",
   "execution_count": 2,
   "id": "3e6422fc",
   "metadata": {},
   "outputs": [],
   "source": [
    "sys.path.append(\"/home/zanardi/Codes/ML/ROMAr/romar/\")\n",
    "from romar import env\n",
    "from romar import utils\n",
    "from romar.systems import BoxAd"
   ]
  },
  {
   "cell_type": "markdown",
   "id": "8f804033",
   "metadata": {},
   "source": [
    "Set environment"
   ]
  },
  {
   "cell_type": "code",
   "execution_count": 3,
   "id": "2e642ac9",
   "metadata": {},
   "outputs": [],
   "source": [
    "env_opts = {\n",
    "  \"backend\": \"numpy\",\n",
    "  \"device\": \"cpu\",\n",
    "  \"device_idx\": 0,\n",
    "  \"nb_threads\": 2,\n",
    "  \"epsilon\": None,\n",
    "  \"floatx\": \"float64\"\n",
    "}\n",
    "env.set(**env_opts)"
   ]
  },
  {
   "cell_type": "markdown",
   "id": "21111d8a",
   "metadata": {},
   "source": [
    "Inputs"
   ]
  },
  {
   "cell_type": "code",
   "execution_count": 4,
   "id": "dab0a1be",
   "metadata": {},
   "outputs": [],
   "source": [
    "path_to_dtb = \"/home/zanardi/Codes/ML/ROMAr/romar/examples/database\"\n",
    "path_to_sol = \"/home/zanardi/Codes/ML/ROMAr/runs/run01/data/test/case_mrho_mT.p\"\n",
    "path_to_save = \"/home/zanardi/Workspace/AirDatabase/ThermoChemModels/StS/argon/testcases/0d_box_ad/\""
   ]
  },
  {
   "cell_type": "code",
   "execution_count": 5,
   "id": "80bb898f",
   "metadata": {},
   "outputs": [],
   "source": [
    "os.makedirs(path_to_save, exist_ok=True)"
   ]
  },
  {
   "cell_type": "markdown",
   "id": "b308a49e",
   "metadata": {},
   "source": [
    "Initialize box model"
   ]
  },
  {
   "cell_type": "code",
   "execution_count": 6,
   "id": "7da5d4b1",
   "metadata": {},
   "outputs": [],
   "source": [
    "model = BoxAd(\n",
    "  species={k: path_to_dtb + \"/species/\" + k + \".json\" for k in (\"Ar\", \"Arp\", \"em\")},\n",
    "  kin_dtb=path_to_dtb + \"/rates/kin_fit.p\",\n",
    "  rad_dtb=path_to_dtb + \"/rates/rad_fit.p\"\n",
    ")"
   ]
  },
  {
   "cell_type": "markdown",
   "id": "d198975f",
   "metadata": {},
   "source": [
    "Load solution"
   ]
  },
  {
   "cell_type": "code",
   "execution_count": 7,
   "id": "9a062df5",
   "metadata": {},
   "outputs": [],
   "source": [
    "data = utils.load_case(filename=path_to_sol)\n",
    "y0, rho = [data[k] for k in (\"y0\", \"rho\")]"
   ]
  },
  {
   "cell_type": "markdown",
   "id": "6ab9c9f9",
   "metadata": {},
   "source": [
    "Get initial solution - Primitive variables"
   ]
  },
  {
   "cell_type": "code",
   "execution_count": 8,
   "id": "c8023e57",
   "metadata": {},
   "outputs": [],
   "source": [
    "model.mix.set_rho(rho)\n",
    "n, Th, Te = model.get_prim(y0, clip=False)\n",
    "w = model.mix.get_w(n)\n",
    "y0 = np.concatenate([w*rho, Th.reshape(1), Te.reshape(1)])\n",
    "np.savetxt(path_to_save + \"/init_sol.dat\", y0, fmt=\"%.18e\")"
   ]
  }
 ],
 "metadata": {
  "kernelspec": {
   "display_name": "Python 3",
   "language": "python",
   "name": "python3"
  },
  "language_info": {
   "codemirror_mode": {
    "name": "ipython",
    "version": 3
   },
   "file_extension": ".py",
   "mimetype": "text/x-python",
   "name": "python",
   "nbconvert_exporter": "python",
   "pygments_lexer": "ipython3",
   "version": "3.8.15"
  }
 },
 "nbformat": 4,
 "nbformat_minor": 5
}
